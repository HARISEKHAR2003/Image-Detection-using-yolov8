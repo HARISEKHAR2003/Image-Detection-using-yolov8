{
 "cells": [
  {
   "cell_type": "code",
   "execution_count": 13,
   "id": "252ac031",
   "metadata": {},
   "outputs": [],
   "source": [
    "!pip install ultralytics --upgrade -q"
   ]
  },
  {
   "cell_type": "code",
   "execution_count": 14,
   "id": "907608ed",
   "metadata": {},
   "outputs": [],
   "source": [
    "from ultralytics import YOLO"
   ]
  },
  {
   "cell_type": "code",
   "execution_count": 15,
   "id": "c9e25c7d",
   "metadata": {},
   "outputs": [
    {
     "name": "stdout",
     "output_type": "stream",
     "text": [
      "✅ number_plate_dataset.yaml created successfully.\n"
     ]
    }
   ],
   "source": [
    "# Create dataset.yaml for multi-class vehicle & number plate detection\n",
    "yaml_content = '''\\\n",
    "path: C:/EDUCATION/IMAGE DETECTION/NUMBER PLATE DATASET\n",
    "train: images\n",
    "val: images\n",
    "\n",
    "names:\n",
    "  0: Bike\n",
    "  1: Bus\n",
    "  2: Car\n",
    "  3: Number plate\n",
    "  4: Person\n",
    "  5: Truck\n",
    "'''\n",
    "\n",
    "with open('number_plate_dataset.yaml', 'w') as f:\n",
    "    f.write(yaml_content)\n",
    "\n",
    "print(\"✅ number_plate_dataset.yaml created successfully.\")\n"
   ]
  },
  {
   "cell_type": "code",
   "execution_count": 16,
   "id": "89d67937",
   "metadata": {},
   "outputs": [
    {
     "name": "stdout",
     "output_type": "stream",
     "text": [
      "CUDA Version: 12.1\n",
      "Is CUDA available: True\n",
      "GPU Name: NVIDIA GeForce RTX 3050 Laptop GPU\n"
     ]
    }
   ],
   "source": [
    "import torch\n",
    "print(\"CUDA Version:\", torch.version.cuda)\n",
    "print(\"Is CUDA available:\", torch.cuda.is_available())\n",
    "print(\"GPU Name:\", torch.cuda.get_device_name(0))\n",
    "\n"
   ]
  },
  {
   "cell_type": "code",
   "execution_count": 17,
   "id": "04788665",
   "metadata": {},
   "outputs": [
    {
     "name": "stdout",
     "output_type": "stream",
     "text": [
      "Ultralytics 8.3.162  Python-3.9.13 torch-2.5.1+cu121 CUDA:0 (NVIDIA GeForce RTX 3050 Laptop GPU, 4096MiB)\n",
      "\u001b[34m\u001b[1mengine\\trainer: \u001b[0magnostic_nms=False, amp=True, augment=False, auto_augment=randaugment, batch=8, bgr=0.0, box=7.5, cache=False, cfg=None, classes=None, close_mosaic=10, cls=0.5, conf=None, copy_paste=0.0, copy_paste_mode=flip, cos_lr=True, cutmix=0.0, data=number_plate_dataset.yaml, degrees=0.0, deterministic=True, device=0, dfl=1.5, dnn=False, dropout=0.0, dynamic=False, embed=None, epochs=100, erasing=0.4, exist_ok=True, fliplr=0.5, flipud=0.0, format=torchscript, fraction=1.0, freeze=None, half=False, hsv_h=0.015, hsv_s=0.7, hsv_v=0.4, imgsz=640, int8=False, iou=0.7, keras=False, kobj=1.0, line_width=None, lr0=0.001, lrf=0.01, mask_ratio=4, max_det=300, mixup=0.0, mode=train, model=yolov8n.pt, momentum=0.937, mosaic=1.0, multi_scale=False, name=yolov8n_gpu_optimized_v2, nbs=64, nms=False, opset=None, optimize=False, optimizer=Adam, overlap_mask=True, patience=100, perspective=0.0, plots=True, pose=12.0, pretrained=True, profile=False, project=number_plate_project, rect=False, resume=False, retina_masks=False, save=True, save_conf=False, save_crop=False, save_dir=number_plate_project\\yolov8n_gpu_optimized_v2, save_frames=False, save_json=False, save_period=-1, save_txt=False, scale=0.5, seed=0, shear=0.0, show=False, show_boxes=True, show_conf=True, show_labels=True, simplify=True, single_cls=False, source=None, split=val, stream_buffer=False, task=detect, time=None, tracker=botsort.yaml, translate=0.1, val=True, verbose=True, vid_stride=1, visualize=False, warmup_bias_lr=0.1, warmup_epochs=5, warmup_momentum=0.8, weight_decay=0.0005, workers=8, workspace=None\n",
      "Overriding model.yaml nc=80 with nc=6\n",
      "\n",
      "                   from  n    params  module                                       arguments                     \n",
      "  0                  -1  1       464  ultralytics.nn.modules.conv.Conv             [3, 16, 3, 2]                 \n",
      "  1                  -1  1      4672  ultralytics.nn.modules.conv.Conv             [16, 32, 3, 2]                \n",
      "  2                  -1  1      7360  ultralytics.nn.modules.block.C2f             [32, 32, 1, True]             \n",
      "  3                  -1  1     18560  ultralytics.nn.modules.conv.Conv             [32, 64, 3, 2]                \n",
      "  4                  -1  2     49664  ultralytics.nn.modules.block.C2f             [64, 64, 2, True]             \n",
      "  5                  -1  1     73984  ultralytics.nn.modules.conv.Conv             [64, 128, 3, 2]               \n",
      "  6                  -1  2    197632  ultralytics.nn.modules.block.C2f             [128, 128, 2, True]           \n",
      "  7                  -1  1    295424  ultralytics.nn.modules.conv.Conv             [128, 256, 3, 2]              \n",
      "  8                  -1  1    460288  ultralytics.nn.modules.block.C2f             [256, 256, 1, True]           \n",
      "  9                  -1  1    164608  ultralytics.nn.modules.block.SPPF            [256, 256, 5]                 \n",
      " 10                  -1  1         0  torch.nn.modules.upsampling.Upsample         [None, 2, 'nearest']          \n",
      " 11             [-1, 6]  1         0  ultralytics.nn.modules.conv.Concat           [1]                           \n",
      " 12                  -1  1    148224  ultralytics.nn.modules.block.C2f             [384, 128, 1]                 \n",
      " 13                  -1  1         0  torch.nn.modules.upsampling.Upsample         [None, 2, 'nearest']          \n",
      " 14             [-1, 4]  1         0  ultralytics.nn.modules.conv.Concat           [1]                           \n",
      " 15                  -1  1     37248  ultralytics.nn.modules.block.C2f             [192, 64, 1]                  \n",
      " 16                  -1  1     36992  ultralytics.nn.modules.conv.Conv             [64, 64, 3, 2]                \n",
      " 17            [-1, 12]  1         0  ultralytics.nn.modules.conv.Concat           [1]                           \n",
      " 18                  -1  1    123648  ultralytics.nn.modules.block.C2f             [192, 128, 1]                 \n",
      " 19                  -1  1    147712  ultralytics.nn.modules.conv.Conv             [128, 128, 3, 2]              \n",
      " 20             [-1, 9]  1         0  ultralytics.nn.modules.conv.Concat           [1]                           \n",
      " 21                  -1  1    493056  ultralytics.nn.modules.block.C2f             [384, 256, 1]                 \n",
      " 22        [15, 18, 21]  1    752482  ultralytics.nn.modules.head.Detect           [6, [64, 128, 256]]           \n",
      "Model summary: 129 layers, 3,012,018 parameters, 3,012,002 gradients, 8.2 GFLOPs\n",
      "\n",
      "Transferred 319/355 items from pretrained weights\n",
      "Freezing layer 'model.22.dfl.conv.weight'\n",
      "\u001b[34m\u001b[1mAMP: \u001b[0mrunning Automatic Mixed Precision (AMP) checks...\n",
      "\u001b[34m\u001b[1mAMP: \u001b[0mchecks passed \n",
      "\u001b[34m\u001b[1mtrain: \u001b[0mFast image access  (ping: 0.10.0 ms, read: 514.2342.5 MB/s, size: 76.1 KB)\n"
     ]
    },
    {
     "name": "stderr",
     "output_type": "stream",
     "text": [
      "\u001b[34m\u001b[1mtrain: \u001b[0mScanning C:\\EDUCATION\\IMAGE DETECTION\\NUMBER PLATE DATASET\\labels.cache... 99 images, 0 backgrounds, 0 corrupt: 100%|██████████| 99/99 [00:00<?, ?it/s]\n"
     ]
    },
    {
     "name": "stdout",
     "output_type": "stream",
     "text": [
      "\u001b[34m\u001b[1mval: \u001b[0mFast image access  (ping: 0.10.0 ms, read: 417.8142.3 MB/s, size: 79.1 KB)\n"
     ]
    },
    {
     "name": "stderr",
     "output_type": "stream",
     "text": [
      "\u001b[34m\u001b[1mval: \u001b[0mScanning C:\\EDUCATION\\IMAGE DETECTION\\NUMBER PLATE DATASET\\labels.cache... 99 images, 0 backgrounds, 0 corrupt: 100%|██████████| 99/99 [00:00<?, ?it/s]\n"
     ]
    },
    {
     "name": "stdout",
     "output_type": "stream",
     "text": [
      "Plotting labels to number_plate_project\\yolov8n_gpu_optimized_v2\\labels.jpg... \n",
      "\u001b[34m\u001b[1moptimizer:\u001b[0m Adam(lr=0.001, momentum=0.937) with parameter groups 57 weight(decay=0.0), 64 weight(decay=0.0005), 63 bias(decay=0.0)\n",
      "Image sizes 640 train, 640 val\n",
      "Using 8 dataloader workers\n",
      "Logging results to \u001b[1mnumber_plate_project\\yolov8n_gpu_optimized_v2\u001b[0m\n",
      "Starting training for 100 epochs...\n",
      "\n",
      "      Epoch    GPU_mem   box_loss   cls_loss   dfl_loss  Instances       Size\n"
     ]
    },
    {
     "name": "stderr",
     "output_type": "stream",
     "text": [
      "      1/100      1.12G      1.629      3.423      1.607         17        640: 100%|██████████| 13/13 [00:03<00:00,  3.42it/s]\n",
      "                 Class     Images  Instances      Box(P          R      mAP50  mAP50-95): 100%|██████████| 7/7 [00:01<00:00,  5.62it/s]"
     ]
    },
    {
     "name": "stdout",
     "output_type": "stream",
     "text": [
      "                   all         99        380    0.00328      0.357     0.0218    0.00928\n"
     ]
    },
    {
     "name": "stderr",
     "output_type": "stream",
     "text": [
      "\n"
     ]
    },
    {
     "name": "stdout",
     "output_type": "stream",
     "text": [
      "\n",
      "      Epoch    GPU_mem   box_loss   cls_loss   dfl_loss  Instances       Size\n"
     ]
    },
    {
     "name": "stderr",
     "output_type": "stream",
     "text": [
      "      2/100      1.28G      1.656      2.737      1.568         21        640: 100%|██████████| 13/13 [00:01<00:00,  7.38it/s]\n",
      "                 Class     Images  Instances      Box(P          R      mAP50  mAP50-95): 100%|██████████| 7/7 [00:00<00:00,  7.88it/s]"
     ]
    },
    {
     "name": "stdout",
     "output_type": "stream",
     "text": [
      "                   all         99        380    0.00291      0.324      0.041     0.0183\n"
     ]
    },
    {
     "name": "stderr",
     "output_type": "stream",
     "text": [
      "\n"
     ]
    },
    {
     "name": "stdout",
     "output_type": "stream",
     "text": [
      "\n",
      "      Epoch    GPU_mem   box_loss   cls_loss   dfl_loss  Instances       Size\n"
     ]
    },
    {
     "name": "stderr",
     "output_type": "stream",
     "text": [
      "      3/100      1.28G      1.652      2.519       1.59         18        640: 100%|██████████| 13/13 [00:01<00:00,  7.17it/s]\n",
      "                 Class     Images  Instances      Box(P          R      mAP50  mAP50-95): 100%|██████████| 7/7 [00:00<00:00,  8.30it/s]"
     ]
    },
    {
     "name": "stdout",
     "output_type": "stream",
     "text": [
      "                   all         99        380      0.849     0.0313     0.0952     0.0432\n"
     ]
    },
    {
     "name": "stderr",
     "output_type": "stream",
     "text": [
      "\n"
     ]
    },
    {
     "name": "stdout",
     "output_type": "stream",
     "text": [
      "\n",
      "      Epoch    GPU_mem   box_loss   cls_loss   dfl_loss  Instances       Size\n"
     ]
    },
    {
     "name": "stderr",
     "output_type": "stream",
     "text": [
      "      4/100      1.28G      1.605      2.185      1.531         27        640: 100%|██████████| 13/13 [00:01<00:00,  7.68it/s]\n",
      "                 Class     Images  Instances      Box(P          R      mAP50  mAP50-95): 100%|██████████| 7/7 [00:00<00:00,  8.25it/s]"
     ]
    },
    {
     "name": "stdout",
     "output_type": "stream",
     "text": [
      "                   all         99        380       0.84     0.0801       0.16     0.0872\n"
     ]
    },
    {
     "name": "stderr",
     "output_type": "stream",
     "text": [
      "\n"
     ]
    },
    {
     "name": "stdout",
     "output_type": "stream",
     "text": [
      "\n",
      "      Epoch    GPU_mem   box_loss   cls_loss   dfl_loss  Instances       Size\n"
     ]
    },
    {
     "name": "stderr",
     "output_type": "stream",
     "text": [
      "      5/100      1.28G      1.632      2.062      1.547         22        640: 100%|██████████| 13/13 [00:01<00:00,  8.01it/s]\n",
      "                 Class     Images  Instances      Box(P          R      mAP50  mAP50-95): 100%|██████████| 7/7 [00:00<00:00,  8.27it/s]"
     ]
    },
    {
     "name": "stdout",
     "output_type": "stream",
     "text": [
      "                   all         99        380      0.446      0.169      0.196     0.0985\n"
     ]
    },
    {
     "name": "stderr",
     "output_type": "stream",
     "text": [
      "\n"
     ]
    },
    {
     "name": "stdout",
     "output_type": "stream",
     "text": [
      "\n",
      "      Epoch    GPU_mem   box_loss   cls_loss   dfl_loss  Instances       Size\n"
     ]
    },
    {
     "name": "stderr",
     "output_type": "stream",
     "text": [
      "      6/100      1.28G      1.618      1.944      1.547         23        640: 100%|██████████| 13/13 [00:01<00:00,  8.45it/s]\n",
      "                 Class     Images  Instances      Box(P          R      mAP50  mAP50-95): 100%|██████████| 7/7 [00:00<00:00,  8.49it/s]"
     ]
    },
    {
     "name": "stdout",
     "output_type": "stream",
     "text": [
      "                   all         99        380       0.48      0.208      0.291      0.159\n"
     ]
    },
    {
     "name": "stderr",
     "output_type": "stream",
     "text": [
      "\n"
     ]
    },
    {
     "name": "stdout",
     "output_type": "stream",
     "text": [
      "\n",
      "      Epoch    GPU_mem   box_loss   cls_loss   dfl_loss  Instances       Size\n"
     ]
    },
    {
     "name": "stderr",
     "output_type": "stream",
     "text": [
      "      7/100      1.28G      1.627       1.87      1.565         23        640: 100%|██████████| 13/13 [00:01<00:00,  8.18it/s]\n",
      "                 Class     Images  Instances      Box(P          R      mAP50  mAP50-95): 100%|██████████| 7/7 [00:00<00:00,  8.34it/s]"
     ]
    },
    {
     "name": "stdout",
     "output_type": "stream",
     "text": [
      "                   all         99        380      0.602      0.221      0.283      0.152\n"
     ]
    },
    {
     "name": "stderr",
     "output_type": "stream",
     "text": [
      "\n"
     ]
    },
    {
     "name": "stdout",
     "output_type": "stream",
     "text": [
      "\n",
      "      Epoch    GPU_mem   box_loss   cls_loss   dfl_loss  Instances       Size\n"
     ]
    },
    {
     "name": "stderr",
     "output_type": "stream",
     "text": [
      "      8/100      1.28G       1.62      1.858      1.544         20        640: 100%|██████████| 13/13 [00:01<00:00,  8.39it/s]\n",
      "                 Class     Images  Instances      Box(P          R      mAP50  mAP50-95): 100%|██████████| 7/7 [00:00<00:00,  8.00it/s]"
     ]
    },
    {
     "name": "stdout",
     "output_type": "stream",
     "text": [
      "                   all         99        380      0.578      0.234      0.313      0.153\n"
     ]
    },
    {
     "name": "stderr",
     "output_type": "stream",
     "text": [
      "\n"
     ]
    },
    {
     "name": "stdout",
     "output_type": "stream",
     "text": [
      "\n",
      "      Epoch    GPU_mem   box_loss   cls_loss   dfl_loss  Instances       Size\n"
     ]
    },
    {
     "name": "stderr",
     "output_type": "stream",
     "text": [
      "      9/100      1.28G      1.636      2.022      1.581         18        640: 100%|██████████| 13/13 [00:01<00:00,  8.44it/s]\n",
      "                 Class     Images  Instances      Box(P          R      mAP50  mAP50-95): 100%|██████████| 7/7 [00:00<00:00,  8.13it/s]"
     ]
    },
    {
     "name": "stdout",
     "output_type": "stream",
     "text": [
      "                   all         99        380      0.605      0.268      0.364      0.193\n"
     ]
    },
    {
     "name": "stderr",
     "output_type": "stream",
     "text": [
      "\n"
     ]
    },
    {
     "name": "stdout",
     "output_type": "stream",
     "text": [
      "\n",
      "      Epoch    GPU_mem   box_loss   cls_loss   dfl_loss  Instances       Size\n"
     ]
    },
    {
     "name": "stderr",
     "output_type": "stream",
     "text": [
      "     10/100      1.28G      1.594      1.886      1.562         10        640: 100%|██████████| 13/13 [00:01<00:00,  8.62it/s]\n",
      "                 Class     Images  Instances      Box(P          R      mAP50  mAP50-95): 100%|██████████| 7/7 [00:00<00:00,  8.06it/s]"
     ]
    },
    {
     "name": "stdout",
     "output_type": "stream",
     "text": [
      "                   all         99        380      0.609      0.301      0.387      0.204\n"
     ]
    },
    {
     "name": "stderr",
     "output_type": "stream",
     "text": [
      "\n"
     ]
    },
    {
     "name": "stdout",
     "output_type": "stream",
     "text": [
      "\n",
      "      Epoch    GPU_mem   box_loss   cls_loss   dfl_loss  Instances       Size\n"
     ]
    },
    {
     "name": "stderr",
     "output_type": "stream",
     "text": [
      "     11/100      1.28G      1.536      1.719      1.488         23        640: 100%|██████████| 13/13 [00:01<00:00,  8.31it/s]\n",
      "                 Class     Images  Instances      Box(P          R      mAP50  mAP50-95): 100%|██████████| 7/7 [00:00<00:00,  8.08it/s]"
     ]
    },
    {
     "name": "stdout",
     "output_type": "stream",
     "text": [
      "                   all         99        380      0.464      0.441      0.381      0.211\n"
     ]
    },
    {
     "name": "stderr",
     "output_type": "stream",
     "text": [
      "\n"
     ]
    },
    {
     "name": "stdout",
     "output_type": "stream",
     "text": [
      "\n",
      "      Epoch    GPU_mem   box_loss   cls_loss   dfl_loss  Instances       Size\n"
     ]
    },
    {
     "name": "stderr",
     "output_type": "stream",
     "text": [
      "     12/100      1.28G      1.533       1.76      1.508         15        640: 100%|██████████| 13/13 [00:01<00:00,  8.15it/s]\n",
      "                 Class     Images  Instances      Box(P          R      mAP50  mAP50-95): 100%|██████████| 7/7 [00:00<00:00,  7.72it/s]"
     ]
    },
    {
     "name": "stdout",
     "output_type": "stream",
     "text": [
      "                   all         99        380      0.683      0.314      0.419      0.225\n"
     ]
    },
    {
     "name": "stderr",
     "output_type": "stream",
     "text": [
      "\n"
     ]
    },
    {
     "name": "stdout",
     "output_type": "stream",
     "text": [
      "\n",
      "      Epoch    GPU_mem   box_loss   cls_loss   dfl_loss  Instances       Size\n"
     ]
    },
    {
     "name": "stderr",
     "output_type": "stream",
     "text": [
      "     13/100      1.28G      1.511      1.715      1.475         40        640: 100%|██████████| 13/13 [00:01<00:00,  8.23it/s]\n",
      "                 Class     Images  Instances      Box(P          R      mAP50  mAP50-95): 100%|██████████| 7/7 [00:00<00:00,  7.62it/s]"
     ]
    },
    {
     "name": "stdout",
     "output_type": "stream",
     "text": [
      "                   all         99        380       0.56      0.442       0.43      0.231\n"
     ]
    },
    {
     "name": "stderr",
     "output_type": "stream",
     "text": [
      "\n"
     ]
    },
    {
     "name": "stdout",
     "output_type": "stream",
     "text": [
      "\n",
      "      Epoch    GPU_mem   box_loss   cls_loss   dfl_loss  Instances       Size\n"
     ]
    },
    {
     "name": "stderr",
     "output_type": "stream",
     "text": [
      "     14/100      1.28G      1.544       1.69      1.511         17        640: 100%|██████████| 13/13 [00:01<00:00,  8.09it/s]\n",
      "                 Class     Images  Instances      Box(P          R      mAP50  mAP50-95): 100%|██████████| 7/7 [00:00<00:00,  7.02it/s]"
     ]
    },
    {
     "name": "stdout",
     "output_type": "stream",
     "text": [
      "                   all         99        380      0.521      0.409      0.474      0.259\n"
     ]
    },
    {
     "name": "stderr",
     "output_type": "stream",
     "text": [
      "\n"
     ]
    },
    {
     "name": "stdout",
     "output_type": "stream",
     "text": [
      "\n",
      "      Epoch    GPU_mem   box_loss   cls_loss   dfl_loss  Instances       Size\n"
     ]
    },
    {
     "name": "stderr",
     "output_type": "stream",
     "text": [
      "     15/100      1.28G      1.497      1.631      1.508         21        640: 100%|██████████| 13/13 [00:01<00:00,  8.34it/s]\n",
      "                 Class     Images  Instances      Box(P          R      mAP50  mAP50-95): 100%|██████████| 7/7 [00:00<00:00,  8.08it/s]"
     ]
    },
    {
     "name": "stdout",
     "output_type": "stream",
     "text": [
      "                   all         99        380      0.478      0.435      0.471      0.252\n"
     ]
    },
    {
     "name": "stderr",
     "output_type": "stream",
     "text": [
      "\n"
     ]
    },
    {
     "name": "stdout",
     "output_type": "stream",
     "text": [
      "\n",
      "      Epoch    GPU_mem   box_loss   cls_loss   dfl_loss  Instances       Size\n"
     ]
    },
    {
     "name": "stderr",
     "output_type": "stream",
     "text": [
      "     16/100      1.28G      1.476      1.615      1.468         21        640: 100%|██████████| 13/13 [00:01<00:00,  8.31it/s]\n",
      "                 Class     Images  Instances      Box(P          R      mAP50  mAP50-95): 100%|██████████| 7/7 [00:00<00:00,  7.66it/s]"
     ]
    },
    {
     "name": "stdout",
     "output_type": "stream",
     "text": [
      "                   all         99        380      0.465      0.421      0.484      0.262\n"
     ]
    },
    {
     "name": "stderr",
     "output_type": "stream",
     "text": [
      "\n"
     ]
    },
    {
     "name": "stdout",
     "output_type": "stream",
     "text": [
      "\n",
      "      Epoch    GPU_mem   box_loss   cls_loss   dfl_loss  Instances       Size\n"
     ]
    },
    {
     "name": "stderr",
     "output_type": "stream",
     "text": [
      "     17/100      1.28G      1.528      1.665      1.452         27        640: 100%|██████████| 13/13 [00:01<00:00,  8.22it/s]\n",
      "                 Class     Images  Instances      Box(P          R      mAP50  mAP50-95): 100%|██████████| 7/7 [00:00<00:00,  7.66it/s]"
     ]
    },
    {
     "name": "stdout",
     "output_type": "stream",
     "text": [
      "                   all         99        380       0.46      0.451      0.492      0.271\n"
     ]
    },
    {
     "name": "stderr",
     "output_type": "stream",
     "text": [
      "\n"
     ]
    },
    {
     "name": "stdout",
     "output_type": "stream",
     "text": [
      "\n",
      "      Epoch    GPU_mem   box_loss   cls_loss   dfl_loss  Instances       Size\n"
     ]
    },
    {
     "name": "stderr",
     "output_type": "stream",
     "text": [
      "     18/100      1.28G      1.496       1.57      1.446         21        640: 100%|██████████| 13/13 [00:01<00:00,  8.72it/s]\n",
      "                 Class     Images  Instances      Box(P          R      mAP50  mAP50-95): 100%|██████████| 7/7 [00:00<00:00,  8.09it/s]"
     ]
    },
    {
     "name": "stdout",
     "output_type": "stream",
     "text": [
      "                   all         99        380      0.489      0.473       0.49      0.276\n"
     ]
    },
    {
     "name": "stderr",
     "output_type": "stream",
     "text": [
      "\n"
     ]
    },
    {
     "name": "stdout",
     "output_type": "stream",
     "text": [
      "\n",
      "      Epoch    GPU_mem   box_loss   cls_loss   dfl_loss  Instances       Size\n"
     ]
    },
    {
     "name": "stderr",
     "output_type": "stream",
     "text": [
      "     19/100      1.28G      1.498      1.611      1.465         27        640: 100%|██████████| 13/13 [00:01<00:00,  8.39it/s]\n",
      "                 Class     Images  Instances      Box(P          R      mAP50  mAP50-95): 100%|██████████| 7/7 [00:00<00:00,  7.87it/s]"
     ]
    },
    {
     "name": "stdout",
     "output_type": "stream",
     "text": [
      "                   all         99        380      0.509      0.468      0.514      0.294\n"
     ]
    },
    {
     "name": "stderr",
     "output_type": "stream",
     "text": [
      "\n"
     ]
    },
    {
     "name": "stdout",
     "output_type": "stream",
     "text": [
      "\n",
      "      Epoch    GPU_mem   box_loss   cls_loss   dfl_loss  Instances       Size\n"
     ]
    },
    {
     "name": "stderr",
     "output_type": "stream",
     "text": [
      "     20/100      1.28G       1.49      1.562      1.465         30        640: 100%|██████████| 13/13 [00:01<00:00,  8.16it/s]\n",
      "                 Class     Images  Instances      Box(P          R      mAP50  mAP50-95): 100%|██████████| 7/7 [00:00<00:00,  7.72it/s]"
     ]
    },
    {
     "name": "stdout",
     "output_type": "stream",
     "text": [
      "                   all         99        380      0.605      0.445      0.526      0.322\n"
     ]
    },
    {
     "name": "stderr",
     "output_type": "stream",
     "text": [
      "\n"
     ]
    },
    {
     "name": "stdout",
     "output_type": "stream",
     "text": [
      "\n",
      "      Epoch    GPU_mem   box_loss   cls_loss   dfl_loss  Instances       Size\n"
     ]
    },
    {
     "name": "stderr",
     "output_type": "stream",
     "text": [
      "     21/100      1.28G      1.475      1.524      1.438         17        640: 100%|██████████| 13/13 [00:01<00:00,  8.60it/s]\n",
      "                 Class     Images  Instances      Box(P          R      mAP50  mAP50-95): 100%|██████████| 7/7 [00:00<00:00,  8.01it/s]"
     ]
    },
    {
     "name": "stdout",
     "output_type": "stream",
     "text": [
      "                   all         99        380      0.689      0.504      0.535      0.334\n"
     ]
    },
    {
     "name": "stderr",
     "output_type": "stream",
     "text": [
      "\n"
     ]
    },
    {
     "name": "stdout",
     "output_type": "stream",
     "text": [
      "\n",
      "      Epoch    GPU_mem   box_loss   cls_loss   dfl_loss  Instances       Size\n"
     ]
    },
    {
     "name": "stderr",
     "output_type": "stream",
     "text": [
      "     22/100      1.28G      1.413      1.576      1.402         14        640: 100%|██████████| 13/13 [00:01<00:00,  8.52it/s]\n",
      "                 Class     Images  Instances      Box(P          R      mAP50  mAP50-95): 100%|██████████| 7/7 [00:00<00:00,  8.11it/s]"
     ]
    },
    {
     "name": "stdout",
     "output_type": "stream",
     "text": [
      "                   all         99        380      0.751      0.531      0.561      0.334\n"
     ]
    },
    {
     "name": "stderr",
     "output_type": "stream",
     "text": [
      "\n"
     ]
    },
    {
     "name": "stdout",
     "output_type": "stream",
     "text": [
      "\n",
      "      Epoch    GPU_mem   box_loss   cls_loss   dfl_loss  Instances       Size\n"
     ]
    },
    {
     "name": "stderr",
     "output_type": "stream",
     "text": [
      "     23/100      1.28G      1.403      1.473      1.412         37        640: 100%|██████████| 13/13 [00:01<00:00,  8.28it/s]\n",
      "                 Class     Images  Instances      Box(P          R      mAP50  mAP50-95): 100%|██████████| 7/7 [00:00<00:00,  8.20it/s]"
     ]
    },
    {
     "name": "stdout",
     "output_type": "stream",
     "text": [
      "                   all         99        380      0.785      0.532      0.557      0.321\n"
     ]
    },
    {
     "name": "stderr",
     "output_type": "stream",
     "text": [
      "\n"
     ]
    },
    {
     "name": "stdout",
     "output_type": "stream",
     "text": [
      "\n",
      "      Epoch    GPU_mem   box_loss   cls_loss   dfl_loss  Instances       Size\n"
     ]
    },
    {
     "name": "stderr",
     "output_type": "stream",
     "text": [
      "     24/100      1.28G      1.508       1.55      1.471         36        640: 100%|██████████| 13/13 [00:01<00:00,  8.70it/s]\n",
      "                 Class     Images  Instances      Box(P          R      mAP50  mAP50-95): 100%|██████████| 7/7 [00:00<00:00,  8.00it/s]"
     ]
    },
    {
     "name": "stdout",
     "output_type": "stream",
     "text": [
      "                   all         99        380      0.786      0.538      0.578      0.349\n"
     ]
    },
    {
     "name": "stderr",
     "output_type": "stream",
     "text": [
      "\n"
     ]
    },
    {
     "name": "stdout",
     "output_type": "stream",
     "text": [
      "\n",
      "      Epoch    GPU_mem   box_loss   cls_loss   dfl_loss  Instances       Size\n"
     ]
    },
    {
     "name": "stderr",
     "output_type": "stream",
     "text": [
      "     25/100      1.28G      1.444        1.5      1.369         33        640: 100%|██████████| 13/13 [00:01<00:00,  7.85it/s]\n",
      "                 Class     Images  Instances      Box(P          R      mAP50  mAP50-95): 100%|██████████| 7/7 [00:01<00:00,  6.86it/s]"
     ]
    },
    {
     "name": "stdout",
     "output_type": "stream",
     "text": [
      "                   all         99        380      0.763      0.576      0.617      0.378\n"
     ]
    },
    {
     "name": "stderr",
     "output_type": "stream",
     "text": [
      "\n"
     ]
    },
    {
     "name": "stdout",
     "output_type": "stream",
     "text": [
      "\n",
      "      Epoch    GPU_mem   box_loss   cls_loss   dfl_loss  Instances       Size\n"
     ]
    },
    {
     "name": "stderr",
     "output_type": "stream",
     "text": [
      "     26/100      1.28G      1.491      1.472      1.407         25        640: 100%|██████████| 13/13 [00:01<00:00,  8.53it/s]\n",
      "                 Class     Images  Instances      Box(P          R      mAP50  mAP50-95): 100%|██████████| 7/7 [00:00<00:00,  7.79it/s]"
     ]
    },
    {
     "name": "stdout",
     "output_type": "stream",
     "text": [
      "                   all         99        380      0.746      0.567      0.613      0.375\n"
     ]
    },
    {
     "name": "stderr",
     "output_type": "stream",
     "text": [
      "\n"
     ]
    },
    {
     "name": "stdout",
     "output_type": "stream",
     "text": [
      "\n",
      "      Epoch    GPU_mem   box_loss   cls_loss   dfl_loss  Instances       Size\n"
     ]
    },
    {
     "name": "stderr",
     "output_type": "stream",
     "text": [
      "     27/100      1.28G      1.427      1.447      1.377         33        640: 100%|██████████| 13/13 [00:01<00:00,  8.56it/s]\n",
      "                 Class     Images  Instances      Box(P          R      mAP50  mAP50-95): 100%|██████████| 7/7 [00:00<00:00,  8.20it/s]"
     ]
    },
    {
     "name": "stdout",
     "output_type": "stream",
     "text": [
      "                   all         99        380      0.883      0.524       0.66      0.418\n"
     ]
    },
    {
     "name": "stderr",
     "output_type": "stream",
     "text": [
      "\n"
     ]
    },
    {
     "name": "stdout",
     "output_type": "stream",
     "text": [
      "\n",
      "      Epoch    GPU_mem   box_loss   cls_loss   dfl_loss  Instances       Size\n"
     ]
    },
    {
     "name": "stderr",
     "output_type": "stream",
     "text": [
      "     28/100      1.28G      1.355      1.414      1.363         19        640: 100%|██████████| 13/13 [00:01<00:00,  8.11it/s]\n",
      "                 Class     Images  Instances      Box(P          R      mAP50  mAP50-95): 100%|██████████| 7/7 [00:00<00:00,  8.26it/s]"
     ]
    },
    {
     "name": "stdout",
     "output_type": "stream",
     "text": [
      "                   all         99        380      0.871      0.565      0.686      0.448\n"
     ]
    },
    {
     "name": "stderr",
     "output_type": "stream",
     "text": [
      "\n"
     ]
    },
    {
     "name": "stdout",
     "output_type": "stream",
     "text": [
      "\n",
      "      Epoch    GPU_mem   box_loss   cls_loss   dfl_loss  Instances       Size\n"
     ]
    },
    {
     "name": "stderr",
     "output_type": "stream",
     "text": [
      "     29/100      1.29G      1.399      1.405      1.371         24        640: 100%|██████████| 13/13 [00:01<00:00,  8.56it/s]\n",
      "                 Class     Images  Instances      Box(P          R      mAP50  mAP50-95): 100%|██████████| 7/7 [00:00<00:00,  8.25it/s]"
     ]
    },
    {
     "name": "stdout",
     "output_type": "stream",
     "text": [
      "                   all         99        380      0.809      0.604      0.703      0.462\n"
     ]
    },
    {
     "name": "stderr",
     "output_type": "stream",
     "text": [
      "\n"
     ]
    },
    {
     "name": "stdout",
     "output_type": "stream",
     "text": [
      "\n",
      "      Epoch    GPU_mem   box_loss   cls_loss   dfl_loss  Instances       Size\n"
     ]
    },
    {
     "name": "stderr",
     "output_type": "stream",
     "text": [
      "     30/100      1.29G      1.396      1.399      1.385         18        640: 100%|██████████| 13/13 [00:01<00:00,  8.31it/s]\n",
      "                 Class     Images  Instances      Box(P          R      mAP50  mAP50-95): 100%|██████████| 7/7 [00:00<00:00,  7.94it/s]"
     ]
    },
    {
     "name": "stdout",
     "output_type": "stream",
     "text": [
      "                   all         99        380      0.824      0.554      0.682      0.439\n"
     ]
    },
    {
     "name": "stderr",
     "output_type": "stream",
     "text": [
      "\n"
     ]
    },
    {
     "name": "stdout",
     "output_type": "stream",
     "text": [
      "\n",
      "      Epoch    GPU_mem   box_loss   cls_loss   dfl_loss  Instances       Size\n"
     ]
    },
    {
     "name": "stderr",
     "output_type": "stream",
     "text": [
      "     31/100      1.29G       1.42      1.328      1.374         38        640: 100%|██████████| 13/13 [00:01<00:00,  7.90it/s]\n",
      "                 Class     Images  Instances      Box(P          R      mAP50  mAP50-95): 100%|██████████| 7/7 [00:00<00:00,  8.07it/s]"
     ]
    },
    {
     "name": "stdout",
     "output_type": "stream",
     "text": [
      "                   all         99        380      0.752      0.626      0.682      0.449\n"
     ]
    },
    {
     "name": "stderr",
     "output_type": "stream",
     "text": [
      "\n"
     ]
    },
    {
     "name": "stdout",
     "output_type": "stream",
     "text": [
      "\n",
      "      Epoch    GPU_mem   box_loss   cls_loss   dfl_loss  Instances       Size\n"
     ]
    },
    {
     "name": "stderr",
     "output_type": "stream",
     "text": [
      "     32/100      1.29G      1.355      1.377      1.351         13        640: 100%|██████████| 13/13 [00:01<00:00,  8.56it/s]\n",
      "                 Class     Images  Instances      Box(P          R      mAP50  mAP50-95): 100%|██████████| 7/7 [00:00<00:00,  8.04it/s]"
     ]
    },
    {
     "name": "stdout",
     "output_type": "stream",
     "text": [
      "                   all         99        380      0.864      0.544       0.71      0.472\n"
     ]
    },
    {
     "name": "stderr",
     "output_type": "stream",
     "text": [
      "\n"
     ]
    },
    {
     "name": "stdout",
     "output_type": "stream",
     "text": [
      "\n",
      "      Epoch    GPU_mem   box_loss   cls_loss   dfl_loss  Instances       Size\n"
     ]
    },
    {
     "name": "stderr",
     "output_type": "stream",
     "text": [
      "     33/100      1.29G      1.394      1.392      1.381         44        640: 100%|██████████| 13/13 [00:01<00:00,  7.99it/s]\n",
      "                 Class     Images  Instances      Box(P          R      mAP50  mAP50-95): 100%|██████████| 7/7 [00:00<00:00,  7.79it/s]"
     ]
    },
    {
     "name": "stdout",
     "output_type": "stream",
     "text": [
      "                   all         99        380      0.783       0.64      0.757      0.493\n"
     ]
    },
    {
     "name": "stderr",
     "output_type": "stream",
     "text": [
      "\n"
     ]
    },
    {
     "name": "stdout",
     "output_type": "stream",
     "text": [
      "\n",
      "      Epoch    GPU_mem   box_loss   cls_loss   dfl_loss  Instances       Size\n"
     ]
    },
    {
     "name": "stderr",
     "output_type": "stream",
     "text": [
      "     34/100      1.29G      1.348      1.365      1.388         15        640: 100%|██████████| 13/13 [00:01<00:00,  8.33it/s]\n",
      "                 Class     Images  Instances      Box(P          R      mAP50  mAP50-95): 100%|██████████| 7/7 [00:00<00:00,  7.76it/s]"
     ]
    },
    {
     "name": "stdout",
     "output_type": "stream",
     "text": [
      "                   all         99        380      0.848      0.613      0.743      0.482\n"
     ]
    },
    {
     "name": "stderr",
     "output_type": "stream",
     "text": [
      "\n"
     ]
    },
    {
     "name": "stdout",
     "output_type": "stream",
     "text": [
      "\n",
      "      Epoch    GPU_mem   box_loss   cls_loss   dfl_loss  Instances       Size\n"
     ]
    },
    {
     "name": "stderr",
     "output_type": "stream",
     "text": [
      "     35/100      1.29G      1.296      1.303      1.353         26        640: 100%|██████████| 13/13 [00:01<00:00,  8.06it/s]\n",
      "                 Class     Images  Instances      Box(P          R      mAP50  mAP50-95): 100%|██████████| 7/7 [00:00<00:00,  8.23it/s]"
     ]
    },
    {
     "name": "stdout",
     "output_type": "stream",
     "text": [
      "                   all         99        380      0.912      0.603      0.774      0.513\n"
     ]
    },
    {
     "name": "stderr",
     "output_type": "stream",
     "text": [
      "\n"
     ]
    },
    {
     "name": "stdout",
     "output_type": "stream",
     "text": [
      "\n",
      "      Epoch    GPU_mem   box_loss   cls_loss   dfl_loss  Instances       Size\n"
     ]
    },
    {
     "name": "stderr",
     "output_type": "stream",
     "text": [
      "     36/100      1.29G       1.33       1.31      1.326         42        640: 100%|██████████| 13/13 [00:01<00:00,  8.38it/s]\n",
      "                 Class     Images  Instances      Box(P          R      mAP50  mAP50-95): 100%|██████████| 7/7 [00:00<00:00,  8.17it/s]"
     ]
    },
    {
     "name": "stdout",
     "output_type": "stream",
     "text": [
      "                   all         99        380      0.916      0.634      0.784      0.545\n"
     ]
    },
    {
     "name": "stderr",
     "output_type": "stream",
     "text": [
      "\n"
     ]
    },
    {
     "name": "stdout",
     "output_type": "stream",
     "text": [
      "\n",
      "      Epoch    GPU_mem   box_loss   cls_loss   dfl_loss  Instances       Size\n"
     ]
    },
    {
     "name": "stderr",
     "output_type": "stream",
     "text": [
      "     37/100      1.29G      1.314        1.3      1.378         33        640: 100%|██████████| 13/13 [00:01<00:00,  8.27it/s]\n",
      "                 Class     Images  Instances      Box(P          R      mAP50  mAP50-95): 100%|██████████| 7/7 [00:00<00:00,  8.30it/s]"
     ]
    },
    {
     "name": "stdout",
     "output_type": "stream",
     "text": [
      "                   all         99        380       0.89      0.599      0.794      0.537\n"
     ]
    },
    {
     "name": "stderr",
     "output_type": "stream",
     "text": [
      "\n"
     ]
    },
    {
     "name": "stdout",
     "output_type": "stream",
     "text": [
      "\n",
      "      Epoch    GPU_mem   box_loss   cls_loss   dfl_loss  Instances       Size\n"
     ]
    },
    {
     "name": "stderr",
     "output_type": "stream",
     "text": [
      "     38/100      1.29G      1.284       1.26      1.327         29        640: 100%|██████████| 13/13 [00:01<00:00,  8.37it/s]\n",
      "                 Class     Images  Instances      Box(P          R      mAP50  mAP50-95): 100%|██████████| 7/7 [00:00<00:00,  8.15it/s]"
     ]
    },
    {
     "name": "stdout",
     "output_type": "stream",
     "text": [
      "                   all         99        380      0.844      0.688      0.791      0.538\n"
     ]
    },
    {
     "name": "stderr",
     "output_type": "stream",
     "text": [
      "\n"
     ]
    },
    {
     "name": "stdout",
     "output_type": "stream",
     "text": [
      "\n",
      "      Epoch    GPU_mem   box_loss   cls_loss   dfl_loss  Instances       Size\n"
     ]
    },
    {
     "name": "stderr",
     "output_type": "stream",
     "text": [
      "     39/100      1.29G      1.268       1.27      1.316          9        640: 100%|██████████| 13/13 [00:01<00:00,  7.98it/s]\n",
      "                 Class     Images  Instances      Box(P          R      mAP50  mAP50-95): 100%|██████████| 7/7 [00:00<00:00,  7.86it/s]"
     ]
    },
    {
     "name": "stdout",
     "output_type": "stream",
     "text": [
      "                   all         99        380      0.914      0.666      0.788      0.537\n"
     ]
    },
    {
     "name": "stderr",
     "output_type": "stream",
     "text": [
      "\n"
     ]
    },
    {
     "name": "stdout",
     "output_type": "stream",
     "text": [
      "\n",
      "      Epoch    GPU_mem   box_loss   cls_loss   dfl_loss  Instances       Size\n"
     ]
    },
    {
     "name": "stderr",
     "output_type": "stream",
     "text": [
      "     40/100      1.29G      1.211      1.229        1.3         18        640: 100%|██████████| 13/13 [00:01<00:00,  8.29it/s]\n",
      "                 Class     Images  Instances      Box(P          R      mAP50  mAP50-95): 100%|██████████| 7/7 [00:00<00:00,  8.37it/s]"
     ]
    },
    {
     "name": "stdout",
     "output_type": "stream",
     "text": [
      "                   all         99        380      0.883      0.675      0.785      0.538\n"
     ]
    },
    {
     "name": "stderr",
     "output_type": "stream",
     "text": [
      "\n"
     ]
    },
    {
     "name": "stdout",
     "output_type": "stream",
     "text": [
      "\n",
      "      Epoch    GPU_mem   box_loss   cls_loss   dfl_loss  Instances       Size\n"
     ]
    },
    {
     "name": "stderr",
     "output_type": "stream",
     "text": [
      "     41/100      1.29G      1.269      1.236       1.29         27        640: 100%|██████████| 13/13 [00:01<00:00,  8.35it/s]\n",
      "                 Class     Images  Instances      Box(P          R      mAP50  mAP50-95): 100%|██████████| 7/7 [00:00<00:00,  7.88it/s]"
     ]
    },
    {
     "name": "stdout",
     "output_type": "stream",
     "text": [
      "                   all         99        380      0.849      0.667      0.758      0.525\n"
     ]
    },
    {
     "name": "stderr",
     "output_type": "stream",
     "text": [
      "\n"
     ]
    },
    {
     "name": "stdout",
     "output_type": "stream",
     "text": [
      "\n",
      "      Epoch    GPU_mem   box_loss   cls_loss   dfl_loss  Instances       Size\n"
     ]
    },
    {
     "name": "stderr",
     "output_type": "stream",
     "text": [
      "     42/100      1.29G      1.177      1.165       1.26         27        640: 100%|██████████| 13/13 [00:01<00:00,  8.70it/s]\n",
      "                 Class     Images  Instances      Box(P          R      mAP50  mAP50-95): 100%|██████████| 7/7 [00:00<00:00,  8.18it/s]"
     ]
    },
    {
     "name": "stdout",
     "output_type": "stream",
     "text": [
      "                   all         99        380      0.792       0.68      0.739      0.505\n"
     ]
    },
    {
     "name": "stderr",
     "output_type": "stream",
     "text": [
      "\n"
     ]
    },
    {
     "name": "stdout",
     "output_type": "stream",
     "text": [
      "\n",
      "      Epoch    GPU_mem   box_loss   cls_loss   dfl_loss  Instances       Size\n"
     ]
    },
    {
     "name": "stderr",
     "output_type": "stream",
     "text": [
      "     43/100      1.29G      1.211      1.184      1.282         33        640: 100%|██████████| 13/13 [00:01<00:00,  8.26it/s]\n",
      "                 Class     Images  Instances      Box(P          R      mAP50  mAP50-95): 100%|██████████| 7/7 [00:00<00:00,  8.26it/s]"
     ]
    },
    {
     "name": "stdout",
     "output_type": "stream",
     "text": [
      "                   all         99        380      0.864      0.655      0.749      0.523\n"
     ]
    },
    {
     "name": "stderr",
     "output_type": "stream",
     "text": [
      "\n"
     ]
    },
    {
     "name": "stdout",
     "output_type": "stream",
     "text": [
      "\n",
      "      Epoch    GPU_mem   box_loss   cls_loss   dfl_loss  Instances       Size\n"
     ]
    },
    {
     "name": "stderr",
     "output_type": "stream",
     "text": [
      "     44/100      1.29G      1.217      1.202      1.285         29        640: 100%|██████████| 13/13 [00:01<00:00,  8.28it/s]\n",
      "                 Class     Images  Instances      Box(P          R      mAP50  mAP50-95): 100%|██████████| 7/7 [00:00<00:00,  8.20it/s]"
     ]
    },
    {
     "name": "stdout",
     "output_type": "stream",
     "text": [
      "                   all         99        380      0.715      0.666      0.756      0.535\n"
     ]
    },
    {
     "name": "stderr",
     "output_type": "stream",
     "text": [
      "\n"
     ]
    },
    {
     "name": "stdout",
     "output_type": "stream",
     "text": [
      "\n",
      "      Epoch    GPU_mem   box_loss   cls_loss   dfl_loss  Instances       Size\n"
     ]
    },
    {
     "name": "stderr",
     "output_type": "stream",
     "text": [
      "     45/100      1.29G      1.225      1.172      1.261         20        640: 100%|██████████| 13/13 [00:01<00:00,  8.61it/s]\n",
      "                 Class     Images  Instances      Box(P          R      mAP50  mAP50-95): 100%|██████████| 7/7 [00:00<00:00,  7.70it/s]"
     ]
    },
    {
     "name": "stdout",
     "output_type": "stream",
     "text": [
      "                   all         99        380      0.751      0.648      0.757      0.518\n"
     ]
    },
    {
     "name": "stderr",
     "output_type": "stream",
     "text": [
      "\n"
     ]
    },
    {
     "name": "stdout",
     "output_type": "stream",
     "text": [
      "\n",
      "      Epoch    GPU_mem   box_loss   cls_loss   dfl_loss  Instances       Size\n"
     ]
    },
    {
     "name": "stderr",
     "output_type": "stream",
     "text": [
      "     46/100      1.29G      1.216      1.188      1.266         14        640: 100%|██████████| 13/13 [00:01<00:00,  8.16it/s]\n",
      "                 Class     Images  Instances      Box(P          R      mAP50  mAP50-95): 100%|██████████| 7/7 [00:00<00:00,  8.30it/s]"
     ]
    },
    {
     "name": "stdout",
     "output_type": "stream",
     "text": [
      "                   all         99        380      0.757      0.636      0.765      0.512\n"
     ]
    },
    {
     "name": "stderr",
     "output_type": "stream",
     "text": [
      "\n"
     ]
    },
    {
     "name": "stdout",
     "output_type": "stream",
     "text": [
      "\n",
      "      Epoch    GPU_mem   box_loss   cls_loss   dfl_loss  Instances       Size\n"
     ]
    },
    {
     "name": "stderr",
     "output_type": "stream",
     "text": [
      "     47/100      1.29G      1.195      1.208      1.239         16        640: 100%|██████████| 13/13 [00:01<00:00,  8.41it/s]\n",
      "                 Class     Images  Instances      Box(P          R      mAP50  mAP50-95): 100%|██████████| 7/7 [00:00<00:00,  8.27it/s]"
     ]
    },
    {
     "name": "stdout",
     "output_type": "stream",
     "text": [
      "                   all         99        380       0.72      0.685      0.777      0.548\n"
     ]
    },
    {
     "name": "stderr",
     "output_type": "stream",
     "text": [
      "\n"
     ]
    },
    {
     "name": "stdout",
     "output_type": "stream",
     "text": [
      "\n",
      "      Epoch    GPU_mem   box_loss   cls_loss   dfl_loss  Instances       Size\n"
     ]
    },
    {
     "name": "stderr",
     "output_type": "stream",
     "text": [
      "     48/100      1.29G      1.194      1.167      1.259         17        640: 100%|██████████| 13/13 [00:01<00:00,  8.10it/s]\n",
      "                 Class     Images  Instances      Box(P          R      mAP50  mAP50-95): 100%|██████████| 7/7 [00:00<00:00,  7.75it/s]"
     ]
    },
    {
     "name": "stdout",
     "output_type": "stream",
     "text": [
      "                   all         99        380      0.707      0.712      0.758      0.542\n"
     ]
    },
    {
     "name": "stderr",
     "output_type": "stream",
     "text": [
      "\n"
     ]
    },
    {
     "name": "stdout",
     "output_type": "stream",
     "text": [
      "\n",
      "      Epoch    GPU_mem   box_loss   cls_loss   dfl_loss  Instances       Size\n"
     ]
    },
    {
     "name": "stderr",
     "output_type": "stream",
     "text": [
      "     49/100      1.29G        1.2      1.114      1.235         31        640: 100%|██████████| 13/13 [00:01<00:00,  8.43it/s]\n",
      "                 Class     Images  Instances      Box(P          R      mAP50  mAP50-95): 100%|██████████| 7/7 [00:00<00:00,  7.97it/s]"
     ]
    },
    {
     "name": "stdout",
     "output_type": "stream",
     "text": [
      "                   all         99        380      0.877      0.703      0.742      0.543\n"
     ]
    },
    {
     "name": "stderr",
     "output_type": "stream",
     "text": [
      "\n"
     ]
    },
    {
     "name": "stdout",
     "output_type": "stream",
     "text": [
      "\n",
      "      Epoch    GPU_mem   box_loss   cls_loss   dfl_loss  Instances       Size\n"
     ]
    },
    {
     "name": "stderr",
     "output_type": "stream",
     "text": [
      "     50/100      1.29G      1.208        1.1      1.248         37        640: 100%|██████████| 13/13 [00:01<00:00,  8.51it/s]\n",
      "                 Class     Images  Instances      Box(P          R      mAP50  mAP50-95): 100%|██████████| 7/7 [00:00<00:00,  8.21it/s]"
     ]
    },
    {
     "name": "stdout",
     "output_type": "stream",
     "text": [
      "                   all         99        380       0.87      0.709      0.751      0.549\n"
     ]
    },
    {
     "name": "stderr",
     "output_type": "stream",
     "text": [
      "\n"
     ]
    },
    {
     "name": "stdout",
     "output_type": "stream",
     "text": [
      "\n",
      "      Epoch    GPU_mem   box_loss   cls_loss   dfl_loss  Instances       Size\n"
     ]
    },
    {
     "name": "stderr",
     "output_type": "stream",
     "text": [
      "     51/100      1.29G      1.137       1.11      1.269         12        640: 100%|██████████| 13/13 [00:01<00:00,  8.31it/s]\n",
      "                 Class     Images  Instances      Box(P          R      mAP50  mAP50-95): 100%|██████████| 7/7 [00:00<00:00,  8.40it/s]"
     ]
    },
    {
     "name": "stdout",
     "output_type": "stream",
     "text": [
      "                   all         99        380      0.874      0.718      0.776      0.557\n"
     ]
    },
    {
     "name": "stderr",
     "output_type": "stream",
     "text": [
      "\n"
     ]
    },
    {
     "name": "stdout",
     "output_type": "stream",
     "text": [
      "\n",
      "      Epoch    GPU_mem   box_loss   cls_loss   dfl_loss  Instances       Size\n"
     ]
    },
    {
     "name": "stderr",
     "output_type": "stream",
     "text": [
      "     52/100      1.29G      1.197      1.095      1.267         19        640: 100%|██████████| 13/13 [00:01<00:00,  8.47it/s]\n",
      "                 Class     Images  Instances      Box(P          R      mAP50  mAP50-95): 100%|██████████| 7/7 [00:00<00:00,  7.75it/s]"
     ]
    },
    {
     "name": "stdout",
     "output_type": "stream",
     "text": [
      "                   all         99        380      0.936      0.698      0.775      0.561\n"
     ]
    },
    {
     "name": "stderr",
     "output_type": "stream",
     "text": [
      "\n"
     ]
    },
    {
     "name": "stdout",
     "output_type": "stream",
     "text": [
      "\n",
      "      Epoch    GPU_mem   box_loss   cls_loss   dfl_loss  Instances       Size\n"
     ]
    },
    {
     "name": "stderr",
     "output_type": "stream",
     "text": [
      "     53/100      1.29G      1.237      1.137      1.271         22        640: 100%|██████████| 13/13 [00:01<00:00,  8.51it/s]\n",
      "                 Class     Images  Instances      Box(P          R      mAP50  mAP50-95): 100%|██████████| 7/7 [00:00<00:00,  8.36it/s]"
     ]
    },
    {
     "name": "stdout",
     "output_type": "stream",
     "text": [
      "                   all         99        380      0.942      0.679      0.781      0.577\n"
     ]
    },
    {
     "name": "stderr",
     "output_type": "stream",
     "text": [
      "\n"
     ]
    },
    {
     "name": "stdout",
     "output_type": "stream",
     "text": [
      "\n",
      "      Epoch    GPU_mem   box_loss   cls_loss   dfl_loss  Instances       Size\n"
     ]
    },
    {
     "name": "stderr",
     "output_type": "stream",
     "text": [
      "     54/100      1.29G      1.096      1.092      1.214         27        640: 100%|██████████| 13/13 [00:01<00:00,  8.35it/s]\n",
      "                 Class     Images  Instances      Box(P          R      mAP50  mAP50-95): 100%|██████████| 7/7 [00:00<00:00,  7.83it/s]"
     ]
    },
    {
     "name": "stdout",
     "output_type": "stream",
     "text": [
      "                   all         99        380      0.915      0.706      0.793      0.575\n"
     ]
    },
    {
     "name": "stderr",
     "output_type": "stream",
     "text": [
      "\n"
     ]
    },
    {
     "name": "stdout",
     "output_type": "stream",
     "text": [
      "\n",
      "      Epoch    GPU_mem   box_loss   cls_loss   dfl_loss  Instances       Size\n"
     ]
    },
    {
     "name": "stderr",
     "output_type": "stream",
     "text": [
      "     55/100      1.29G       1.14      1.112      1.224         13        640: 100%|██████████| 13/13 [00:01<00:00,  8.30it/s]\n",
      "                 Class     Images  Instances      Box(P          R      mAP50  mAP50-95): 100%|██████████| 7/7 [00:00<00:00,  7.75it/s]"
     ]
    },
    {
     "name": "stdout",
     "output_type": "stream",
     "text": [
      "                   all         99        380      0.929      0.684      0.831        0.6\n"
     ]
    },
    {
     "name": "stderr",
     "output_type": "stream",
     "text": [
      "\n"
     ]
    },
    {
     "name": "stdout",
     "output_type": "stream",
     "text": [
      "\n",
      "      Epoch    GPU_mem   box_loss   cls_loss   dfl_loss  Instances       Size\n"
     ]
    },
    {
     "name": "stderr",
     "output_type": "stream",
     "text": [
      "     56/100      1.29G      1.131       1.07      1.213         20        640: 100%|██████████| 13/13 [00:01<00:00,  8.60it/s]\n",
      "                 Class     Images  Instances      Box(P          R      mAP50  mAP50-95): 100%|██████████| 7/7 [00:00<00:00,  8.02it/s]"
     ]
    },
    {
     "name": "stdout",
     "output_type": "stream",
     "text": [
      "                   all         99        380      0.928      0.675      0.836      0.608\n"
     ]
    },
    {
     "name": "stderr",
     "output_type": "stream",
     "text": [
      "\n"
     ]
    },
    {
     "name": "stdout",
     "output_type": "stream",
     "text": [
      "\n",
      "      Epoch    GPU_mem   box_loss   cls_loss   dfl_loss  Instances       Size\n"
     ]
    },
    {
     "name": "stderr",
     "output_type": "stream",
     "text": [
      "     57/100      1.29G      1.141      1.059      1.222         19        640: 100%|██████████| 13/13 [00:01<00:00,  7.88it/s]\n",
      "                 Class     Images  Instances      Box(P          R      mAP50  mAP50-95): 100%|██████████| 7/7 [00:00<00:00,  7.89it/s]"
     ]
    },
    {
     "name": "stdout",
     "output_type": "stream",
     "text": [
      "                   all         99        380      0.869       0.69       0.83       0.62\n"
     ]
    },
    {
     "name": "stderr",
     "output_type": "stream",
     "text": [
      "\n"
     ]
    },
    {
     "name": "stdout",
     "output_type": "stream",
     "text": [
      "\n",
      "      Epoch    GPU_mem   box_loss   cls_loss   dfl_loss  Instances       Size\n"
     ]
    },
    {
     "name": "stderr",
     "output_type": "stream",
     "text": [
      "     58/100      1.29G       1.06      1.042        1.2         23        640: 100%|██████████| 13/13 [00:01<00:00,  8.55it/s]\n",
      "                 Class     Images  Instances      Box(P          R      mAP50  mAP50-95): 100%|██████████| 7/7 [00:00<00:00,  8.29it/s]"
     ]
    },
    {
     "name": "stdout",
     "output_type": "stream",
     "text": [
      "                   all         99        380      0.887      0.657      0.827      0.613\n"
     ]
    },
    {
     "name": "stderr",
     "output_type": "stream",
     "text": [
      "\n"
     ]
    },
    {
     "name": "stdout",
     "output_type": "stream",
     "text": [
      "\n",
      "      Epoch    GPU_mem   box_loss   cls_loss   dfl_loss  Instances       Size\n"
     ]
    },
    {
     "name": "stderr",
     "output_type": "stream",
     "text": [
      "     59/100      1.29G      1.036       1.04      1.186         10        640: 100%|██████████| 13/13 [00:01<00:00,  8.07it/s]\n",
      "                 Class     Images  Instances      Box(P          R      mAP50  mAP50-95): 100%|██████████| 7/7 [00:00<00:00,  7.83it/s]"
     ]
    },
    {
     "name": "stdout",
     "output_type": "stream",
     "text": [
      "                   all         99        380       0.88      0.675      0.833      0.611\n"
     ]
    },
    {
     "name": "stderr",
     "output_type": "stream",
     "text": [
      "\n"
     ]
    },
    {
     "name": "stdout",
     "output_type": "stream",
     "text": [
      "\n",
      "      Epoch    GPU_mem   box_loss   cls_loss   dfl_loss  Instances       Size\n"
     ]
    },
    {
     "name": "stderr",
     "output_type": "stream",
     "text": [
      "     60/100      1.29G      1.071      1.065      1.206          7        640: 100%|██████████| 13/13 [00:01<00:00,  8.26it/s]\n",
      "                 Class     Images  Instances      Box(P          R      mAP50  mAP50-95): 100%|██████████| 7/7 [00:00<00:00,  8.33it/s]"
     ]
    },
    {
     "name": "stdout",
     "output_type": "stream",
     "text": [
      "                   all         99        380      0.697      0.819      0.837       0.62\n"
     ]
    },
    {
     "name": "stderr",
     "output_type": "stream",
     "text": [
      "\n"
     ]
    },
    {
     "name": "stdout",
     "output_type": "stream",
     "text": [
      "\n",
      "      Epoch    GPU_mem   box_loss   cls_loss   dfl_loss  Instances       Size\n"
     ]
    },
    {
     "name": "stderr",
     "output_type": "stream",
     "text": [
      "     61/100      1.29G       1.01      0.984      1.179         14        640: 100%|██████████| 13/13 [00:01<00:00,  8.51it/s]\n",
      "                 Class     Images  Instances      Box(P          R      mAP50  mAP50-95): 100%|██████████| 7/7 [00:00<00:00,  8.47it/s]"
     ]
    },
    {
     "name": "stdout",
     "output_type": "stream",
     "text": [
      "                   all         99        380      0.711      0.818      0.837      0.622\n"
     ]
    },
    {
     "name": "stderr",
     "output_type": "stream",
     "text": [
      "\n"
     ]
    },
    {
     "name": "stdout",
     "output_type": "stream",
     "text": [
      "\n",
      "      Epoch    GPU_mem   box_loss   cls_loss   dfl_loss  Instances       Size\n"
     ]
    },
    {
     "name": "stderr",
     "output_type": "stream",
     "text": [
      "     62/100      1.29G      1.162      1.077      1.237         20        640: 100%|██████████| 13/13 [00:01<00:00,  8.24it/s]\n",
      "                 Class     Images  Instances      Box(P          R      mAP50  mAP50-95): 100%|██████████| 7/7 [00:00<00:00,  8.23it/s]"
     ]
    },
    {
     "name": "stdout",
     "output_type": "stream",
     "text": [
      "                   all         99        380      0.741      0.817      0.845      0.641\n"
     ]
    },
    {
     "name": "stderr",
     "output_type": "stream",
     "text": [
      "\n"
     ]
    },
    {
     "name": "stdout",
     "output_type": "stream",
     "text": [
      "\n",
      "      Epoch    GPU_mem   box_loss   cls_loss   dfl_loss  Instances       Size\n"
     ]
    },
    {
     "name": "stderr",
     "output_type": "stream",
     "text": [
      "     63/100      1.29G     0.9833     0.9547      1.162         19        640: 100%|██████████| 13/13 [00:01<00:00,  8.45it/s]\n",
      "                 Class     Images  Instances      Box(P          R      mAP50  mAP50-95): 100%|██████████| 7/7 [00:00<00:00,  8.14it/s]"
     ]
    },
    {
     "name": "stdout",
     "output_type": "stream",
     "text": [
      "                   all         99        380      0.721      0.835      0.852      0.641\n"
     ]
    },
    {
     "name": "stderr",
     "output_type": "stream",
     "text": [
      "\n"
     ]
    },
    {
     "name": "stdout",
     "output_type": "stream",
     "text": [
      "\n",
      "      Epoch    GPU_mem   box_loss   cls_loss   dfl_loss  Instances       Size\n"
     ]
    },
    {
     "name": "stderr",
     "output_type": "stream",
     "text": [
      "     64/100      1.29G      1.004     0.9872      1.152         41        640: 100%|██████████| 13/13 [00:01<00:00,  8.18it/s]\n",
      "                 Class     Images  Instances      Box(P          R      mAP50  mAP50-95): 100%|██████████| 7/7 [00:00<00:00,  7.94it/s]"
     ]
    },
    {
     "name": "stdout",
     "output_type": "stream",
     "text": [
      "                   all         99        380      0.716      0.832      0.855      0.638\n"
     ]
    },
    {
     "name": "stderr",
     "output_type": "stream",
     "text": [
      "\n"
     ]
    },
    {
     "name": "stdout",
     "output_type": "stream",
     "text": [
      "\n",
      "      Epoch    GPU_mem   box_loss   cls_loss   dfl_loss  Instances       Size\n"
     ]
    },
    {
     "name": "stderr",
     "output_type": "stream",
     "text": [
      "     65/100      1.29G      1.089      1.032      1.188         18        640: 100%|██████████| 13/13 [00:01<00:00,  8.26it/s]\n",
      "                 Class     Images  Instances      Box(P          R      mAP50  mAP50-95): 100%|██████████| 7/7 [00:00<00:00,  7.67it/s]"
     ]
    },
    {
     "name": "stdout",
     "output_type": "stream",
     "text": [
      "                   all         99        380      0.733      0.833      0.863       0.65\n"
     ]
    },
    {
     "name": "stderr",
     "output_type": "stream",
     "text": [
      "\n"
     ]
    },
    {
     "name": "stdout",
     "output_type": "stream",
     "text": [
      "\n",
      "      Epoch    GPU_mem   box_loss   cls_loss   dfl_loss  Instances       Size\n"
     ]
    },
    {
     "name": "stderr",
     "output_type": "stream",
     "text": [
      "     66/100      1.29G      0.998     0.9739       1.15         28        640: 100%|██████████| 13/13 [00:01<00:00,  8.20it/s]\n",
      "                 Class     Images  Instances      Box(P          R      mAP50  mAP50-95): 100%|██████████| 7/7 [00:00<00:00,  7.83it/s]"
     ]
    },
    {
     "name": "stdout",
     "output_type": "stream",
     "text": [
      "                   all         99        380      0.737      0.835      0.867       0.66\n"
     ]
    },
    {
     "name": "stderr",
     "output_type": "stream",
     "text": [
      "\n"
     ]
    },
    {
     "name": "stdout",
     "output_type": "stream",
     "text": [
      "\n",
      "      Epoch    GPU_mem   box_loss   cls_loss   dfl_loss  Instances       Size\n"
     ]
    },
    {
     "name": "stderr",
     "output_type": "stream",
     "text": [
      "     67/100      1.29G      1.065     0.9805      1.161         20        640: 100%|██████████| 13/13 [00:01<00:00,  8.19it/s]\n",
      "                 Class     Images  Instances      Box(P          R      mAP50  mAP50-95): 100%|██████████| 7/7 [00:00<00:00,  8.06it/s]"
     ]
    },
    {
     "name": "stdout",
     "output_type": "stream",
     "text": [
      "                   all         99        380      0.768      0.834       0.87      0.666\n"
     ]
    },
    {
     "name": "stderr",
     "output_type": "stream",
     "text": [
      "\n"
     ]
    },
    {
     "name": "stdout",
     "output_type": "stream",
     "text": [
      "\n",
      "      Epoch    GPU_mem   box_loss   cls_loss   dfl_loss  Instances       Size\n"
     ]
    },
    {
     "name": "stderr",
     "output_type": "stream",
     "text": [
      "     68/100      1.29G      1.028     0.9509      1.173         33        640: 100%|██████████| 13/13 [00:01<00:00,  8.19it/s]\n",
      "                 Class     Images  Instances      Box(P          R      mAP50  mAP50-95): 100%|██████████| 7/7 [00:00<00:00,  8.30it/s]"
     ]
    },
    {
     "name": "stdout",
     "output_type": "stream",
     "text": [
      "                   all         99        380      0.795      0.839      0.881      0.679\n"
     ]
    },
    {
     "name": "stderr",
     "output_type": "stream",
     "text": [
      "\n"
     ]
    },
    {
     "name": "stdout",
     "output_type": "stream",
     "text": [
      "\n",
      "      Epoch    GPU_mem   box_loss   cls_loss   dfl_loss  Instances       Size\n"
     ]
    },
    {
     "name": "stderr",
     "output_type": "stream",
     "text": [
      "     69/100      1.29G      1.034     0.9676      1.169         21        640: 100%|██████████| 13/13 [00:01<00:00,  8.53it/s]\n",
      "                 Class     Images  Instances      Box(P          R      mAP50  mAP50-95): 100%|██████████| 7/7 [00:00<00:00,  8.08it/s]"
     ]
    },
    {
     "name": "stdout",
     "output_type": "stream",
     "text": [
      "                   all         99        380      0.822      0.839      0.887      0.686\n"
     ]
    },
    {
     "name": "stderr",
     "output_type": "stream",
     "text": [
      "\n"
     ]
    },
    {
     "name": "stdout",
     "output_type": "stream",
     "text": [
      "\n",
      "      Epoch    GPU_mem   box_loss   cls_loss   dfl_loss  Instances       Size\n"
     ]
    },
    {
     "name": "stderr",
     "output_type": "stream",
     "text": [
      "     70/100      1.29G      1.012     0.9212      1.149         36        640: 100%|██████████| 13/13 [00:01<00:00,  8.43it/s]\n",
      "                 Class     Images  Instances      Box(P          R      mAP50  mAP50-95): 100%|██████████| 7/7 [00:00<00:00,  8.11it/s]"
     ]
    },
    {
     "name": "stdout",
     "output_type": "stream",
     "text": [
      "                   all         99        380      0.878      0.827      0.894      0.684\n"
     ]
    },
    {
     "name": "stderr",
     "output_type": "stream",
     "text": [
      "\n"
     ]
    },
    {
     "name": "stdout",
     "output_type": "stream",
     "text": [
      "\n",
      "      Epoch    GPU_mem   box_loss   cls_loss   dfl_loss  Instances       Size\n"
     ]
    },
    {
     "name": "stderr",
     "output_type": "stream",
     "text": [
      "     71/100      1.29G      1.052     0.9582      1.173         28        640: 100%|██████████| 13/13 [00:01<00:00,  8.17it/s]\n",
      "                 Class     Images  Instances      Box(P          R      mAP50  mAP50-95): 100%|██████████| 7/7 [00:00<00:00,  8.45it/s]"
     ]
    },
    {
     "name": "stdout",
     "output_type": "stream",
     "text": [
      "                   all         99        380      0.885      0.878      0.915      0.691\n"
     ]
    },
    {
     "name": "stderr",
     "output_type": "stream",
     "text": [
      "\n"
     ]
    },
    {
     "name": "stdout",
     "output_type": "stream",
     "text": [
      "\n",
      "      Epoch    GPU_mem   box_loss   cls_loss   dfl_loss  Instances       Size\n"
     ]
    },
    {
     "name": "stderr",
     "output_type": "stream",
     "text": [
      "     72/100      1.29G      1.047     0.9677      1.219         20        640: 100%|██████████| 13/13 [00:01<00:00,  8.26it/s]\n",
      "                 Class     Images  Instances      Box(P          R      mAP50  mAP50-95): 100%|██████████| 7/7 [00:00<00:00,  8.31it/s]"
     ]
    },
    {
     "name": "stdout",
     "output_type": "stream",
     "text": [
      "                   all         99        380      0.889      0.875      0.915      0.696\n"
     ]
    },
    {
     "name": "stderr",
     "output_type": "stream",
     "text": [
      "\n"
     ]
    },
    {
     "name": "stdout",
     "output_type": "stream",
     "text": [
      "\n",
      "      Epoch    GPU_mem   box_loss   cls_loss   dfl_loss  Instances       Size\n"
     ]
    },
    {
     "name": "stderr",
     "output_type": "stream",
     "text": [
      "     73/100      1.29G      0.945     0.9131      1.148         19        640: 100%|██████████| 13/13 [00:01<00:00,  8.40it/s]\n",
      "                 Class     Images  Instances      Box(P          R      mAP50  mAP50-95): 100%|██████████| 7/7 [00:00<00:00,  8.19it/s]"
     ]
    },
    {
     "name": "stdout",
     "output_type": "stream",
     "text": [
      "                   all         99        380      0.922      0.872      0.918      0.706\n"
     ]
    },
    {
     "name": "stderr",
     "output_type": "stream",
     "text": [
      "\n"
     ]
    },
    {
     "name": "stdout",
     "output_type": "stream",
     "text": [
      "\n",
      "      Epoch    GPU_mem   box_loss   cls_loss   dfl_loss  Instances       Size\n"
     ]
    },
    {
     "name": "stderr",
     "output_type": "stream",
     "text": [
      "     74/100      1.29G     0.9938      0.963      1.177         20        640: 100%|██████████| 13/13 [00:01<00:00,  8.13it/s]\n",
      "                 Class     Images  Instances      Box(P          R      mAP50  mAP50-95): 100%|██████████| 7/7 [00:00<00:00,  8.25it/s]"
     ]
    },
    {
     "name": "stdout",
     "output_type": "stream",
     "text": [
      "                   all         99        380      0.924      0.871       0.92      0.712\n"
     ]
    },
    {
     "name": "stderr",
     "output_type": "stream",
     "text": [
      "\n"
     ]
    },
    {
     "name": "stdout",
     "output_type": "stream",
     "text": [
      "\n",
      "      Epoch    GPU_mem   box_loss   cls_loss   dfl_loss  Instances       Size\n"
     ]
    },
    {
     "name": "stderr",
     "output_type": "stream",
     "text": [
      "     75/100      1.29G      1.004      0.935      1.149         19        640: 100%|██████████| 13/13 [00:01<00:00,  8.20it/s]\n",
      "                 Class     Images  Instances      Box(P          R      mAP50  mAP50-95): 100%|██████████| 7/7 [00:00<00:00,  8.19it/s]"
     ]
    },
    {
     "name": "stdout",
     "output_type": "stream",
     "text": [
      "                   all         99        380      0.939      0.855      0.918      0.713\n"
     ]
    },
    {
     "name": "stderr",
     "output_type": "stream",
     "text": [
      "\n"
     ]
    },
    {
     "name": "stdout",
     "output_type": "stream",
     "text": [
      "\n",
      "      Epoch    GPU_mem   box_loss   cls_loss   dfl_loss  Instances       Size\n"
     ]
    },
    {
     "name": "stderr",
     "output_type": "stream",
     "text": [
      "     76/100      1.29G     0.9231     0.8713      1.117         26        640: 100%|██████████| 13/13 [00:01<00:00,  8.47it/s]\n",
      "                 Class     Images  Instances      Box(P          R      mAP50  mAP50-95): 100%|██████████| 7/7 [00:00<00:00,  8.24it/s]"
     ]
    },
    {
     "name": "stdout",
     "output_type": "stream",
     "text": [
      "                   all         99        380      0.926      0.865      0.919      0.717\n"
     ]
    },
    {
     "name": "stderr",
     "output_type": "stream",
     "text": [
      "\n"
     ]
    },
    {
     "name": "stdout",
     "output_type": "stream",
     "text": [
      "\n",
      "      Epoch    GPU_mem   box_loss   cls_loss   dfl_loss  Instances       Size\n"
     ]
    },
    {
     "name": "stderr",
     "output_type": "stream",
     "text": [
      "     77/100      1.29G     0.9923     0.9118      1.139         24        640: 100%|██████████| 13/13 [00:01<00:00,  8.62it/s]\n",
      "                 Class     Images  Instances      Box(P          R      mAP50  mAP50-95): 100%|██████████| 7/7 [00:00<00:00,  8.11it/s]"
     ]
    },
    {
     "name": "stdout",
     "output_type": "stream",
     "text": [
      "                   all         99        380       0.94      0.861      0.919      0.715\n"
     ]
    },
    {
     "name": "stderr",
     "output_type": "stream",
     "text": [
      "\n"
     ]
    },
    {
     "name": "stdout",
     "output_type": "stream",
     "text": [
      "\n",
      "      Epoch    GPU_mem   box_loss   cls_loss   dfl_loss  Instances       Size\n"
     ]
    },
    {
     "name": "stderr",
     "output_type": "stream",
     "text": [
      "     78/100      1.29G     0.9472     0.9039       1.14         10        640: 100%|██████████| 13/13 [00:01<00:00,  8.11it/s]\n",
      "                 Class     Images  Instances      Box(P          R      mAP50  mAP50-95): 100%|██████████| 7/7 [00:00<00:00,  8.03it/s]"
     ]
    },
    {
     "name": "stdout",
     "output_type": "stream",
     "text": [
      "                   all         99        380      0.925      0.865       0.92      0.704\n"
     ]
    },
    {
     "name": "stderr",
     "output_type": "stream",
     "text": [
      "\n"
     ]
    },
    {
     "name": "stdout",
     "output_type": "stream",
     "text": [
      "\n",
      "      Epoch    GPU_mem   box_loss   cls_loss   dfl_loss  Instances       Size\n"
     ]
    },
    {
     "name": "stderr",
     "output_type": "stream",
     "text": [
      "     79/100      1.29G     0.9613     0.8888      1.144         18        640: 100%|██████████| 13/13 [00:01<00:00,  8.18it/s]\n",
      "                 Class     Images  Instances      Box(P          R      mAP50  mAP50-95): 100%|██████████| 7/7 [00:00<00:00,  8.18it/s]"
     ]
    },
    {
     "name": "stdout",
     "output_type": "stream",
     "text": [
      "                   all         99        380       0.93      0.879       0.92      0.704\n"
     ]
    },
    {
     "name": "stderr",
     "output_type": "stream",
     "text": [
      "\n"
     ]
    },
    {
     "name": "stdout",
     "output_type": "stream",
     "text": [
      "\n",
      "      Epoch    GPU_mem   box_loss   cls_loss   dfl_loss  Instances       Size\n"
     ]
    },
    {
     "name": "stderr",
     "output_type": "stream",
     "text": [
      "     80/100      1.29G     0.9952     0.9051      1.142         14        640: 100%|██████████| 13/13 [00:01<00:00,  8.39it/s]\n",
      "                 Class     Images  Instances      Box(P          R      mAP50  mAP50-95): 100%|██████████| 7/7 [00:00<00:00,  8.38it/s]"
     ]
    },
    {
     "name": "stdout",
     "output_type": "stream",
     "text": [
      "                   all         99        380       0.93      0.882       0.92      0.708\n"
     ]
    },
    {
     "name": "stderr",
     "output_type": "stream",
     "text": [
      "\n"
     ]
    },
    {
     "name": "stdout",
     "output_type": "stream",
     "text": [
      "\n",
      "      Epoch    GPU_mem   box_loss   cls_loss   dfl_loss  Instances       Size\n"
     ]
    },
    {
     "name": "stderr",
     "output_type": "stream",
     "text": [
      "     81/100      1.29G      1.026     0.9533      1.153         27        640: 100%|██████████| 13/13 [00:01<00:00,  8.31it/s]\n",
      "                 Class     Images  Instances      Box(P          R      mAP50  mAP50-95): 100%|██████████| 7/7 [00:00<00:00,  7.99it/s]"
     ]
    },
    {
     "name": "stdout",
     "output_type": "stream",
     "text": [
      "                   all         99        380      0.937      0.878       0.92      0.723\n"
     ]
    },
    {
     "name": "stderr",
     "output_type": "stream",
     "text": [
      "\n"
     ]
    },
    {
     "name": "stdout",
     "output_type": "stream",
     "text": [
      "\n",
      "      Epoch    GPU_mem   box_loss   cls_loss   dfl_loss  Instances       Size\n"
     ]
    },
    {
     "name": "stderr",
     "output_type": "stream",
     "text": [
      "     82/100      1.29G     0.9351     0.8942      1.115         18        640: 100%|██████████| 13/13 [00:01<00:00,  8.08it/s]\n",
      "                 Class     Images  Instances      Box(P          R      mAP50  mAP50-95): 100%|██████████| 7/7 [00:00<00:00,  7.69it/s]"
     ]
    },
    {
     "name": "stdout",
     "output_type": "stream",
     "text": [
      "                   all         99        380      0.925      0.882      0.923      0.726\n"
     ]
    },
    {
     "name": "stderr",
     "output_type": "stream",
     "text": [
      "\n"
     ]
    },
    {
     "name": "stdout",
     "output_type": "stream",
     "text": [
      "\n",
      "      Epoch    GPU_mem   box_loss   cls_loss   dfl_loss  Instances       Size\n"
     ]
    },
    {
     "name": "stderr",
     "output_type": "stream",
     "text": [
      "     83/100      1.29G     0.9221     0.8733       1.13         23        640: 100%|██████████| 13/13 [00:01<00:00,  8.19it/s]\n",
      "                 Class     Images  Instances      Box(P          R      mAP50  mAP50-95): 100%|██████████| 7/7 [00:00<00:00,  7.62it/s]"
     ]
    },
    {
     "name": "stdout",
     "output_type": "stream",
     "text": [
      "                   all         99        380      0.925      0.878      0.922       0.73\n"
     ]
    },
    {
     "name": "stderr",
     "output_type": "stream",
     "text": [
      "\n"
     ]
    },
    {
     "name": "stdout",
     "output_type": "stream",
     "text": [
      "\n",
      "      Epoch    GPU_mem   box_loss   cls_loss   dfl_loss  Instances       Size\n"
     ]
    },
    {
     "name": "stderr",
     "output_type": "stream",
     "text": [
      "     84/100      1.29G      0.893     0.8531      1.091         32        640: 100%|██████████| 13/13 [00:01<00:00,  8.09it/s]\n",
      "                 Class     Images  Instances      Box(P          R      mAP50  mAP50-95): 100%|██████████| 7/7 [00:00<00:00,  7.58it/s]"
     ]
    },
    {
     "name": "stdout",
     "output_type": "stream",
     "text": [
      "                   all         99        380      0.915      0.876      0.923      0.727\n"
     ]
    },
    {
     "name": "stderr",
     "output_type": "stream",
     "text": [
      "\n"
     ]
    },
    {
     "name": "stdout",
     "output_type": "stream",
     "text": [
      "\n",
      "      Epoch    GPU_mem   box_loss   cls_loss   dfl_loss  Instances       Size\n"
     ]
    },
    {
     "name": "stderr",
     "output_type": "stream",
     "text": [
      "     85/100      1.29G     0.9359     0.8642      1.119          9        640: 100%|██████████| 13/13 [00:01<00:00,  8.43it/s]\n",
      "                 Class     Images  Instances      Box(P          R      mAP50  mAP50-95): 100%|██████████| 7/7 [00:00<00:00,  8.21it/s]"
     ]
    },
    {
     "name": "stdout",
     "output_type": "stream",
     "text": [
      "                   all         99        380      0.909      0.875      0.923      0.731\n"
     ]
    },
    {
     "name": "stderr",
     "output_type": "stream",
     "text": [
      "\n"
     ]
    },
    {
     "name": "stdout",
     "output_type": "stream",
     "text": [
      "\n",
      "      Epoch    GPU_mem   box_loss   cls_loss   dfl_loss  Instances       Size\n"
     ]
    },
    {
     "name": "stderr",
     "output_type": "stream",
     "text": [
      "     86/100      1.29G     0.9538     0.8712      1.115         23        640: 100%|██████████| 13/13 [00:01<00:00,  8.27it/s]\n",
      "                 Class     Images  Instances      Box(P          R      mAP50  mAP50-95): 100%|██████████| 7/7 [00:00<00:00,  8.25it/s]"
     ]
    },
    {
     "name": "stdout",
     "output_type": "stream",
     "text": [
      "                   all         99        380      0.922      0.881      0.924      0.734\n"
     ]
    },
    {
     "name": "stderr",
     "output_type": "stream",
     "text": [
      "\n"
     ]
    },
    {
     "name": "stdout",
     "output_type": "stream",
     "text": [
      "\n",
      "      Epoch    GPU_mem   box_loss   cls_loss   dfl_loss  Instances       Size\n"
     ]
    },
    {
     "name": "stderr",
     "output_type": "stream",
     "text": [
      "     87/100      1.29G     0.9543     0.8978      1.158         27        640: 100%|██████████| 13/13 [00:01<00:00,  8.15it/s]\n",
      "                 Class     Images  Instances      Box(P          R      mAP50  mAP50-95): 100%|██████████| 7/7 [00:00<00:00,  7.77it/s]"
     ]
    },
    {
     "name": "stdout",
     "output_type": "stream",
     "text": [
      "                   all         99        380      0.922      0.882      0.925      0.731\n"
     ]
    },
    {
     "name": "stderr",
     "output_type": "stream",
     "text": [
      "\n"
     ]
    },
    {
     "name": "stdout",
     "output_type": "stream",
     "text": [
      "\n",
      "      Epoch    GPU_mem   box_loss   cls_loss   dfl_loss  Instances       Size\n"
     ]
    },
    {
     "name": "stderr",
     "output_type": "stream",
     "text": [
      "     88/100      1.29G      0.916     0.8497      1.128         22        640: 100%|██████████| 13/13 [00:01<00:00,  8.26it/s]\n",
      "                 Class     Images  Instances      Box(P          R      mAP50  mAP50-95): 100%|██████████| 7/7 [00:00<00:00,  8.05it/s]"
     ]
    },
    {
     "name": "stdout",
     "output_type": "stream",
     "text": [
      "                   all         99        380      0.918      0.881      0.924      0.729\n"
     ]
    },
    {
     "name": "stderr",
     "output_type": "stream",
     "text": [
      "\n"
     ]
    },
    {
     "name": "stdout",
     "output_type": "stream",
     "text": [
      "\n",
      "      Epoch    GPU_mem   box_loss   cls_loss   dfl_loss  Instances       Size\n"
     ]
    },
    {
     "name": "stderr",
     "output_type": "stream",
     "text": [
      "     89/100      1.29G     0.9451     0.8489      1.142         23        640: 100%|██████████| 13/13 [00:01<00:00,  8.18it/s]\n",
      "                 Class     Images  Instances      Box(P          R      mAP50  mAP50-95): 100%|██████████| 7/7 [00:00<00:00,  7.86it/s]"
     ]
    },
    {
     "name": "stdout",
     "output_type": "stream",
     "text": [
      "                   all         99        380      0.922      0.874      0.924      0.736\n"
     ]
    },
    {
     "name": "stderr",
     "output_type": "stream",
     "text": [
      "\n"
     ]
    },
    {
     "name": "stdout",
     "output_type": "stream",
     "text": [
      "\n",
      "      Epoch    GPU_mem   box_loss   cls_loss   dfl_loss  Instances       Size\n"
     ]
    },
    {
     "name": "stderr",
     "output_type": "stream",
     "text": [
      "     90/100      1.29G     0.9375     0.8757      1.131         17        640: 100%|██████████| 13/13 [00:01<00:00,  8.17it/s]\n",
      "                 Class     Images  Instances      Box(P          R      mAP50  mAP50-95): 100%|██████████| 7/7 [00:00<00:00,  8.18it/s]"
     ]
    },
    {
     "name": "stdout",
     "output_type": "stream",
     "text": [
      "                   all         99        380      0.933      0.868      0.925      0.737\n"
     ]
    },
    {
     "name": "stderr",
     "output_type": "stream",
     "text": [
      "\n"
     ]
    },
    {
     "name": "stdout",
     "output_type": "stream",
     "text": [
      "Closing dataloader mosaic\n",
      "\n",
      "      Epoch    GPU_mem   box_loss   cls_loss   dfl_loss  Instances       Size\n"
     ]
    },
    {
     "name": "stderr",
     "output_type": "stream",
     "text": [
      "     91/100      1.29G      1.027       1.23      1.183          7        640: 100%|██████████| 13/13 [00:02<00:00,  6.47it/s]\n",
      "                 Class     Images  Instances      Box(P          R      mAP50  mAP50-95): 100%|██████████| 7/7 [00:00<00:00,  7.74it/s]"
     ]
    },
    {
     "name": "stdout",
     "output_type": "stream",
     "text": [
      "                   all         99        380      0.922      0.866      0.924      0.737\n"
     ]
    },
    {
     "name": "stderr",
     "output_type": "stream",
     "text": [
      "\n"
     ]
    },
    {
     "name": "stdout",
     "output_type": "stream",
     "text": [
      "\n",
      "      Epoch    GPU_mem   box_loss   cls_loss   dfl_loss  Instances       Size\n"
     ]
    },
    {
     "name": "stderr",
     "output_type": "stream",
     "text": [
      "     92/100      1.29G     0.9091      1.014      1.126          7        640: 100%|██████████| 13/13 [00:01<00:00,  8.20it/s]\n",
      "                 Class     Images  Instances      Box(P          R      mAP50  mAP50-95): 100%|██████████| 7/7 [00:00<00:00,  7.50it/s]"
     ]
    },
    {
     "name": "stdout",
     "output_type": "stream",
     "text": [
      "                   all         99        380      0.921      0.864      0.924      0.729\n"
     ]
    },
    {
     "name": "stderr",
     "output_type": "stream",
     "text": [
      "\n"
     ]
    },
    {
     "name": "stdout",
     "output_type": "stream",
     "text": [
      "\n",
      "      Epoch    GPU_mem   box_loss   cls_loss   dfl_loss  Instances       Size\n"
     ]
    },
    {
     "name": "stderr",
     "output_type": "stream",
     "text": [
      "     93/100      1.29G     0.9445      1.019      1.105         23        640: 100%|██████████| 13/13 [00:01<00:00,  8.41it/s]\n",
      "                 Class     Images  Instances      Box(P          R      mAP50  mAP50-95): 100%|██████████| 7/7 [00:00<00:00,  7.79it/s]"
     ]
    },
    {
     "name": "stdout",
     "output_type": "stream",
     "text": [
      "                   all         99        380      0.927      0.861      0.925      0.719\n"
     ]
    },
    {
     "name": "stderr",
     "output_type": "stream",
     "text": [
      "\n"
     ]
    },
    {
     "name": "stdout",
     "output_type": "stream",
     "text": [
      "\n",
      "      Epoch    GPU_mem   box_loss   cls_loss   dfl_loss  Instances       Size\n"
     ]
    },
    {
     "name": "stderr",
     "output_type": "stream",
     "text": [
      "     94/100      1.29G     0.9181      1.023      1.101          8        640: 100%|██████████| 13/13 [00:01<00:00,  8.24it/s]\n",
      "                 Class     Images  Instances      Box(P          R      mAP50  mAP50-95): 100%|██████████| 7/7 [00:00<00:00,  8.21it/s]"
     ]
    },
    {
     "name": "stdout",
     "output_type": "stream",
     "text": [
      "                   all         99        380      0.939      0.846      0.925      0.713\n"
     ]
    },
    {
     "name": "stderr",
     "output_type": "stream",
     "text": [
      "\n"
     ]
    },
    {
     "name": "stdout",
     "output_type": "stream",
     "text": [
      "\n",
      "      Epoch    GPU_mem   box_loss   cls_loss   dfl_loss  Instances       Size\n"
     ]
    },
    {
     "name": "stderr",
     "output_type": "stream",
     "text": [
      "     95/100      1.29G     0.9529      1.016      1.101         14        640: 100%|██████████| 13/13 [00:01<00:00,  8.33it/s]\n",
      "                 Class     Images  Instances      Box(P          R      mAP50  mAP50-95): 100%|██████████| 7/7 [00:00<00:00,  7.85it/s]"
     ]
    },
    {
     "name": "stdout",
     "output_type": "stream",
     "text": [
      "                   all         99        380      0.931      0.842      0.925      0.708\n"
     ]
    },
    {
     "name": "stderr",
     "output_type": "stream",
     "text": [
      "\n"
     ]
    },
    {
     "name": "stdout",
     "output_type": "stream",
     "text": [
      "\n",
      "      Epoch    GPU_mem   box_loss   cls_loss   dfl_loss  Instances       Size\n"
     ]
    },
    {
     "name": "stderr",
     "output_type": "stream",
     "text": [
      "     96/100      1.29G     0.9328      0.991      1.143         12        640: 100%|██████████| 13/13 [00:01<00:00,  8.30it/s]\n",
      "                 Class     Images  Instances      Box(P          R      mAP50  mAP50-95): 100%|██████████| 7/7 [00:00<00:00,  7.65it/s]"
     ]
    },
    {
     "name": "stdout",
     "output_type": "stream",
     "text": [
      "                   all         99        380      0.927      0.845      0.924      0.707\n"
     ]
    },
    {
     "name": "stderr",
     "output_type": "stream",
     "text": [
      "\n"
     ]
    },
    {
     "name": "stdout",
     "output_type": "stream",
     "text": [
      "\n",
      "      Epoch    GPU_mem   box_loss   cls_loss   dfl_loss  Instances       Size\n"
     ]
    },
    {
     "name": "stderr",
     "output_type": "stream",
     "text": [
      "     97/100      1.29G     0.9142     0.9658      1.096         21        640: 100%|██████████| 13/13 [00:01<00:00,  8.45it/s]\n",
      "                 Class     Images  Instances      Box(P          R      mAP50  mAP50-95): 100%|██████████| 7/7 [00:00<00:00,  8.40it/s]"
     ]
    },
    {
     "name": "stdout",
     "output_type": "stream",
     "text": [
      "                   all         99        380      0.919      0.851      0.924      0.706\n"
     ]
    },
    {
     "name": "stderr",
     "output_type": "stream",
     "text": [
      "\n"
     ]
    },
    {
     "name": "stdout",
     "output_type": "stream",
     "text": [
      "\n",
      "      Epoch    GPU_mem   box_loss   cls_loss   dfl_loss  Instances       Size\n"
     ]
    },
    {
     "name": "stderr",
     "output_type": "stream",
     "text": [
      "     98/100      1.29G     0.9461     0.9761      1.175         12        640: 100%|██████████| 13/13 [00:01<00:00,  8.68it/s]\n",
      "                 Class     Images  Instances      Box(P          R      mAP50  mAP50-95): 100%|██████████| 7/7 [00:00<00:00,  8.17it/s]"
     ]
    },
    {
     "name": "stdout",
     "output_type": "stream",
     "text": [
      "                   all         99        380      0.908      0.852      0.924      0.708\n"
     ]
    },
    {
     "name": "stderr",
     "output_type": "stream",
     "text": [
      "\n"
     ]
    },
    {
     "name": "stdout",
     "output_type": "stream",
     "text": [
      "\n",
      "      Epoch    GPU_mem   box_loss   cls_loss   dfl_loss  Instances       Size\n"
     ]
    },
    {
     "name": "stderr",
     "output_type": "stream",
     "text": [
      "     99/100      1.29G     0.9085     0.9534      1.108          9        640: 100%|██████████| 13/13 [00:01<00:00,  8.41it/s]\n",
      "                 Class     Images  Instances      Box(P          R      mAP50  mAP50-95): 100%|██████████| 7/7 [00:00<00:00,  8.42it/s]"
     ]
    },
    {
     "name": "stdout",
     "output_type": "stream",
     "text": [
      "                   all         99        380       0.92      0.848      0.924      0.712\n"
     ]
    },
    {
     "name": "stderr",
     "output_type": "stream",
     "text": [
      "\n"
     ]
    },
    {
     "name": "stdout",
     "output_type": "stream",
     "text": [
      "\n",
      "      Epoch    GPU_mem   box_loss   cls_loss   dfl_loss  Instances       Size\n"
     ]
    },
    {
     "name": "stderr",
     "output_type": "stream",
     "text": [
      "    100/100      1.29G     0.9368     0.9916      1.122         21        640: 100%|██████████| 13/13 [00:01<00:00,  8.31it/s]\n",
      "                 Class     Images  Instances      Box(P          R      mAP50  mAP50-95): 100%|██████████| 7/7 [00:00<00:00,  8.28it/s]"
     ]
    },
    {
     "name": "stdout",
     "output_type": "stream",
     "text": [
      "                   all         99        380      0.908      0.851      0.923      0.714\n"
     ]
    },
    {
     "name": "stderr",
     "output_type": "stream",
     "text": [
      "\n"
     ]
    },
    {
     "name": "stdout",
     "output_type": "stream",
     "text": [
      "\n",
      "100 epochs completed in 0.085 hours.\n",
      "Optimizer stripped from number_plate_project\\yolov8n_gpu_optimized_v2\\weights\\last.pt, 6.3MB\n",
      "Optimizer stripped from number_plate_project\\yolov8n_gpu_optimized_v2\\weights\\best.pt, 6.3MB\n",
      "\n",
      "Validating number_plate_project\\yolov8n_gpu_optimized_v2\\weights\\best.pt...\n",
      "Ultralytics 8.3.162  Python-3.9.13 torch-2.5.1+cu121 CUDA:0 (NVIDIA GeForce RTX 3050 Laptop GPU, 4096MiB)\n",
      "Model summary (fused): 72 layers, 3,006,818 parameters, 0 gradients, 8.1 GFLOPs\n"
     ]
    },
    {
     "name": "stderr",
     "output_type": "stream",
     "text": [
      "                 Class     Images  Instances      Box(P          R      mAP50  mAP50-95): 100%|██████████| 7/7 [00:01<00:00,  5.16it/s]\n"
     ]
    },
    {
     "name": "stdout",
     "output_type": "stream",
     "text": [
      "                   all         99        380      0.922      0.866      0.924      0.737\n",
      "                  Bike          3          3          1      0.533       0.72      0.466\n",
      "                   Bus         12         18      0.927      0.944      0.969      0.851\n",
      "                   Car         65        167      0.957      0.928      0.957      0.785\n",
      "          Number plate         92        124      0.919      0.927      0.972      0.728\n",
      "                Person         19         51      0.896      0.922      0.951       0.73\n",
      "                 Truck         14         17      0.834      0.941      0.977      0.859\n",
      "Speed: 0.7ms preprocess, 2.6ms inference, 0.0ms loss, 2.3ms postprocess per image\n",
      "Results saved to \u001b[1mnumber_plate_project\\yolov8n_gpu_optimized_v2\u001b[0m\n"
     ]
    },
    {
     "data": {
      "text/plain": [
       "ultralytics.utils.metrics.DetMetrics object with attributes:\n",
       "\n",
       "ap_class_index: array([0, 1, 2, 3, 4, 5])\n",
       "box: ultralytics.utils.metrics.Metric object\n",
       "confusion_matrix: <ultralytics.utils.metrics.ConfusionMatrix object at 0x000001ADCA94D9A0>\n",
       "curves: ['Precision-Recall(B)', 'F1-Confidence(B)', 'Precision-Confidence(B)', 'Recall-Confidence(B)']\n",
       "curves_results: [[array([          0,    0.001001,    0.002002,    0.003003,    0.004004,    0.005005,    0.006006,    0.007007,    0.008008,    0.009009,     0.01001,    0.011011,    0.012012,    0.013013,    0.014014,    0.015015,    0.016016,    0.017017,    0.018018,    0.019019,     0.02002,    0.021021,    0.022022,    0.023023,\n",
       "          0.024024,    0.025025,    0.026026,    0.027027,    0.028028,    0.029029,     0.03003,    0.031031,    0.032032,    0.033033,    0.034034,    0.035035,    0.036036,    0.037037,    0.038038,    0.039039,     0.04004,    0.041041,    0.042042,    0.043043,    0.044044,    0.045045,    0.046046,    0.047047,\n",
       "          0.048048,    0.049049,     0.05005,    0.051051,    0.052052,    0.053053,    0.054054,    0.055055,    0.056056,    0.057057,    0.058058,    0.059059,     0.06006,    0.061061,    0.062062,    0.063063,    0.064064,    0.065065,    0.066066,    0.067067,    0.068068,    0.069069,     0.07007,    0.071071,\n",
       "          0.072072,    0.073073,    0.074074,    0.075075,    0.076076,    0.077077,    0.078078,    0.079079,     0.08008,    0.081081,    0.082082,    0.083083,    0.084084,    0.085085,    0.086086,    0.087087,    0.088088,    0.089089,     0.09009,    0.091091,    0.092092,    0.093093,    0.094094,    0.095095,\n",
       "          0.096096,    0.097097,    0.098098,    0.099099,      0.1001,      0.1011,      0.1021,      0.1031,      0.1041,     0.10511,     0.10611,     0.10711,     0.10811,     0.10911,     0.11011,     0.11111,     0.11211,     0.11311,     0.11411,     0.11512,     0.11612,     0.11712,     0.11812,     0.11912,\n",
       "           0.12012,     0.12112,     0.12212,     0.12312,     0.12412,     0.12513,     0.12613,     0.12713,     0.12813,     0.12913,     0.13013,     0.13113,     0.13213,     0.13313,     0.13413,     0.13514,     0.13614,     0.13714,     0.13814,     0.13914,     0.14014,     0.14114,     0.14214,     0.14314,\n",
       "           0.14414,     0.14515,     0.14615,     0.14715,     0.14815,     0.14915,     0.15015,     0.15115,     0.15215,     0.15315,     0.15415,     0.15516,     0.15616,     0.15716,     0.15816,     0.15916,     0.16016,     0.16116,     0.16216,     0.16316,     0.16416,     0.16517,     0.16617,     0.16717,\n",
       "           0.16817,     0.16917,     0.17017,     0.17117,     0.17217,     0.17317,     0.17417,     0.17518,     0.17618,     0.17718,     0.17818,     0.17918,     0.18018,     0.18118,     0.18218,     0.18318,     0.18418,     0.18519,     0.18619,     0.18719,     0.18819,     0.18919,     0.19019,     0.19119,\n",
       "           0.19219,     0.19319,     0.19419,      0.1952,      0.1962,      0.1972,      0.1982,      0.1992,      0.2002,      0.2012,      0.2022,      0.2032,      0.2042,     0.20521,     0.20621,     0.20721,     0.20821,     0.20921,     0.21021,     0.21121,     0.21221,     0.21321,     0.21421,     0.21522,\n",
       "           0.21622,     0.21722,     0.21822,     0.21922,     0.22022,     0.22122,     0.22222,     0.22322,     0.22422,     0.22523,     0.22623,     0.22723,     0.22823,     0.22923,     0.23023,     0.23123,     0.23223,     0.23323,     0.23423,     0.23524,     0.23624,     0.23724,     0.23824,     0.23924,\n",
       "           0.24024,     0.24124,     0.24224,     0.24324,     0.24424,     0.24525,     0.24625,     0.24725,     0.24825,     0.24925,     0.25025,     0.25125,     0.25225,     0.25325,     0.25425,     0.25526,     0.25626,     0.25726,     0.25826,     0.25926,     0.26026,     0.26126,     0.26226,     0.26326,\n",
       "           0.26426,     0.26527,     0.26627,     0.26727,     0.26827,     0.26927,     0.27027,     0.27127,     0.27227,     0.27327,     0.27427,     0.27528,     0.27628,     0.27728,     0.27828,     0.27928,     0.28028,     0.28128,     0.28228,     0.28328,     0.28428,     0.28529,     0.28629,     0.28729,\n",
       "           0.28829,     0.28929,     0.29029,     0.29129,     0.29229,     0.29329,     0.29429,      0.2953,      0.2963,      0.2973,      0.2983,      0.2993,      0.3003,      0.3013,      0.3023,      0.3033,      0.3043,     0.30531,     0.30631,     0.30731,     0.30831,     0.30931,     0.31031,     0.31131,\n",
       "           0.31231,     0.31331,     0.31431,     0.31532,     0.31632,     0.31732,     0.31832,     0.31932,     0.32032,     0.32132,     0.32232,     0.32332,     0.32432,     0.32533,     0.32633,     0.32733,     0.32833,     0.32933,     0.33033,     0.33133,     0.33233,     0.33333,     0.33433,     0.33534,\n",
       "           0.33634,     0.33734,     0.33834,     0.33934,     0.34034,     0.34134,     0.34234,     0.34334,     0.34434,     0.34535,     0.34635,     0.34735,     0.34835,     0.34935,     0.35035,     0.35135,     0.35235,     0.35335,     0.35435,     0.35536,     0.35636,     0.35736,     0.35836,     0.35936,\n",
       "           0.36036,     0.36136,     0.36236,     0.36336,     0.36436,     0.36537,     0.36637,     0.36737,     0.36837,     0.36937,     0.37037,     0.37137,     0.37237,     0.37337,     0.37437,     0.37538,     0.37638,     0.37738,     0.37838,     0.37938,     0.38038,     0.38138,     0.38238,     0.38338,\n",
       "           0.38438,     0.38539,     0.38639,     0.38739,     0.38839,     0.38939,     0.39039,     0.39139,     0.39239,     0.39339,     0.39439,      0.3954,      0.3964,      0.3974,      0.3984,      0.3994,      0.4004,      0.4014,      0.4024,      0.4034,      0.4044,     0.40541,     0.40641,     0.40741,\n",
       "           0.40841,     0.40941,     0.41041,     0.41141,     0.41241,     0.41341,     0.41441,     0.41542,     0.41642,     0.41742,     0.41842,     0.41942,     0.42042,     0.42142,     0.42242,     0.42342,     0.42442,     0.42543,     0.42643,     0.42743,     0.42843,     0.42943,     0.43043,     0.43143,\n",
       "           0.43243,     0.43343,     0.43443,     0.43544,     0.43644,     0.43744,     0.43844,     0.43944,     0.44044,     0.44144,     0.44244,     0.44344,     0.44444,     0.44545,     0.44645,     0.44745,     0.44845,     0.44945,     0.45045,     0.45145,     0.45245,     0.45345,     0.45445,     0.45546,\n",
       "           0.45646,     0.45746,     0.45846,     0.45946,     0.46046,     0.46146,     0.46246,     0.46346,     0.46446,     0.46547,     0.46647,     0.46747,     0.46847,     0.46947,     0.47047,     0.47147,     0.47247,     0.47347,     0.47447,     0.47548,     0.47648,     0.47748,     0.47848,     0.47948,\n",
       "           0.48048,     0.48148,     0.48248,     0.48348,     0.48448,     0.48549,     0.48649,     0.48749,     0.48849,     0.48949,     0.49049,     0.49149,     0.49249,     0.49349,     0.49449,      0.4955,      0.4965,      0.4975,      0.4985,      0.4995,      0.5005,      0.5015,      0.5025,      0.5035,\n",
       "            0.5045,     0.50551,     0.50651,     0.50751,     0.50851,     0.50951,     0.51051,     0.51151,     0.51251,     0.51351,     0.51451,     0.51552,     0.51652,     0.51752,     0.51852,     0.51952,     0.52052,     0.52152,     0.52252,     0.52352,     0.52452,     0.52553,     0.52653,     0.52753,\n",
       "           0.52853,     0.52953,     0.53053,     0.53153,     0.53253,     0.53353,     0.53453,     0.53554,     0.53654,     0.53754,     0.53854,     0.53954,     0.54054,     0.54154,     0.54254,     0.54354,     0.54454,     0.54555,     0.54655,     0.54755,     0.54855,     0.54955,     0.55055,     0.55155,\n",
       "           0.55255,     0.55355,     0.55455,     0.55556,     0.55656,     0.55756,     0.55856,     0.55956,     0.56056,     0.56156,     0.56256,     0.56356,     0.56456,     0.56557,     0.56657,     0.56757,     0.56857,     0.56957,     0.57057,     0.57157,     0.57257,     0.57357,     0.57457,     0.57558,\n",
       "           0.57658,     0.57758,     0.57858,     0.57958,     0.58058,     0.58158,     0.58258,     0.58358,     0.58458,     0.58559,     0.58659,     0.58759,     0.58859,     0.58959,     0.59059,     0.59159,     0.59259,     0.59359,     0.59459,      0.5956,      0.5966,      0.5976,      0.5986,      0.5996,\n",
       "            0.6006,      0.6016,      0.6026,      0.6036,      0.6046,     0.60561,     0.60661,     0.60761,     0.60861,     0.60961,     0.61061,     0.61161,     0.61261,     0.61361,     0.61461,     0.61562,     0.61662,     0.61762,     0.61862,     0.61962,     0.62062,     0.62162,     0.62262,     0.62362,\n",
       "           0.62462,     0.62563,     0.62663,     0.62763,     0.62863,     0.62963,     0.63063,     0.63163,     0.63263,     0.63363,     0.63463,     0.63564,     0.63664,     0.63764,     0.63864,     0.63964,     0.64064,     0.64164,     0.64264,     0.64364,     0.64464,     0.64565,     0.64665,     0.64765,\n",
       "           0.64865,     0.64965,     0.65065,     0.65165,     0.65265,     0.65365,     0.65465,     0.65566,     0.65666,     0.65766,     0.65866,     0.65966,     0.66066,     0.66166,     0.66266,     0.66366,     0.66466,     0.66567,     0.66667,     0.66767,     0.66867,     0.66967,     0.67067,     0.67167,\n",
       "           0.67267,     0.67367,     0.67467,     0.67568,     0.67668,     0.67768,     0.67868,     0.67968,     0.68068,     0.68168,     0.68268,     0.68368,     0.68468,     0.68569,     0.68669,     0.68769,     0.68869,     0.68969,     0.69069,     0.69169,     0.69269,     0.69369,     0.69469,      0.6957,\n",
       "            0.6967,      0.6977,      0.6987,      0.6997,      0.7007,      0.7017,      0.7027,      0.7037,      0.7047,     0.70571,     0.70671,     0.70771,     0.70871,     0.70971,     0.71071,     0.71171,     0.71271,     0.71371,     0.71471,     0.71572,     0.71672,     0.71772,     0.71872,     0.71972,\n",
       "           0.72072,     0.72172,     0.72272,     0.72372,     0.72472,     0.72573,     0.72673,     0.72773,     0.72873,     0.72973,     0.73073,     0.73173,     0.73273,     0.73373,     0.73473,     0.73574,     0.73674,     0.73774,     0.73874,     0.73974,     0.74074,     0.74174,     0.74274,     0.74374,\n",
       "           0.74474,     0.74575,     0.74675,     0.74775,     0.74875,     0.74975,     0.75075,     0.75175,     0.75275,     0.75375,     0.75475,     0.75576,     0.75676,     0.75776,     0.75876,     0.75976,     0.76076,     0.76176,     0.76276,     0.76376,     0.76476,     0.76577,     0.76677,     0.76777,\n",
       "           0.76877,     0.76977,     0.77077,     0.77177,     0.77277,     0.77377,     0.77477,     0.77578,     0.77678,     0.77778,     0.77878,     0.77978,     0.78078,     0.78178,     0.78278,     0.78378,     0.78478,     0.78579,     0.78679,     0.78779,     0.78879,     0.78979,     0.79079,     0.79179,\n",
       "           0.79279,     0.79379,     0.79479,      0.7958,      0.7968,      0.7978,      0.7988,      0.7998,      0.8008,      0.8018,      0.8028,      0.8038,      0.8048,     0.80581,     0.80681,     0.80781,     0.80881,     0.80981,     0.81081,     0.81181,     0.81281,     0.81381,     0.81481,     0.81582,\n",
       "           0.81682,     0.81782,     0.81882,     0.81982,     0.82082,     0.82182,     0.82282,     0.82382,     0.82482,     0.82583,     0.82683,     0.82783,     0.82883,     0.82983,     0.83083,     0.83183,     0.83283,     0.83383,     0.83483,     0.83584,     0.83684,     0.83784,     0.83884,     0.83984,\n",
       "           0.84084,     0.84184,     0.84284,     0.84384,     0.84484,     0.84585,     0.84685,     0.84785,     0.84885,     0.84985,     0.85085,     0.85185,     0.85285,     0.85385,     0.85485,     0.85586,     0.85686,     0.85786,     0.85886,     0.85986,     0.86086,     0.86186,     0.86286,     0.86386,\n",
       "           0.86486,     0.86587,     0.86687,     0.86787,     0.86887,     0.86987,     0.87087,     0.87187,     0.87287,     0.87387,     0.87487,     0.87588,     0.87688,     0.87788,     0.87888,     0.87988,     0.88088,     0.88188,     0.88288,     0.88388,     0.88488,     0.88589,     0.88689,     0.88789,\n",
       "           0.88889,     0.88989,     0.89089,     0.89189,     0.89289,     0.89389,     0.89489,      0.8959,      0.8969,      0.8979,      0.8989,      0.8999,      0.9009,      0.9019,      0.9029,      0.9039,      0.9049,     0.90591,     0.90691,     0.90791,     0.90891,     0.90991,     0.91091,     0.91191,\n",
       "           0.91291,     0.91391,     0.91491,     0.91592,     0.91692,     0.91792,     0.91892,     0.91992,     0.92092,     0.92192,     0.92292,     0.92392,     0.92492,     0.92593,     0.92693,     0.92793,     0.92893,     0.92993,     0.93093,     0.93193,     0.93293,     0.93393,     0.93493,     0.93594,\n",
       "           0.93694,     0.93794,     0.93894,     0.93994,     0.94094,     0.94194,     0.94294,     0.94394,     0.94494,     0.94595,     0.94695,     0.94795,     0.94895,     0.94995,     0.95095,     0.95195,     0.95295,     0.95395,     0.95495,     0.95596,     0.95696,     0.95796,     0.95896,     0.95996,\n",
       "           0.96096,     0.96196,     0.96296,     0.96396,     0.96496,     0.96597,     0.96697,     0.96797,     0.96897,     0.96997,     0.97097,     0.97197,     0.97297,     0.97397,     0.97497,     0.97598,     0.97698,     0.97798,     0.97898,     0.97998,     0.98098,     0.98198,     0.98298,     0.98398,\n",
       "           0.98498,     0.98599,     0.98699,     0.98799,     0.98899,     0.98999,     0.99099,     0.99199,     0.99299,     0.99399,     0.99499,       0.996,       0.997,       0.998,       0.999,           1]), array([[          1,           1,           1, ...,     0.16667,     0.16667,           0],\n",
       "       [          1,           1,           1, ...,     0.47368,     0.47368,           0],\n",
       "       [          1,           1,           1, ...,  0.00075836,  0.00037918,           0],\n",
       "       [          1,           1,           1, ...,    0.002422,    0.001211,           0],\n",
       "       [          1,           1,           1, ...,    0.008301,   0.0041505,           0],\n",
       "       [          1,           1,           1, ...,     0.77273,     0.77273,           0]]), 'Recall', 'Precision'], [array([          0,    0.001001,    0.002002,    0.003003,    0.004004,    0.005005,    0.006006,    0.007007,    0.008008,    0.009009,     0.01001,    0.011011,    0.012012,    0.013013,    0.014014,    0.015015,    0.016016,    0.017017,    0.018018,    0.019019,     0.02002,    0.021021,    0.022022,    0.023023,\n",
       "          0.024024,    0.025025,    0.026026,    0.027027,    0.028028,    0.029029,     0.03003,    0.031031,    0.032032,    0.033033,    0.034034,    0.035035,    0.036036,    0.037037,    0.038038,    0.039039,     0.04004,    0.041041,    0.042042,    0.043043,    0.044044,    0.045045,    0.046046,    0.047047,\n",
       "          0.048048,    0.049049,     0.05005,    0.051051,    0.052052,    0.053053,    0.054054,    0.055055,    0.056056,    0.057057,    0.058058,    0.059059,     0.06006,    0.061061,    0.062062,    0.063063,    0.064064,    0.065065,    0.066066,    0.067067,    0.068068,    0.069069,     0.07007,    0.071071,\n",
       "          0.072072,    0.073073,    0.074074,    0.075075,    0.076076,    0.077077,    0.078078,    0.079079,     0.08008,    0.081081,    0.082082,    0.083083,    0.084084,    0.085085,    0.086086,    0.087087,    0.088088,    0.089089,     0.09009,    0.091091,    0.092092,    0.093093,    0.094094,    0.095095,\n",
       "          0.096096,    0.097097,    0.098098,    0.099099,      0.1001,      0.1011,      0.1021,      0.1031,      0.1041,     0.10511,     0.10611,     0.10711,     0.10811,     0.10911,     0.11011,     0.11111,     0.11211,     0.11311,     0.11411,     0.11512,     0.11612,     0.11712,     0.11812,     0.11912,\n",
       "           0.12012,     0.12112,     0.12212,     0.12312,     0.12412,     0.12513,     0.12613,     0.12713,     0.12813,     0.12913,     0.13013,     0.13113,     0.13213,     0.13313,     0.13413,     0.13514,     0.13614,     0.13714,     0.13814,     0.13914,     0.14014,     0.14114,     0.14214,     0.14314,\n",
       "           0.14414,     0.14515,     0.14615,     0.14715,     0.14815,     0.14915,     0.15015,     0.15115,     0.15215,     0.15315,     0.15415,     0.15516,     0.15616,     0.15716,     0.15816,     0.15916,     0.16016,     0.16116,     0.16216,     0.16316,     0.16416,     0.16517,     0.16617,     0.16717,\n",
       "           0.16817,     0.16917,     0.17017,     0.17117,     0.17217,     0.17317,     0.17417,     0.17518,     0.17618,     0.17718,     0.17818,     0.17918,     0.18018,     0.18118,     0.18218,     0.18318,     0.18418,     0.18519,     0.18619,     0.18719,     0.18819,     0.18919,     0.19019,     0.19119,\n",
       "           0.19219,     0.19319,     0.19419,      0.1952,      0.1962,      0.1972,      0.1982,      0.1992,      0.2002,      0.2012,      0.2022,      0.2032,      0.2042,     0.20521,     0.20621,     0.20721,     0.20821,     0.20921,     0.21021,     0.21121,     0.21221,     0.21321,     0.21421,     0.21522,\n",
       "           0.21622,     0.21722,     0.21822,     0.21922,     0.22022,     0.22122,     0.22222,     0.22322,     0.22422,     0.22523,     0.22623,     0.22723,     0.22823,     0.22923,     0.23023,     0.23123,     0.23223,     0.23323,     0.23423,     0.23524,     0.23624,     0.23724,     0.23824,     0.23924,\n",
       "           0.24024,     0.24124,     0.24224,     0.24324,     0.24424,     0.24525,     0.24625,     0.24725,     0.24825,     0.24925,     0.25025,     0.25125,     0.25225,     0.25325,     0.25425,     0.25526,     0.25626,     0.25726,     0.25826,     0.25926,     0.26026,     0.26126,     0.26226,     0.26326,\n",
       "           0.26426,     0.26527,     0.26627,     0.26727,     0.26827,     0.26927,     0.27027,     0.27127,     0.27227,     0.27327,     0.27427,     0.27528,     0.27628,     0.27728,     0.27828,     0.27928,     0.28028,     0.28128,     0.28228,     0.28328,     0.28428,     0.28529,     0.28629,     0.28729,\n",
       "           0.28829,     0.28929,     0.29029,     0.29129,     0.29229,     0.29329,     0.29429,      0.2953,      0.2963,      0.2973,      0.2983,      0.2993,      0.3003,      0.3013,      0.3023,      0.3033,      0.3043,     0.30531,     0.30631,     0.30731,     0.30831,     0.30931,     0.31031,     0.31131,\n",
       "           0.31231,     0.31331,     0.31431,     0.31532,     0.31632,     0.31732,     0.31832,     0.31932,     0.32032,     0.32132,     0.32232,     0.32332,     0.32432,     0.32533,     0.32633,     0.32733,     0.32833,     0.32933,     0.33033,     0.33133,     0.33233,     0.33333,     0.33433,     0.33534,\n",
       "           0.33634,     0.33734,     0.33834,     0.33934,     0.34034,     0.34134,     0.34234,     0.34334,     0.34434,     0.34535,     0.34635,     0.34735,     0.34835,     0.34935,     0.35035,     0.35135,     0.35235,     0.35335,     0.35435,     0.35536,     0.35636,     0.35736,     0.35836,     0.35936,\n",
       "           0.36036,     0.36136,     0.36236,     0.36336,     0.36436,     0.36537,     0.36637,     0.36737,     0.36837,     0.36937,     0.37037,     0.37137,     0.37237,     0.37337,     0.37437,     0.37538,     0.37638,     0.37738,     0.37838,     0.37938,     0.38038,     0.38138,     0.38238,     0.38338,\n",
       "           0.38438,     0.38539,     0.38639,     0.38739,     0.38839,     0.38939,     0.39039,     0.39139,     0.39239,     0.39339,     0.39439,      0.3954,      0.3964,      0.3974,      0.3984,      0.3994,      0.4004,      0.4014,      0.4024,      0.4034,      0.4044,     0.40541,     0.40641,     0.40741,\n",
       "           0.40841,     0.40941,     0.41041,     0.41141,     0.41241,     0.41341,     0.41441,     0.41542,     0.41642,     0.41742,     0.41842,     0.41942,     0.42042,     0.42142,     0.42242,     0.42342,     0.42442,     0.42543,     0.42643,     0.42743,     0.42843,     0.42943,     0.43043,     0.43143,\n",
       "           0.43243,     0.43343,     0.43443,     0.43544,     0.43644,     0.43744,     0.43844,     0.43944,     0.44044,     0.44144,     0.44244,     0.44344,     0.44444,     0.44545,     0.44645,     0.44745,     0.44845,     0.44945,     0.45045,     0.45145,     0.45245,     0.45345,     0.45445,     0.45546,\n",
       "           0.45646,     0.45746,     0.45846,     0.45946,     0.46046,     0.46146,     0.46246,     0.46346,     0.46446,     0.46547,     0.46647,     0.46747,     0.46847,     0.46947,     0.47047,     0.47147,     0.47247,     0.47347,     0.47447,     0.47548,     0.47648,     0.47748,     0.47848,     0.47948,\n",
       "           0.48048,     0.48148,     0.48248,     0.48348,     0.48448,     0.48549,     0.48649,     0.48749,     0.48849,     0.48949,     0.49049,     0.49149,     0.49249,     0.49349,     0.49449,      0.4955,      0.4965,      0.4975,      0.4985,      0.4995,      0.5005,      0.5015,      0.5025,      0.5035,\n",
       "            0.5045,     0.50551,     0.50651,     0.50751,     0.50851,     0.50951,     0.51051,     0.51151,     0.51251,     0.51351,     0.51451,     0.51552,     0.51652,     0.51752,     0.51852,     0.51952,     0.52052,     0.52152,     0.52252,     0.52352,     0.52452,     0.52553,     0.52653,     0.52753,\n",
       "           0.52853,     0.52953,     0.53053,     0.53153,     0.53253,     0.53353,     0.53453,     0.53554,     0.53654,     0.53754,     0.53854,     0.53954,     0.54054,     0.54154,     0.54254,     0.54354,     0.54454,     0.54555,     0.54655,     0.54755,     0.54855,     0.54955,     0.55055,     0.55155,\n",
       "           0.55255,     0.55355,     0.55455,     0.55556,     0.55656,     0.55756,     0.55856,     0.55956,     0.56056,     0.56156,     0.56256,     0.56356,     0.56456,     0.56557,     0.56657,     0.56757,     0.56857,     0.56957,     0.57057,     0.57157,     0.57257,     0.57357,     0.57457,     0.57558,\n",
       "           0.57658,     0.57758,     0.57858,     0.57958,     0.58058,     0.58158,     0.58258,     0.58358,     0.58458,     0.58559,     0.58659,     0.58759,     0.58859,     0.58959,     0.59059,     0.59159,     0.59259,     0.59359,     0.59459,      0.5956,      0.5966,      0.5976,      0.5986,      0.5996,\n",
       "            0.6006,      0.6016,      0.6026,      0.6036,      0.6046,     0.60561,     0.60661,     0.60761,     0.60861,     0.60961,     0.61061,     0.61161,     0.61261,     0.61361,     0.61461,     0.61562,     0.61662,     0.61762,     0.61862,     0.61962,     0.62062,     0.62162,     0.62262,     0.62362,\n",
       "           0.62462,     0.62563,     0.62663,     0.62763,     0.62863,     0.62963,     0.63063,     0.63163,     0.63263,     0.63363,     0.63463,     0.63564,     0.63664,     0.63764,     0.63864,     0.63964,     0.64064,     0.64164,     0.64264,     0.64364,     0.64464,     0.64565,     0.64665,     0.64765,\n",
       "           0.64865,     0.64965,     0.65065,     0.65165,     0.65265,     0.65365,     0.65465,     0.65566,     0.65666,     0.65766,     0.65866,     0.65966,     0.66066,     0.66166,     0.66266,     0.66366,     0.66466,     0.66567,     0.66667,     0.66767,     0.66867,     0.66967,     0.67067,     0.67167,\n",
       "           0.67267,     0.67367,     0.67467,     0.67568,     0.67668,     0.67768,     0.67868,     0.67968,     0.68068,     0.68168,     0.68268,     0.68368,     0.68468,     0.68569,     0.68669,     0.68769,     0.68869,     0.68969,     0.69069,     0.69169,     0.69269,     0.69369,     0.69469,      0.6957,\n",
       "            0.6967,      0.6977,      0.6987,      0.6997,      0.7007,      0.7017,      0.7027,      0.7037,      0.7047,     0.70571,     0.70671,     0.70771,     0.70871,     0.70971,     0.71071,     0.71171,     0.71271,     0.71371,     0.71471,     0.71572,     0.71672,     0.71772,     0.71872,     0.71972,\n",
       "           0.72072,     0.72172,     0.72272,     0.72372,     0.72472,     0.72573,     0.72673,     0.72773,     0.72873,     0.72973,     0.73073,     0.73173,     0.73273,     0.73373,     0.73473,     0.73574,     0.73674,     0.73774,     0.73874,     0.73974,     0.74074,     0.74174,     0.74274,     0.74374,\n",
       "           0.74474,     0.74575,     0.74675,     0.74775,     0.74875,     0.74975,     0.75075,     0.75175,     0.75275,     0.75375,     0.75475,     0.75576,     0.75676,     0.75776,     0.75876,     0.75976,     0.76076,     0.76176,     0.76276,     0.76376,     0.76476,     0.76577,     0.76677,     0.76777,\n",
       "           0.76877,     0.76977,     0.77077,     0.77177,     0.77277,     0.77377,     0.77477,     0.77578,     0.77678,     0.77778,     0.77878,     0.77978,     0.78078,     0.78178,     0.78278,     0.78378,     0.78478,     0.78579,     0.78679,     0.78779,     0.78879,     0.78979,     0.79079,     0.79179,\n",
       "           0.79279,     0.79379,     0.79479,      0.7958,      0.7968,      0.7978,      0.7988,      0.7998,      0.8008,      0.8018,      0.8028,      0.8038,      0.8048,     0.80581,     0.80681,     0.80781,     0.80881,     0.80981,     0.81081,     0.81181,     0.81281,     0.81381,     0.81481,     0.81582,\n",
       "           0.81682,     0.81782,     0.81882,     0.81982,     0.82082,     0.82182,     0.82282,     0.82382,     0.82482,     0.82583,     0.82683,     0.82783,     0.82883,     0.82983,     0.83083,     0.83183,     0.83283,     0.83383,     0.83483,     0.83584,     0.83684,     0.83784,     0.83884,     0.83984,\n",
       "           0.84084,     0.84184,     0.84284,     0.84384,     0.84484,     0.84585,     0.84685,     0.84785,     0.84885,     0.84985,     0.85085,     0.85185,     0.85285,     0.85385,     0.85485,     0.85586,     0.85686,     0.85786,     0.85886,     0.85986,     0.86086,     0.86186,     0.86286,     0.86386,\n",
       "           0.86486,     0.86587,     0.86687,     0.86787,     0.86887,     0.86987,     0.87087,     0.87187,     0.87287,     0.87387,     0.87487,     0.87588,     0.87688,     0.87788,     0.87888,     0.87988,     0.88088,     0.88188,     0.88288,     0.88388,     0.88488,     0.88589,     0.88689,     0.88789,\n",
       "           0.88889,     0.88989,     0.89089,     0.89189,     0.89289,     0.89389,     0.89489,      0.8959,      0.8969,      0.8979,      0.8989,      0.8999,      0.9009,      0.9019,      0.9029,      0.9039,      0.9049,     0.90591,     0.90691,     0.90791,     0.90891,     0.90991,     0.91091,     0.91191,\n",
       "           0.91291,     0.91391,     0.91491,     0.91592,     0.91692,     0.91792,     0.91892,     0.91992,     0.92092,     0.92192,     0.92292,     0.92392,     0.92492,     0.92593,     0.92693,     0.92793,     0.92893,     0.92993,     0.93093,     0.93193,     0.93293,     0.93393,     0.93493,     0.93594,\n",
       "           0.93694,     0.93794,     0.93894,     0.93994,     0.94094,     0.94194,     0.94294,     0.94394,     0.94494,     0.94595,     0.94695,     0.94795,     0.94895,     0.94995,     0.95095,     0.95195,     0.95295,     0.95395,     0.95495,     0.95596,     0.95696,     0.95796,     0.95896,     0.95996,\n",
       "           0.96096,     0.96196,     0.96296,     0.96396,     0.96496,     0.96597,     0.96697,     0.96797,     0.96897,     0.96997,     0.97097,     0.97197,     0.97297,     0.97397,     0.97497,     0.97598,     0.97698,     0.97798,     0.97898,     0.97998,     0.98098,     0.98198,     0.98298,     0.98398,\n",
       "           0.98498,     0.98599,     0.98699,     0.98799,     0.98899,     0.98999,     0.99099,     0.99199,     0.99299,     0.99399,     0.99499,       0.996,       0.997,       0.998,       0.999,           1]), array([[   0.057143,    0.057143,    0.057143, ...,           0,           0,           0],\n",
       "       [   0.023825,    0.023825,    0.032994, ...,           0,           0,           0],\n",
       "       [   0.022421,    0.022421,    0.022445, ...,           0,           0,           0],\n",
       "       [   0.019323,    0.019323,    0.019437, ...,    0.017588,           0,           0],\n",
       "       [    0.15015,     0.15015,     0.15102, ...,           0,           0,           0],\n",
       "       [   0.055195,    0.055195,    0.076047, ...,     0.12156,           0,           0]]), 'Confidence', 'F1'], [array([          0,    0.001001,    0.002002,    0.003003,    0.004004,    0.005005,    0.006006,    0.007007,    0.008008,    0.009009,     0.01001,    0.011011,    0.012012,    0.013013,    0.014014,    0.015015,    0.016016,    0.017017,    0.018018,    0.019019,     0.02002,    0.021021,    0.022022,    0.023023,\n",
       "          0.024024,    0.025025,    0.026026,    0.027027,    0.028028,    0.029029,     0.03003,    0.031031,    0.032032,    0.033033,    0.034034,    0.035035,    0.036036,    0.037037,    0.038038,    0.039039,     0.04004,    0.041041,    0.042042,    0.043043,    0.044044,    0.045045,    0.046046,    0.047047,\n",
       "          0.048048,    0.049049,     0.05005,    0.051051,    0.052052,    0.053053,    0.054054,    0.055055,    0.056056,    0.057057,    0.058058,    0.059059,     0.06006,    0.061061,    0.062062,    0.063063,    0.064064,    0.065065,    0.066066,    0.067067,    0.068068,    0.069069,     0.07007,    0.071071,\n",
       "          0.072072,    0.073073,    0.074074,    0.075075,    0.076076,    0.077077,    0.078078,    0.079079,     0.08008,    0.081081,    0.082082,    0.083083,    0.084084,    0.085085,    0.086086,    0.087087,    0.088088,    0.089089,     0.09009,    0.091091,    0.092092,    0.093093,    0.094094,    0.095095,\n",
       "          0.096096,    0.097097,    0.098098,    0.099099,      0.1001,      0.1011,      0.1021,      0.1031,      0.1041,     0.10511,     0.10611,     0.10711,     0.10811,     0.10911,     0.11011,     0.11111,     0.11211,     0.11311,     0.11411,     0.11512,     0.11612,     0.11712,     0.11812,     0.11912,\n",
       "           0.12012,     0.12112,     0.12212,     0.12312,     0.12412,     0.12513,     0.12613,     0.12713,     0.12813,     0.12913,     0.13013,     0.13113,     0.13213,     0.13313,     0.13413,     0.13514,     0.13614,     0.13714,     0.13814,     0.13914,     0.14014,     0.14114,     0.14214,     0.14314,\n",
       "           0.14414,     0.14515,     0.14615,     0.14715,     0.14815,     0.14915,     0.15015,     0.15115,     0.15215,     0.15315,     0.15415,     0.15516,     0.15616,     0.15716,     0.15816,     0.15916,     0.16016,     0.16116,     0.16216,     0.16316,     0.16416,     0.16517,     0.16617,     0.16717,\n",
       "           0.16817,     0.16917,     0.17017,     0.17117,     0.17217,     0.17317,     0.17417,     0.17518,     0.17618,     0.17718,     0.17818,     0.17918,     0.18018,     0.18118,     0.18218,     0.18318,     0.18418,     0.18519,     0.18619,     0.18719,     0.18819,     0.18919,     0.19019,     0.19119,\n",
       "           0.19219,     0.19319,     0.19419,      0.1952,      0.1962,      0.1972,      0.1982,      0.1992,      0.2002,      0.2012,      0.2022,      0.2032,      0.2042,     0.20521,     0.20621,     0.20721,     0.20821,     0.20921,     0.21021,     0.21121,     0.21221,     0.21321,     0.21421,     0.21522,\n",
       "           0.21622,     0.21722,     0.21822,     0.21922,     0.22022,     0.22122,     0.22222,     0.22322,     0.22422,     0.22523,     0.22623,     0.22723,     0.22823,     0.22923,     0.23023,     0.23123,     0.23223,     0.23323,     0.23423,     0.23524,     0.23624,     0.23724,     0.23824,     0.23924,\n",
       "           0.24024,     0.24124,     0.24224,     0.24324,     0.24424,     0.24525,     0.24625,     0.24725,     0.24825,     0.24925,     0.25025,     0.25125,     0.25225,     0.25325,     0.25425,     0.25526,     0.25626,     0.25726,     0.25826,     0.25926,     0.26026,     0.26126,     0.26226,     0.26326,\n",
       "           0.26426,     0.26527,     0.26627,     0.26727,     0.26827,     0.26927,     0.27027,     0.27127,     0.27227,     0.27327,     0.27427,     0.27528,     0.27628,     0.27728,     0.27828,     0.27928,     0.28028,     0.28128,     0.28228,     0.28328,     0.28428,     0.28529,     0.28629,     0.28729,\n",
       "           0.28829,     0.28929,     0.29029,     0.29129,     0.29229,     0.29329,     0.29429,      0.2953,      0.2963,      0.2973,      0.2983,      0.2993,      0.3003,      0.3013,      0.3023,      0.3033,      0.3043,     0.30531,     0.30631,     0.30731,     0.30831,     0.30931,     0.31031,     0.31131,\n",
       "           0.31231,     0.31331,     0.31431,     0.31532,     0.31632,     0.31732,     0.31832,     0.31932,     0.32032,     0.32132,     0.32232,     0.32332,     0.32432,     0.32533,     0.32633,     0.32733,     0.32833,     0.32933,     0.33033,     0.33133,     0.33233,     0.33333,     0.33433,     0.33534,\n",
       "           0.33634,     0.33734,     0.33834,     0.33934,     0.34034,     0.34134,     0.34234,     0.34334,     0.34434,     0.34535,     0.34635,     0.34735,     0.34835,     0.34935,     0.35035,     0.35135,     0.35235,     0.35335,     0.35435,     0.35536,     0.35636,     0.35736,     0.35836,     0.35936,\n",
       "           0.36036,     0.36136,     0.36236,     0.36336,     0.36436,     0.36537,     0.36637,     0.36737,     0.36837,     0.36937,     0.37037,     0.37137,     0.37237,     0.37337,     0.37437,     0.37538,     0.37638,     0.37738,     0.37838,     0.37938,     0.38038,     0.38138,     0.38238,     0.38338,\n",
       "           0.38438,     0.38539,     0.38639,     0.38739,     0.38839,     0.38939,     0.39039,     0.39139,     0.39239,     0.39339,     0.39439,      0.3954,      0.3964,      0.3974,      0.3984,      0.3994,      0.4004,      0.4014,      0.4024,      0.4034,      0.4044,     0.40541,     0.40641,     0.40741,\n",
       "           0.40841,     0.40941,     0.41041,     0.41141,     0.41241,     0.41341,     0.41441,     0.41542,     0.41642,     0.41742,     0.41842,     0.41942,     0.42042,     0.42142,     0.42242,     0.42342,     0.42442,     0.42543,     0.42643,     0.42743,     0.42843,     0.42943,     0.43043,     0.43143,\n",
       "           0.43243,     0.43343,     0.43443,     0.43544,     0.43644,     0.43744,     0.43844,     0.43944,     0.44044,     0.44144,     0.44244,     0.44344,     0.44444,     0.44545,     0.44645,     0.44745,     0.44845,     0.44945,     0.45045,     0.45145,     0.45245,     0.45345,     0.45445,     0.45546,\n",
       "           0.45646,     0.45746,     0.45846,     0.45946,     0.46046,     0.46146,     0.46246,     0.46346,     0.46446,     0.46547,     0.46647,     0.46747,     0.46847,     0.46947,     0.47047,     0.47147,     0.47247,     0.47347,     0.47447,     0.47548,     0.47648,     0.47748,     0.47848,     0.47948,\n",
       "           0.48048,     0.48148,     0.48248,     0.48348,     0.48448,     0.48549,     0.48649,     0.48749,     0.48849,     0.48949,     0.49049,     0.49149,     0.49249,     0.49349,     0.49449,      0.4955,      0.4965,      0.4975,      0.4985,      0.4995,      0.5005,      0.5015,      0.5025,      0.5035,\n",
       "            0.5045,     0.50551,     0.50651,     0.50751,     0.50851,     0.50951,     0.51051,     0.51151,     0.51251,     0.51351,     0.51451,     0.51552,     0.51652,     0.51752,     0.51852,     0.51952,     0.52052,     0.52152,     0.52252,     0.52352,     0.52452,     0.52553,     0.52653,     0.52753,\n",
       "           0.52853,     0.52953,     0.53053,     0.53153,     0.53253,     0.53353,     0.53453,     0.53554,     0.53654,     0.53754,     0.53854,     0.53954,     0.54054,     0.54154,     0.54254,     0.54354,     0.54454,     0.54555,     0.54655,     0.54755,     0.54855,     0.54955,     0.55055,     0.55155,\n",
       "           0.55255,     0.55355,     0.55455,     0.55556,     0.55656,     0.55756,     0.55856,     0.55956,     0.56056,     0.56156,     0.56256,     0.56356,     0.56456,     0.56557,     0.56657,     0.56757,     0.56857,     0.56957,     0.57057,     0.57157,     0.57257,     0.57357,     0.57457,     0.57558,\n",
       "           0.57658,     0.57758,     0.57858,     0.57958,     0.58058,     0.58158,     0.58258,     0.58358,     0.58458,     0.58559,     0.58659,     0.58759,     0.58859,     0.58959,     0.59059,     0.59159,     0.59259,     0.59359,     0.59459,      0.5956,      0.5966,      0.5976,      0.5986,      0.5996,\n",
       "            0.6006,      0.6016,      0.6026,      0.6036,      0.6046,     0.60561,     0.60661,     0.60761,     0.60861,     0.60961,     0.61061,     0.61161,     0.61261,     0.61361,     0.61461,     0.61562,     0.61662,     0.61762,     0.61862,     0.61962,     0.62062,     0.62162,     0.62262,     0.62362,\n",
       "           0.62462,     0.62563,     0.62663,     0.62763,     0.62863,     0.62963,     0.63063,     0.63163,     0.63263,     0.63363,     0.63463,     0.63564,     0.63664,     0.63764,     0.63864,     0.63964,     0.64064,     0.64164,     0.64264,     0.64364,     0.64464,     0.64565,     0.64665,     0.64765,\n",
       "           0.64865,     0.64965,     0.65065,     0.65165,     0.65265,     0.65365,     0.65465,     0.65566,     0.65666,     0.65766,     0.65866,     0.65966,     0.66066,     0.66166,     0.66266,     0.66366,     0.66466,     0.66567,     0.66667,     0.66767,     0.66867,     0.66967,     0.67067,     0.67167,\n",
       "           0.67267,     0.67367,     0.67467,     0.67568,     0.67668,     0.67768,     0.67868,     0.67968,     0.68068,     0.68168,     0.68268,     0.68368,     0.68468,     0.68569,     0.68669,     0.68769,     0.68869,     0.68969,     0.69069,     0.69169,     0.69269,     0.69369,     0.69469,      0.6957,\n",
       "            0.6967,      0.6977,      0.6987,      0.6997,      0.7007,      0.7017,      0.7027,      0.7037,      0.7047,     0.70571,     0.70671,     0.70771,     0.70871,     0.70971,     0.71071,     0.71171,     0.71271,     0.71371,     0.71471,     0.71572,     0.71672,     0.71772,     0.71872,     0.71972,\n",
       "           0.72072,     0.72172,     0.72272,     0.72372,     0.72472,     0.72573,     0.72673,     0.72773,     0.72873,     0.72973,     0.73073,     0.73173,     0.73273,     0.73373,     0.73473,     0.73574,     0.73674,     0.73774,     0.73874,     0.73974,     0.74074,     0.74174,     0.74274,     0.74374,\n",
       "           0.74474,     0.74575,     0.74675,     0.74775,     0.74875,     0.74975,     0.75075,     0.75175,     0.75275,     0.75375,     0.75475,     0.75576,     0.75676,     0.75776,     0.75876,     0.75976,     0.76076,     0.76176,     0.76276,     0.76376,     0.76476,     0.76577,     0.76677,     0.76777,\n",
       "           0.76877,     0.76977,     0.77077,     0.77177,     0.77277,     0.77377,     0.77477,     0.77578,     0.77678,     0.77778,     0.77878,     0.77978,     0.78078,     0.78178,     0.78278,     0.78378,     0.78478,     0.78579,     0.78679,     0.78779,     0.78879,     0.78979,     0.79079,     0.79179,\n",
       "           0.79279,     0.79379,     0.79479,      0.7958,      0.7968,      0.7978,      0.7988,      0.7998,      0.8008,      0.8018,      0.8028,      0.8038,      0.8048,     0.80581,     0.80681,     0.80781,     0.80881,     0.80981,     0.81081,     0.81181,     0.81281,     0.81381,     0.81481,     0.81582,\n",
       "           0.81682,     0.81782,     0.81882,     0.81982,     0.82082,     0.82182,     0.82282,     0.82382,     0.82482,     0.82583,     0.82683,     0.82783,     0.82883,     0.82983,     0.83083,     0.83183,     0.83283,     0.83383,     0.83483,     0.83584,     0.83684,     0.83784,     0.83884,     0.83984,\n",
       "           0.84084,     0.84184,     0.84284,     0.84384,     0.84484,     0.84585,     0.84685,     0.84785,     0.84885,     0.84985,     0.85085,     0.85185,     0.85285,     0.85385,     0.85485,     0.85586,     0.85686,     0.85786,     0.85886,     0.85986,     0.86086,     0.86186,     0.86286,     0.86386,\n",
       "           0.86486,     0.86587,     0.86687,     0.86787,     0.86887,     0.86987,     0.87087,     0.87187,     0.87287,     0.87387,     0.87487,     0.87588,     0.87688,     0.87788,     0.87888,     0.87988,     0.88088,     0.88188,     0.88288,     0.88388,     0.88488,     0.88589,     0.88689,     0.88789,\n",
       "           0.88889,     0.88989,     0.89089,     0.89189,     0.89289,     0.89389,     0.89489,      0.8959,      0.8969,      0.8979,      0.8989,      0.8999,      0.9009,      0.9019,      0.9029,      0.9039,      0.9049,     0.90591,     0.90691,     0.90791,     0.90891,     0.90991,     0.91091,     0.91191,\n",
       "           0.91291,     0.91391,     0.91491,     0.91592,     0.91692,     0.91792,     0.91892,     0.91992,     0.92092,     0.92192,     0.92292,     0.92392,     0.92492,     0.92593,     0.92693,     0.92793,     0.92893,     0.92993,     0.93093,     0.93193,     0.93293,     0.93393,     0.93493,     0.93594,\n",
       "           0.93694,     0.93794,     0.93894,     0.93994,     0.94094,     0.94194,     0.94294,     0.94394,     0.94494,     0.94595,     0.94695,     0.94795,     0.94895,     0.94995,     0.95095,     0.95195,     0.95295,     0.95395,     0.95495,     0.95596,     0.95696,     0.95796,     0.95896,     0.95996,\n",
       "           0.96096,     0.96196,     0.96296,     0.96396,     0.96496,     0.96597,     0.96697,     0.96797,     0.96897,     0.96997,     0.97097,     0.97197,     0.97297,     0.97397,     0.97497,     0.97598,     0.97698,     0.97798,     0.97898,     0.97998,     0.98098,     0.98198,     0.98298,     0.98398,\n",
       "           0.98498,     0.98599,     0.98699,     0.98799,     0.98899,     0.98999,     0.99099,     0.99199,     0.99299,     0.99399,     0.99499,       0.996,       0.997,       0.998,       0.999,           1]), array([[   0.029412,    0.029412,    0.029412, ...,           1,           1,           1],\n",
       "       [   0.012056,    0.012056,    0.016774, ...,           1,           1,           1],\n",
       "       [   0.011341,    0.011341,    0.011354, ...,           1,           1,           1],\n",
       "       [  0.0097565,   0.0097565,   0.0098148, ...,           1,           1,           1],\n",
       "       [   0.081301,    0.081301,     0.08181, ...,           1,           1,           1],\n",
       "       [   0.028381,    0.028381,    0.039526, ...,           1,           1,           1]]), 'Confidence', 'Precision'], [array([          0,    0.001001,    0.002002,    0.003003,    0.004004,    0.005005,    0.006006,    0.007007,    0.008008,    0.009009,     0.01001,    0.011011,    0.012012,    0.013013,    0.014014,    0.015015,    0.016016,    0.017017,    0.018018,    0.019019,     0.02002,    0.021021,    0.022022,    0.023023,\n",
       "          0.024024,    0.025025,    0.026026,    0.027027,    0.028028,    0.029029,     0.03003,    0.031031,    0.032032,    0.033033,    0.034034,    0.035035,    0.036036,    0.037037,    0.038038,    0.039039,     0.04004,    0.041041,    0.042042,    0.043043,    0.044044,    0.045045,    0.046046,    0.047047,\n",
       "          0.048048,    0.049049,     0.05005,    0.051051,    0.052052,    0.053053,    0.054054,    0.055055,    0.056056,    0.057057,    0.058058,    0.059059,     0.06006,    0.061061,    0.062062,    0.063063,    0.064064,    0.065065,    0.066066,    0.067067,    0.068068,    0.069069,     0.07007,    0.071071,\n",
       "          0.072072,    0.073073,    0.074074,    0.075075,    0.076076,    0.077077,    0.078078,    0.079079,     0.08008,    0.081081,    0.082082,    0.083083,    0.084084,    0.085085,    0.086086,    0.087087,    0.088088,    0.089089,     0.09009,    0.091091,    0.092092,    0.093093,    0.094094,    0.095095,\n",
       "          0.096096,    0.097097,    0.098098,    0.099099,      0.1001,      0.1011,      0.1021,      0.1031,      0.1041,     0.10511,     0.10611,     0.10711,     0.10811,     0.10911,     0.11011,     0.11111,     0.11211,     0.11311,     0.11411,     0.11512,     0.11612,     0.11712,     0.11812,     0.11912,\n",
       "           0.12012,     0.12112,     0.12212,     0.12312,     0.12412,     0.12513,     0.12613,     0.12713,     0.12813,     0.12913,     0.13013,     0.13113,     0.13213,     0.13313,     0.13413,     0.13514,     0.13614,     0.13714,     0.13814,     0.13914,     0.14014,     0.14114,     0.14214,     0.14314,\n",
       "           0.14414,     0.14515,     0.14615,     0.14715,     0.14815,     0.14915,     0.15015,     0.15115,     0.15215,     0.15315,     0.15415,     0.15516,     0.15616,     0.15716,     0.15816,     0.15916,     0.16016,     0.16116,     0.16216,     0.16316,     0.16416,     0.16517,     0.16617,     0.16717,\n",
       "           0.16817,     0.16917,     0.17017,     0.17117,     0.17217,     0.17317,     0.17417,     0.17518,     0.17618,     0.17718,     0.17818,     0.17918,     0.18018,     0.18118,     0.18218,     0.18318,     0.18418,     0.18519,     0.18619,     0.18719,     0.18819,     0.18919,     0.19019,     0.19119,\n",
       "           0.19219,     0.19319,     0.19419,      0.1952,      0.1962,      0.1972,      0.1982,      0.1992,      0.2002,      0.2012,      0.2022,      0.2032,      0.2042,     0.20521,     0.20621,     0.20721,     0.20821,     0.20921,     0.21021,     0.21121,     0.21221,     0.21321,     0.21421,     0.21522,\n",
       "           0.21622,     0.21722,     0.21822,     0.21922,     0.22022,     0.22122,     0.22222,     0.22322,     0.22422,     0.22523,     0.22623,     0.22723,     0.22823,     0.22923,     0.23023,     0.23123,     0.23223,     0.23323,     0.23423,     0.23524,     0.23624,     0.23724,     0.23824,     0.23924,\n",
       "           0.24024,     0.24124,     0.24224,     0.24324,     0.24424,     0.24525,     0.24625,     0.24725,     0.24825,     0.24925,     0.25025,     0.25125,     0.25225,     0.25325,     0.25425,     0.25526,     0.25626,     0.25726,     0.25826,     0.25926,     0.26026,     0.26126,     0.26226,     0.26326,\n",
       "           0.26426,     0.26527,     0.26627,     0.26727,     0.26827,     0.26927,     0.27027,     0.27127,     0.27227,     0.27327,     0.27427,     0.27528,     0.27628,     0.27728,     0.27828,     0.27928,     0.28028,     0.28128,     0.28228,     0.28328,     0.28428,     0.28529,     0.28629,     0.28729,\n",
       "           0.28829,     0.28929,     0.29029,     0.29129,     0.29229,     0.29329,     0.29429,      0.2953,      0.2963,      0.2973,      0.2983,      0.2993,      0.3003,      0.3013,      0.3023,      0.3033,      0.3043,     0.30531,     0.30631,     0.30731,     0.30831,     0.30931,     0.31031,     0.31131,\n",
       "           0.31231,     0.31331,     0.31431,     0.31532,     0.31632,     0.31732,     0.31832,     0.31932,     0.32032,     0.32132,     0.32232,     0.32332,     0.32432,     0.32533,     0.32633,     0.32733,     0.32833,     0.32933,     0.33033,     0.33133,     0.33233,     0.33333,     0.33433,     0.33534,\n",
       "           0.33634,     0.33734,     0.33834,     0.33934,     0.34034,     0.34134,     0.34234,     0.34334,     0.34434,     0.34535,     0.34635,     0.34735,     0.34835,     0.34935,     0.35035,     0.35135,     0.35235,     0.35335,     0.35435,     0.35536,     0.35636,     0.35736,     0.35836,     0.35936,\n",
       "           0.36036,     0.36136,     0.36236,     0.36336,     0.36436,     0.36537,     0.36637,     0.36737,     0.36837,     0.36937,     0.37037,     0.37137,     0.37237,     0.37337,     0.37437,     0.37538,     0.37638,     0.37738,     0.37838,     0.37938,     0.38038,     0.38138,     0.38238,     0.38338,\n",
       "           0.38438,     0.38539,     0.38639,     0.38739,     0.38839,     0.38939,     0.39039,     0.39139,     0.39239,     0.39339,     0.39439,      0.3954,      0.3964,      0.3974,      0.3984,      0.3994,      0.4004,      0.4014,      0.4024,      0.4034,      0.4044,     0.40541,     0.40641,     0.40741,\n",
       "           0.40841,     0.40941,     0.41041,     0.41141,     0.41241,     0.41341,     0.41441,     0.41542,     0.41642,     0.41742,     0.41842,     0.41942,     0.42042,     0.42142,     0.42242,     0.42342,     0.42442,     0.42543,     0.42643,     0.42743,     0.42843,     0.42943,     0.43043,     0.43143,\n",
       "           0.43243,     0.43343,     0.43443,     0.43544,     0.43644,     0.43744,     0.43844,     0.43944,     0.44044,     0.44144,     0.44244,     0.44344,     0.44444,     0.44545,     0.44645,     0.44745,     0.44845,     0.44945,     0.45045,     0.45145,     0.45245,     0.45345,     0.45445,     0.45546,\n",
       "           0.45646,     0.45746,     0.45846,     0.45946,     0.46046,     0.46146,     0.46246,     0.46346,     0.46446,     0.46547,     0.46647,     0.46747,     0.46847,     0.46947,     0.47047,     0.47147,     0.47247,     0.47347,     0.47447,     0.47548,     0.47648,     0.47748,     0.47848,     0.47948,\n",
       "           0.48048,     0.48148,     0.48248,     0.48348,     0.48448,     0.48549,     0.48649,     0.48749,     0.48849,     0.48949,     0.49049,     0.49149,     0.49249,     0.49349,     0.49449,      0.4955,      0.4965,      0.4975,      0.4985,      0.4995,      0.5005,      0.5015,      0.5025,      0.5035,\n",
       "            0.5045,     0.50551,     0.50651,     0.50751,     0.50851,     0.50951,     0.51051,     0.51151,     0.51251,     0.51351,     0.51451,     0.51552,     0.51652,     0.51752,     0.51852,     0.51952,     0.52052,     0.52152,     0.52252,     0.52352,     0.52452,     0.52553,     0.52653,     0.52753,\n",
       "           0.52853,     0.52953,     0.53053,     0.53153,     0.53253,     0.53353,     0.53453,     0.53554,     0.53654,     0.53754,     0.53854,     0.53954,     0.54054,     0.54154,     0.54254,     0.54354,     0.54454,     0.54555,     0.54655,     0.54755,     0.54855,     0.54955,     0.55055,     0.55155,\n",
       "           0.55255,     0.55355,     0.55455,     0.55556,     0.55656,     0.55756,     0.55856,     0.55956,     0.56056,     0.56156,     0.56256,     0.56356,     0.56456,     0.56557,     0.56657,     0.56757,     0.56857,     0.56957,     0.57057,     0.57157,     0.57257,     0.57357,     0.57457,     0.57558,\n",
       "           0.57658,     0.57758,     0.57858,     0.57958,     0.58058,     0.58158,     0.58258,     0.58358,     0.58458,     0.58559,     0.58659,     0.58759,     0.58859,     0.58959,     0.59059,     0.59159,     0.59259,     0.59359,     0.59459,      0.5956,      0.5966,      0.5976,      0.5986,      0.5996,\n",
       "            0.6006,      0.6016,      0.6026,      0.6036,      0.6046,     0.60561,     0.60661,     0.60761,     0.60861,     0.60961,     0.61061,     0.61161,     0.61261,     0.61361,     0.61461,     0.61562,     0.61662,     0.61762,     0.61862,     0.61962,     0.62062,     0.62162,     0.62262,     0.62362,\n",
       "           0.62462,     0.62563,     0.62663,     0.62763,     0.62863,     0.62963,     0.63063,     0.63163,     0.63263,     0.63363,     0.63463,     0.63564,     0.63664,     0.63764,     0.63864,     0.63964,     0.64064,     0.64164,     0.64264,     0.64364,     0.64464,     0.64565,     0.64665,     0.64765,\n",
       "           0.64865,     0.64965,     0.65065,     0.65165,     0.65265,     0.65365,     0.65465,     0.65566,     0.65666,     0.65766,     0.65866,     0.65966,     0.66066,     0.66166,     0.66266,     0.66366,     0.66466,     0.66567,     0.66667,     0.66767,     0.66867,     0.66967,     0.67067,     0.67167,\n",
       "           0.67267,     0.67367,     0.67467,     0.67568,     0.67668,     0.67768,     0.67868,     0.67968,     0.68068,     0.68168,     0.68268,     0.68368,     0.68468,     0.68569,     0.68669,     0.68769,     0.68869,     0.68969,     0.69069,     0.69169,     0.69269,     0.69369,     0.69469,      0.6957,\n",
       "            0.6967,      0.6977,      0.6987,      0.6997,      0.7007,      0.7017,      0.7027,      0.7037,      0.7047,     0.70571,     0.70671,     0.70771,     0.70871,     0.70971,     0.71071,     0.71171,     0.71271,     0.71371,     0.71471,     0.71572,     0.71672,     0.71772,     0.71872,     0.71972,\n",
       "           0.72072,     0.72172,     0.72272,     0.72372,     0.72472,     0.72573,     0.72673,     0.72773,     0.72873,     0.72973,     0.73073,     0.73173,     0.73273,     0.73373,     0.73473,     0.73574,     0.73674,     0.73774,     0.73874,     0.73974,     0.74074,     0.74174,     0.74274,     0.74374,\n",
       "           0.74474,     0.74575,     0.74675,     0.74775,     0.74875,     0.74975,     0.75075,     0.75175,     0.75275,     0.75375,     0.75475,     0.75576,     0.75676,     0.75776,     0.75876,     0.75976,     0.76076,     0.76176,     0.76276,     0.76376,     0.76476,     0.76577,     0.76677,     0.76777,\n",
       "           0.76877,     0.76977,     0.77077,     0.77177,     0.77277,     0.77377,     0.77477,     0.77578,     0.77678,     0.77778,     0.77878,     0.77978,     0.78078,     0.78178,     0.78278,     0.78378,     0.78478,     0.78579,     0.78679,     0.78779,     0.78879,     0.78979,     0.79079,     0.79179,\n",
       "           0.79279,     0.79379,     0.79479,      0.7958,      0.7968,      0.7978,      0.7988,      0.7998,      0.8008,      0.8018,      0.8028,      0.8038,      0.8048,     0.80581,     0.80681,     0.80781,     0.80881,     0.80981,     0.81081,     0.81181,     0.81281,     0.81381,     0.81481,     0.81582,\n",
       "           0.81682,     0.81782,     0.81882,     0.81982,     0.82082,     0.82182,     0.82282,     0.82382,     0.82482,     0.82583,     0.82683,     0.82783,     0.82883,     0.82983,     0.83083,     0.83183,     0.83283,     0.83383,     0.83483,     0.83584,     0.83684,     0.83784,     0.83884,     0.83984,\n",
       "           0.84084,     0.84184,     0.84284,     0.84384,     0.84484,     0.84585,     0.84685,     0.84785,     0.84885,     0.84985,     0.85085,     0.85185,     0.85285,     0.85385,     0.85485,     0.85586,     0.85686,     0.85786,     0.85886,     0.85986,     0.86086,     0.86186,     0.86286,     0.86386,\n",
       "           0.86486,     0.86587,     0.86687,     0.86787,     0.86887,     0.86987,     0.87087,     0.87187,     0.87287,     0.87387,     0.87487,     0.87588,     0.87688,     0.87788,     0.87888,     0.87988,     0.88088,     0.88188,     0.88288,     0.88388,     0.88488,     0.88589,     0.88689,     0.88789,\n",
       "           0.88889,     0.88989,     0.89089,     0.89189,     0.89289,     0.89389,     0.89489,      0.8959,      0.8969,      0.8979,      0.8989,      0.8999,      0.9009,      0.9019,      0.9029,      0.9039,      0.9049,     0.90591,     0.90691,     0.90791,     0.90891,     0.90991,     0.91091,     0.91191,\n",
       "           0.91291,     0.91391,     0.91491,     0.91592,     0.91692,     0.91792,     0.91892,     0.91992,     0.92092,     0.92192,     0.92292,     0.92392,     0.92492,     0.92593,     0.92693,     0.92793,     0.92893,     0.92993,     0.93093,     0.93193,     0.93293,     0.93393,     0.93493,     0.93594,\n",
       "           0.93694,     0.93794,     0.93894,     0.93994,     0.94094,     0.94194,     0.94294,     0.94394,     0.94494,     0.94595,     0.94695,     0.94795,     0.94895,     0.94995,     0.95095,     0.95195,     0.95295,     0.95395,     0.95495,     0.95596,     0.95696,     0.95796,     0.95896,     0.95996,\n",
       "           0.96096,     0.96196,     0.96296,     0.96396,     0.96496,     0.96597,     0.96697,     0.96797,     0.96897,     0.96997,     0.97097,     0.97197,     0.97297,     0.97397,     0.97497,     0.97598,     0.97698,     0.97798,     0.97898,     0.97998,     0.98098,     0.98198,     0.98298,     0.98398,\n",
       "           0.98498,     0.98599,     0.98699,     0.98799,     0.98899,     0.98999,     0.99099,     0.99199,     0.99299,     0.99399,     0.99499,       0.996,       0.997,       0.998,       0.999,           1]), array([[          1,           1,           1, ...,           0,           0,           0],\n",
       "       [          1,           1,           1, ...,           0,           0,           0],\n",
       "       [    0.97006,     0.97006,     0.97006, ...,           0,           0,           0],\n",
       "       [    0.99194,     0.99194,     0.99194, ...,   0.0088718,           0,           0],\n",
       "       [    0.98039,     0.98039,     0.98039, ...,           0,           0,           0],\n",
       "       [          1,           1,           1, ...,    0.064712,           0,           0]]), 'Confidence', 'Recall']]\n",
       "fitness: 0.7553243827618298\n",
       "keys: ['metrics/precision(B)', 'metrics/recall(B)', 'metrics/mAP50(B)', 'metrics/mAP50-95(B)']\n",
       "maps: array([    0.46615,      0.8507,     0.78527,      0.7279,     0.73015,     0.85923])\n",
       "names: {0: 'Bike', 1: 'Bus', 2: 'Car', 3: 'Number plate', 4: 'Person', 5: 'Truck'}\n",
       "nt_per_class: array([  3,  18, 167, 124,  51,  17], dtype=int64)\n",
       "nt_per_image: array([ 3, 12, 65, 92, 19, 14], dtype=int64)\n",
       "results_dict: {'metrics/precision(B)': 0.9218932420230789, 'metrics/recall(B)': 0.8659696196693486, 'metrics/mAP50(B)': 0.9241472548582265, 'metrics/mAP50-95(B)': 0.7365662858622302, 'fitness': 0.7553243827618298}\n",
       "save_dir: WindowsPath('number_plate_project/yolov8n_gpu_optimized_v2')\n",
       "speed: {'preprocess': 0.6735404040388646, 'inference': 2.608718181819552, 'loss': 0.0008101010096633944, 'postprocess': 2.2599191919207535}\n",
       "stats: {'tp': [], 'conf': [], 'pred_cls': [], 'target_cls': [], 'target_img': []}\n",
       "task: 'detect'"
      ]
     },
     "execution_count": 17,
     "metadata": {},
     "output_type": "execute_result"
    }
   ],
   "source": [
    "from ultralytics import YOLO\n",
    "\n",
    "# Load YOLOv8 nano model (lightweight)\n",
    "model = YOLO('yolov8n.pt')  # You can use 'yolov8n.yaml' to train from scratch\n",
    "\n",
    "# Train using GPU with safe and efficient settings\n",
    "model.train(\n",
    "    data='number_plate_dataset.yaml',\n",
    "    epochs=100,                 # 🔼 Train longer for better learning\n",
    "    imgsz=640,                  # 🔻 Smaller image size to reduce GPU load\n",
    "    batch=8,                    # 🔻 Safer batch size for 4GB VRAM\n",
    "    device=0,                   # ✅ Force GPU 0\n",
    "    lr0=0.001,                  # 🔻 Lower initial learning rate\n",
    "    warmup_epochs=5,           # 🧠 Let model ease into learning\n",
    "    cos_lr=True,               # 🔁 Cosine learning rate decay\n",
    "    optimizer='Adam',          # ✅ Stable optimizer\n",
    "    cache=False,               # 🔻 Save RAM by skipping cache\n",
    "    auto_augment='randaugment',# 🎨 Boost generalization\n",
    "    hsv_h=0.015, hsv_s=0.7, hsv_v=0.4,  # 🎨 Color augmentation\n",
    "    project='number_plate_project',\n",
    "    name='yolov8n_gpu_optimized_v2',\n",
    "    exist_ok=True\n",
    ")"
   ]
  },
  {
   "cell_type": "code",
   "execution_count": 21,
   "id": "63597ae0",
   "metadata": {},
   "outputs": [],
   "source": [
    "from ultralytics import YOLO\n",
    "\n",
    "# Load the trained model\n",
    "model = YOLO('C:/EDUCATION/IMAGE DETECTION/number_plate_project/yolov8n_gpu_optimized_v2/weights/best.pt')\n"
   ]
  },
  {
   "cell_type": "code",
   "execution_count": 22,
   "id": "9d331d10",
   "metadata": {},
   "outputs": [
    {
     "name": "stdout",
     "output_type": "stream",
     "text": [
      "\n",
      "image 1/1 C:\\Users\\harisekhar.s\\Downloads\\pexels-andrettibrown-14072803.jpg: 640x448 1 Bus, 3 Cars, 1 Number plate, 1 Truck, 53.0ms\n",
      "Speed: 4.4ms preprocess, 53.0ms inference, 4.9ms postprocess per image at shape (1, 3, 640, 448)\n"
     ]
    }
   ],
   "source": [
    "# Run detection on a local image\n",
    "results = model('C:/Users/harisekhar.s/Downloads/pexels-andrettibrown-14072803.jpg')  # Replace with your actual image path\n",
    "\n",
    "# Show results in notebook or save them\n",
    "results[0].show()  # Opens the image with detections\n",
    "# results[0].save(filename='output.jpg')  # Save to file if needed\n"
   ]
  },
  {
   "cell_type": "code",
   "execution_count": 23,
   "id": "59441079",
   "metadata": {},
   "outputs": [
    {
     "name": "stdout",
     "output_type": "stream",
     "text": [
      "\n",
      "image 1/1 c:\\EDUCATION\\IMAGE DETECTION\\images\\0008c91f-004ce6e46f66a306_jpg.rf.2f31b4645bfe50921c188146e4066293.jpg: 352x640 4 Cars, 4 Number plates, 1 Person, 64.6ms\n",
      "Speed: 232.4ms preprocess, 64.6ms inference, 2.9ms postprocess per image at shape (1, 3, 352, 640)\n",
      "✅ Saved: 0008c91f-004ce6e46f66a306_jpg.rf.2f31b4645bfe50921c188146e4066293.jpg\n",
      "\n",
      "image 1/1 c:\\EDUCATION\\IMAGE DETECTION\\images\\06f88a9e-00b4d07f7be89f98_jpg.rf.261e5fb7b4be3bd9a0cfe6f2f1d2a45d.jpg: 480x640 5 Cars, 2 Number plates, 56.6ms\n",
      "Speed: 5.2ms preprocess, 56.6ms inference, 2.2ms postprocess per image at shape (1, 3, 480, 640)\n",
      "✅ Saved: 06f88a9e-00b4d07f7be89f98_jpg.rf.261e5fb7b4be3bd9a0cfe6f2f1d2a45d.jpg\n",
      "\n",
      "image 1/1 c:\\EDUCATION\\IMAGE DETECTION\\images\\073e06b8-00f7e34cb220ddbc_jpg.rf.3cff86854ffa4f2ca24b02bc9684fa4c.jpg: 480x640 6 Cars, 38.0ms\n",
      "Speed: 4.3ms preprocess, 38.0ms inference, 2.3ms postprocess per image at shape (1, 3, 480, 640)\n",
      "✅ Saved: 073e06b8-00f7e34cb220ddbc_jpg.rf.3cff86854ffa4f2ca24b02bc9684fa4c.jpg\n",
      "\n",
      "image 1/1 c:\\EDUCATION\\IMAGE DETECTION\\images\\07edd43c-004be6e7ea1c7ff8_jpg.rf.67903af5a80cc47674753b1d52a36091.jpg: 640x640 2 Cars, 4 Number plates, 47.1ms\n",
      "Speed: 6.0ms preprocess, 47.1ms inference, 2.6ms postprocess per image at shape (1, 3, 640, 640)\n",
      "✅ Saved: 07edd43c-004be6e7ea1c7ff8_jpg.rf.67903af5a80cc47674753b1d52a36091.jpg\n",
      "\n",
      "image 1/1 c:\\EDUCATION\\IMAGE DETECTION\\images\\08def6e7-7-D_NQ_NP_619911-MLM31423405963_072019-W_jpg.rf.4c114f864305cb3754689b_bAxYwyt.jpg: 480x640 1 Number plate, 20.3ms\n",
      "Speed: 2.6ms preprocess, 20.3ms inference, 10.7ms postprocess per image at shape (1, 3, 480, 640)\n",
      "✅ Saved: 08def6e7-7-D_NQ_NP_619911-MLM31423405963_072019-W_jpg.rf.4c114f864305cb3754689b_bAxYwyt.jpg\n",
      "\n",
      "image 1/1 c:\\EDUCATION\\IMAGE DETECTION\\images\\09a79222-12-D_NQ_NP_690407-MLM31998594359_082019-W_jpg.rf.db2a1ae53abc6440e9eb2_KnRKvaQ.jpg: 320x640 1 Number plate, 51.5ms\n",
      "Speed: 2.2ms preprocess, 51.5ms inference, 2.6ms postprocess per image at shape (1, 3, 320, 640)\n",
      "✅ Saved: 09a79222-12-D_NQ_NP_690407-MLM31998594359_082019-W_jpg.rf.db2a1ae53abc6440e9eb2_KnRKvaQ.jpg\n",
      "\n",
      "image 1/1 c:\\EDUCATION\\IMAGE DETECTION\\images\\0e5c7864-2-s-l640_jpg.rf.6e59b4803e3f2982bed6b0fe5a290fd8.jpg: 640x640 2 Number plates, 26.7ms\n",
      "Speed: 3.1ms preprocess, 26.7ms inference, 2.2ms postprocess per image at shape (1, 3, 640, 640)\n",
      "✅ Saved: 0e5c7864-2-s-l640_jpg.rf.6e59b4803e3f2982bed6b0fe5a290fd8.jpg\n",
      "\n",
      "image 1/1 c:\\EDUCATION\\IMAGE DETECTION\\images\\1242f60b-10-cdmx2017taxi_jpg.rf.1ab893cd51a58266b66369d477e4070f.jpg: 320x640 1 Number plate, 13.7ms\n",
      "Speed: 2.1ms preprocess, 13.7ms inference, 2.1ms postprocess per image at shape (1, 3, 320, 640)\n",
      "✅ Saved: 1242f60b-10-cdmx2017taxi_jpg.rf.1ab893cd51a58266b66369d477e4070f.jpg\n",
      "\n",
      "image 1/1 c:\\EDUCATION\\IMAGE DETECTION\\images\\12e6c43a-01e846c846a1509e_jpg.rf.fe4ac1b73438776a4b7d6ffacafe0a81.jpg: 320x640 1 Bus, 1 Number plate, 12.5ms\n",
      "Speed: 2.6ms preprocess, 12.5ms inference, 2.4ms postprocess per image at shape (1, 3, 320, 640)\n",
      "✅ Saved: 12e6c43a-01e846c846a1509e_jpg.rf.fe4ac1b73438776a4b7d6ffacafe0a81.jpg\n",
      "\n",
      "image 1/1 c:\\EDUCATION\\IMAGE DETECTION\\images\\13921c34-01f32030f855c316_jpg.rf.76b2e284650f9ddd3a95a49dd5da5ec6.jpg: 448x640 8 Cars, 1 Number plate, 46.9ms\n",
      "Speed: 2.9ms preprocess, 46.9ms inference, 2.0ms postprocess per image at shape (1, 3, 448, 640)\n",
      "✅ Saved: 13921c34-01f32030f855c316_jpg.rf.76b2e284650f9ddd3a95a49dd5da5ec6.jpg\n",
      "\n",
      "image 1/1 c:\\EDUCATION\\IMAGE DETECTION\\images\\1435aeb5-02b3be99914d752c_jpg.rf.f05bd971b32748474ae99de03266451a.jpg: 448x640 4 Cars, 3 Number plates, 18.4ms\n",
      "Speed: 3.5ms preprocess, 18.4ms inference, 3.9ms postprocess per image at shape (1, 3, 448, 640)\n",
      "✅ Saved: 1435aeb5-02b3be99914d752c_jpg.rf.f05bd971b32748474ae99de03266451a.jpg\n",
      "\n",
      "image 1/1 c:\\EDUCATION\\IMAGE DETECTION\\images\\17cec20b-00a144adf6f339d7_jpg.rf.26f40599c82e1fa3642cd5b550d0720b.jpg: 416x640 1 Car, 1 Number plate, 52.8ms\n",
      "Speed: 3.0ms preprocess, 52.8ms inference, 1.8ms postprocess per image at shape (1, 3, 416, 640)\n",
      "✅ Saved: 17cec20b-00a144adf6f339d7_jpg.rf.26f40599c82e1fa3642cd5b550d0720b.jpg\n",
      "\n",
      "image 1/1 c:\\EDUCATION\\IMAGE DETECTION\\images\\193d31ad-4-D_Q_NP_771917-MLM26259169217_102017-Q_jpg.rf.a0c5bb1ee0207323246b1d9_CvSpb3i.jpg: 640x640 1 Number plate, 25.8ms\n",
      "Speed: 5.1ms preprocess, 25.8ms inference, 3.5ms postprocess per image at shape (1, 3, 640, 640)\n",
      "✅ Saved: 193d31ad-4-D_Q_NP_771917-MLM26259169217_102017-Q_jpg.rf.a0c5bb1ee0207323246b1d9_CvSpb3i.jpg\n",
      "\n",
      "image 1/1 c:\\EDUCATION\\IMAGE DETECTION\\images\\1ebed988-00c3fb728099e272_jpg.rf.c9b76d16d45caa7c8cd5c16502d16ba9.jpg: 640x480 1 Bus, 1 Number plate, 47.9ms\n",
      "Speed: 3.8ms preprocess, 47.9ms inference, 1.8ms postprocess per image at shape (1, 3, 640, 480)\n",
      "✅ Saved: 1ebed988-00c3fb728099e272_jpg.rf.c9b76d16d45caa7c8cd5c16502d16ba9.jpg\n",
      "\n",
      "image 1/1 c:\\EDUCATION\\IMAGE DETECTION\\images\\205b626e-0009c4ddcaab18d3_jpg.rf.3f94302b6fcc9c7bd70482ef64eaf2d2.jpg: 480x640 1 Car, 2 Number plates, 19.3ms\n",
      "Speed: 3.8ms preprocess, 19.3ms inference, 1.9ms postprocess per image at shape (1, 3, 480, 640)\n",
      "✅ Saved: 205b626e-0009c4ddcaab18d3_jpg.rf.3f94302b6fcc9c7bd70482ef64eaf2d2.jpg\n",
      "\n",
      "image 1/1 c:\\EDUCATION\\IMAGE DETECTION\\images\\240c254b-002fbf2de58da8b5_jpg.rf.6021b76474b807a1bfcd25a509d5388d.jpg: 416x640 5 Cars, 1 Number plate, 17.8ms\n",
      "Speed: 2.8ms preprocess, 17.8ms inference, 1.9ms postprocess per image at shape (1, 3, 416, 640)\n",
      "✅ Saved: 240c254b-002fbf2de58da8b5_jpg.rf.6021b76474b807a1bfcd25a509d5388d.jpg\n",
      "\n",
      "image 1/1 c:\\EDUCATION\\IMAGE DETECTION\\images\\26191e8f-7-D_NQ_NP_865970-MLM31423400441_072019-W_jpg.rf.efa40bc2f5bc9af0d4cb7d_pQn0tmF.jpg: 480x640 1 Number plate, 20.0ms\n",
      "Speed: 3.0ms preprocess, 20.0ms inference, 2.2ms postprocess per image at shape (1, 3, 480, 640)\n",
      "✅ Saved: 26191e8f-7-D_NQ_NP_865970-MLM31423400441_072019-W_jpg.rf.efa40bc2f5bc9af0d4cb7d_pQn0tmF.jpg\n",
      "\n",
      "image 1/1 c:\\EDUCATION\\IMAGE DETECTION\\images\\2643bb4b-001ddeda193f5789_jpg.rf.db0739bec28458f6ecf378bf7a0b627d.jpg: 448x640 1 Number plate, 19.4ms\n",
      "Speed: 2.8ms preprocess, 19.4ms inference, 2.1ms postprocess per image at shape (1, 3, 448, 640)\n",
      "✅ Saved: 2643bb4b-001ddeda193f5789_jpg.rf.db0739bec28458f6ecf378bf7a0b627d.jpg\n",
      "\n",
      "image 1/1 c:\\EDUCATION\\IMAGE DETECTION\\images\\283452c3-02f6b0600b3ad4ed_jpg.rf.1fdf5cda04535c9ac3d5ffdb96fe38ad.jpg: 384x640 9 Cars, 10 Number plates, 47.1ms\n",
      "Speed: 2.7ms preprocess, 47.1ms inference, 2.0ms postprocess per image at shape (1, 3, 384, 640)\n",
      "✅ Saved: 283452c3-02f6b0600b3ad4ed_jpg.rf.1fdf5cda04535c9ac3d5ffdb96fe38ad.jpg\n",
      "\n",
      "image 1/1 c:\\EDUCATION\\IMAGE DETECTION\\images\\285dfc9d-00e10a097af9f0d8_jpg.rf.fb39ee0adccceedf74a7f851e73c2ded.jpg: 480x640 2 Cars, 1 Number plate, 19.3ms\n",
      "Speed: 3.5ms preprocess, 19.3ms inference, 1.9ms postprocess per image at shape (1, 3, 480, 640)\n",
      "✅ Saved: 285dfc9d-00e10a097af9f0d8_jpg.rf.fb39ee0adccceedf74a7f851e73c2ded.jpg\n",
      "\n",
      "image 1/1 c:\\EDUCATION\\IMAGE DETECTION\\images\\29c362b6-02dbae76d89c9284_jpg.rf.8d16f1ae69cb750866af90d8bc15724a.jpg: 480x640 1 Car, 1 Number plate, 18.4ms\n",
      "Speed: 3.8ms preprocess, 18.4ms inference, 2.9ms postprocess per image at shape (1, 3, 480, 640)\n",
      "✅ Saved: 29c362b6-02dbae76d89c9284_jpg.rf.8d16f1ae69cb750866af90d8bc15724a.jpg\n",
      "\n",
      "image 1/1 c:\\EDUCATION\\IMAGE DETECTION\\images\\2a9fa81b-02a01a62fa5a9831_jpg.rf.2839a7f71a827b94a0f04b1204db2143.jpg: 480x640 4 Cars, 1 Number plate, 14 Persons, 18.6ms\n",
      "Speed: 3.7ms preprocess, 18.6ms inference, 2.0ms postprocess per image at shape (1, 3, 480, 640)\n",
      "✅ Saved: 2a9fa81b-02a01a62fa5a9831_jpg.rf.2839a7f71a827b94a0f04b1204db2143.jpg\n",
      "\n",
      "image 1/1 c:\\EDUCATION\\IMAGE DETECTION\\images\\3300aa54-00d17e785bbf2ca1_jpg.rf.dbc246efa04a411e7d93916dd74301fd.jpg: 480x640 2 Buss, 1 Number plate, 2 Persons, 18.5ms\n",
      "Speed: 3.3ms preprocess, 18.5ms inference, 2.1ms postprocess per image at shape (1, 3, 480, 640)\n",
      "✅ Saved: 3300aa54-00d17e785bbf2ca1_jpg.rf.dbc246efa04a411e7d93916dd74301fd.jpg\n",
      "\n",
      "image 1/1 c:\\EDUCATION\\IMAGE DETECTION\\images\\33b58f0e-00a8d9ab7c3b9c0e_jpg.rf.dcdf50513f21bb6ab920ba619e712c2d.jpg: 416x640 2 Cars, 2 Number plates, 2 Trucks, 18.2ms\n",
      "Speed: 3.0ms preprocess, 18.2ms inference, 2.5ms postprocess per image at shape (1, 3, 416, 640)\n",
      "✅ Saved: 33b58f0e-00a8d9ab7c3b9c0e_jpg.rf.dcdf50513f21bb6ab920ba619e712c2d.jpg\n",
      "\n",
      "image 1/1 c:\\EDUCATION\\IMAGE DETECTION\\images\\36766d99-003a9e99a2753141_jpg.rf.7377638a1015136486e3c20681f605c1.jpg: 480x640 2 Cars, 2 Number plates, 19.2ms\n",
      "Speed: 3.3ms preprocess, 19.2ms inference, 2.0ms postprocess per image at shape (1, 3, 480, 640)\n",
      "✅ Saved: 36766d99-003a9e99a2753141_jpg.rf.7377638a1015136486e3c20681f605c1.jpg\n",
      "\n",
      "image 1/1 c:\\EDUCATION\\IMAGE DETECTION\\images\\38db292e-02c79f997837efd4_jpg.rf.5f2fd2948347303996c2fd68ee243f30.jpg: 384x640 5 Cars, 4 Number plates, 14.8ms\n",
      "Speed: 2.5ms preprocess, 14.8ms inference, 2.9ms postprocess per image at shape (1, 3, 384, 640)\n",
      "✅ Saved: 38db292e-02c79f997837efd4_jpg.rf.5f2fd2948347303996c2fd68ee243f30.jpg\n",
      "\n",
      "image 1/1 c:\\EDUCATION\\IMAGE DETECTION\\images\\396f67a9-5c52d1a1a3106c65fff82019_jpeg_jpg.rf.ec1d5ee115ed692a5cb51c4251fc3085.jpg: 448x640 3 Cars, 1 Number plate, 2 Trucks, 21.2ms\n",
      "Speed: 3.0ms preprocess, 21.2ms inference, 2.2ms postprocess per image at shape (1, 3, 448, 640)\n",
      "✅ Saved: 396f67a9-5c52d1a1a3106c65fff82019_jpeg_jpg.rf.ec1d5ee115ed692a5cb51c4251fc3085.jpg\n",
      "\n",
      "image 1/1 c:\\EDUCATION\\IMAGE DETECTION\\images\\3e66598f-11-D_Q_NP_3941-MLM4882174000_082013-Q_jpg.rf.d38c91456bef823da5e9ab84342e3c3d.jpg: 640x640 1 Number plate, 25.6ms\n",
      "Speed: 4.4ms preprocess, 25.6ms inference, 1.9ms postprocess per image at shape (1, 3, 640, 640)\n",
      "✅ Saved: 3e66598f-11-D_Q_NP_3941-MLM4882174000_082013-Q_jpg.rf.d38c91456bef823da5e9ab84342e3c3d.jpg\n",
      "\n",
      "image 1/1 c:\\EDUCATION\\IMAGE DETECTION\\images\\4a05e5aa-00f04d8a2225b873_jpg.rf.049602dc4c8b5289bff0928cf51c4112.jpg: 480x640 2 Cars, 1 Number plate, 19.6ms\n",
      "Speed: 2.9ms preprocess, 19.6ms inference, 2.2ms postprocess per image at shape (1, 3, 480, 640)\n",
      "✅ Saved: 4a05e5aa-00f04d8a2225b873_jpg.rf.049602dc4c8b5289bff0928cf51c4112.jpg\n",
      "\n",
      "image 1/1 c:\\EDUCATION\\IMAGE DETECTION\\images\\5169017e-0005ea10e0e14db1_jpg.rf.ec1d8302f42a1c38b320dfe86bbee792.jpg: 448x640 2 Cars, 1 Number plate, 2 Persons, 19.3ms\n",
      "Speed: 2.8ms preprocess, 19.3ms inference, 3.3ms postprocess per image at shape (1, 3, 448, 640)\n",
      "✅ Saved: 5169017e-0005ea10e0e14db1_jpg.rf.ec1d8302f42a1c38b320dfe86bbee792.jpg\n",
      "\n",
      "image 1/1 c:\\EDUCATION\\IMAGE DETECTION\\images\\5766aada-00c96e0e060aeb2f_jpg.rf.be03c2c77534b5825a7d02437d4f82bc.jpg: 352x640 1 Bus, 1 Number plate, 1 Person, 14.1ms\n",
      "Speed: 2.0ms preprocess, 14.1ms inference, 2.0ms postprocess per image at shape (1, 3, 352, 640)\n",
      "✅ Saved: 5766aada-00c96e0e060aeb2f_jpg.rf.be03c2c77534b5825a7d02437d4f82bc.jpg\n",
      "\n",
      "image 1/1 c:\\EDUCATION\\IMAGE DETECTION\\images\\59035fb3-005ced5a9813fb0f_jpg.rf.5f1258b45463841fb1d42698c5e7fdfe.jpg: 448x640 3 Cars, 2 Number plates, 18.9ms\n",
      "Speed: 2.6ms preprocess, 18.9ms inference, 4.0ms postprocess per image at shape (1, 3, 448, 640)\n",
      "✅ Saved: 59035fb3-005ced5a9813fb0f_jpg.rf.5f1258b45463841fb1d42698c5e7fdfe.jpg\n",
      "\n",
      "image 1/1 c:\\EDUCATION\\IMAGE DETECTION\\images\\5b6cfa77-00dea1edf14f09ab_jpg.rf.f89d8678e1da281ea7a4e183c0da0d3c.jpg: 640x640 1 Car, 1 Number plate, 25.0ms\n",
      "Speed: 4.4ms preprocess, 25.0ms inference, 1.7ms postprocess per image at shape (1, 3, 640, 640)\n",
      "✅ Saved: 5b6cfa77-00dea1edf14f09ab_jpg.rf.f89d8678e1da281ea7a4e183c0da0d3c.jpg\n",
      "\n",
      "image 1/1 c:\\EDUCATION\\IMAGE DETECTION\\images\\5ed10620-3-D_NQ_NP_862473-MLM31170298229_062019-W_jpg.rf.2ed30c0b0b069c9a556794_8EZ4BA4.jpg: 480x640 2 Number plates, 18.7ms\n",
      "Speed: 3.2ms preprocess, 18.7ms inference, 3.3ms postprocess per image at shape (1, 3, 480, 640)\n",
      "✅ Saved: 5ed10620-3-D_NQ_NP_862473-MLM31170298229_062019-W_jpg.rf.2ed30c0b0b069c9a556794_8EZ4BA4.jpg\n",
      "\n",
      "image 1/1 c:\\EDUCATION\\IMAGE DETECTION\\images\\5fd922cf-01e2315172fea9e4_jpg.rf.53ba976bc1adf549b3d2c4808beeb217.jpg: 480x640 2 Cars, 1 Number plate, 18.0ms\n",
      "Speed: 2.8ms preprocess, 18.0ms inference, 2.5ms postprocess per image at shape (1, 3, 480, 640)\n",
      "✅ Saved: 5fd922cf-01e2315172fea9e4_jpg.rf.53ba976bc1adf549b3d2c4808beeb217.jpg\n",
      "\n",
      "image 1/1 c:\\EDUCATION\\IMAGE DETECTION\\images\\609e03a0-01b805b9f96679a3_jpg.rf.1cf6b0be8ca0c6b2b4ba53657f8946fd.jpg: 480x640 2 Cars, 2 Number plates, 6 Persons, 17.1ms\n",
      "Speed: 3.3ms preprocess, 17.1ms inference, 2.8ms postprocess per image at shape (1, 3, 480, 640)\n",
      "✅ Saved: 609e03a0-01b805b9f96679a3_jpg.rf.1cf6b0be8ca0c6b2b4ba53657f8946fd.jpg\n",
      "\n",
      "image 1/1 c:\\EDUCATION\\IMAGE DETECTION\\images\\630cb2db-00d763761e47f723_jpg.rf.786dda9536a060cff9670f9d0ba23049.jpg: 480x640 3 Cars, 1 Number plate, 17.1ms\n",
      "Speed: 2.9ms preprocess, 17.1ms inference, 2.4ms postprocess per image at shape (1, 3, 480, 640)\n",
      "✅ Saved: 630cb2db-00d763761e47f723_jpg.rf.786dda9536a060cff9670f9d0ba23049.jpg\n",
      "\n",
      "image 1/1 c:\\EDUCATION\\IMAGE DETECTION\\images\\6a2098ce-010a0c44af2d077e_jpg.rf.70b42e126c7af2ad87e84ce4abaccd9c.jpg: 384x640 11 Cars, 1 Number plate, 1 Truck, 14.0ms\n",
      "Speed: 2.3ms preprocess, 14.0ms inference, 2.1ms postprocess per image at shape (1, 3, 384, 640)\n",
      "✅ Saved: 6a2098ce-010a0c44af2d077e_jpg.rf.70b42e126c7af2ad87e84ce4abaccd9c.jpg\n",
      "\n",
      "image 1/1 c:\\EDUCATION\\IMAGE DETECTION\\images\\6c484d46-01ad33d0ee9a7315_jpg.rf.cff915757ee8631d745ffdf0bef7f184.jpg: 480x640 3 Cars, 2 Number plates, 17.9ms\n",
      "Speed: 3.4ms preprocess, 17.9ms inference, 1.9ms postprocess per image at shape (1, 3, 480, 640)\n",
      "✅ Saved: 6c484d46-01ad33d0ee9a7315_jpg.rf.cff915757ee8631d745ffdf0bef7f184.jpg\n",
      "\n",
      "image 1/1 c:\\EDUCATION\\IMAGE DETECTION\\images\\6ea1ffa9-02fdd3b7c77702ec_jpg.rf.cf7d348383938107daad13f4c9d18a5b.jpg: 448x640 4 Cars, 5 Persons, 1 Truck, 17.5ms\n",
      "Speed: 2.7ms preprocess, 17.5ms inference, 2.1ms postprocess per image at shape (1, 3, 448, 640)\n",
      "✅ Saved: 6ea1ffa9-02fdd3b7c77702ec_jpg.rf.cf7d348383938107daad13f4c9d18a5b.jpg\n",
      "\n",
      "image 1/1 c:\\EDUCATION\\IMAGE DETECTION\\images\\6ee24b01-11-cdmx2017etaxi_jpg.rf.ea0285b8aca6dc4fbd6616ef64e15994.jpg: 320x640 1 Number plate, 11.8ms\n",
      "Speed: 1.6ms preprocess, 11.8ms inference, 2.3ms postprocess per image at shape (1, 3, 320, 640)\n",
      "✅ Saved: 6ee24b01-11-cdmx2017etaxi_jpg.rf.ea0285b8aca6dc4fbd6616ef64e15994.jpg\n",
      "\n",
      "image 1/1 c:\\EDUCATION\\IMAGE DETECTION\\images\\79fa2020-001ca84e28488f7a_jpg.rf.bb34bcdff53bb03b16a1ff12766f5dc3.jpg: 448x640 1 Bus, 1 Car, 4 Number plates, 5 Persons, 17.6ms\n",
      "Speed: 2.7ms preprocess, 17.6ms inference, 2.0ms postprocess per image at shape (1, 3, 448, 640)\n",
      "✅ Saved: 79fa2020-001ca84e28488f7a_jpg.rf.bb34bcdff53bb03b16a1ff12766f5dc3.jpg\n",
      "\n",
      "image 1/1 c:\\EDUCATION\\IMAGE DETECTION\\images\\7b45a2d5-001bebecea382500_jpg.rf.75aa509ed5569636354ae125d3aabc33.jpg: 480x640 1 Car, 1 Number plate, 4 Persons, 18.2ms\n",
      "Speed: 3.3ms preprocess, 18.2ms inference, 2.4ms postprocess per image at shape (1, 3, 480, 640)\n",
      "✅ Saved: 7b45a2d5-001bebecea382500_jpg.rf.75aa509ed5569636354ae125d3aabc33.jpg\n",
      "\n",
      "image 1/1 c:\\EDUCATION\\IMAGE DETECTION\\images\\80dfac7b-5-s-l400_jpg.rf.2ccd7e6e8bda8f7370d0e7998e8c9c03.jpg: 352x640 1 Number plate, 12.7ms\n",
      "Speed: 2.5ms preprocess, 12.7ms inference, 1.9ms postprocess per image at shape (1, 3, 352, 640)\n",
      "✅ Saved: 80dfac7b-5-s-l400_jpg.rf.2ccd7e6e8bda8f7370d0e7998e8c9c03.jpg\n",
      "\n",
      "image 1/1 c:\\EDUCATION\\IMAGE DETECTION\\images\\82210021-8-s-l300_jpg.rf.1119f740aab758031d5ea9b0c243c571.jpg: 640x640 2 Number plates, 24.9ms\n",
      "Speed: 4.3ms preprocess, 24.9ms inference, 3.8ms postprocess per image at shape (1, 3, 640, 640)\n",
      "✅ Saved: 82210021-8-s-l300_jpg.rf.1119f740aab758031d5ea9b0c243c571.jpg\n",
      "\n",
      "image 1/1 c:\\EDUCATION\\IMAGE DETECTION\\images\\87349bc0-1-placa-mexicana-del-estado-de-guerrero-2015-ha-D_NQ_NP_781642-MLM3117_Zkgb6rW.jpg: 480x640 1 Number plate, 18.1ms\n",
      "Speed: 3.0ms preprocess, 18.1ms inference, 1.8ms postprocess per image at shape (1, 3, 480, 640)\n",
      "✅ Saved: 87349bc0-1-placa-mexicana-del-estado-de-guerrero-2015-ha-D_NQ_NP_781642-MLM3117_Zkgb6rW.jpg\n",
      "\n",
      "image 1/1 c:\\EDUCATION\\IMAGE DETECTION\\images\\886a7e70-01a916bfaa3a7427_jpg.rf.3c530f92ad2726bc8d3e0da189670a0d.jpg: 480x640 3 Cars, 3 Number plates, 1 Truck, 17.2ms\n",
      "Speed: 2.9ms preprocess, 17.2ms inference, 1.9ms postprocess per image at shape (1, 3, 480, 640)\n",
      "✅ Saved: 886a7e70-01a916bfaa3a7427_jpg.rf.3c530f92ad2726bc8d3e0da189670a0d.jpg\n",
      "\n",
      "image 1/1 c:\\EDUCATION\\IMAGE DETECTION\\images\\8bcf731e-000f52302c1341eb_jpg.rf.cb9e0adc1f4964f2a3607ebf92018da9.jpg: 448x640 1 Car, 1 Number plate, 4 Persons, 17.3ms\n",
      "Speed: 3.0ms preprocess, 17.3ms inference, 2.0ms postprocess per image at shape (1, 3, 448, 640)\n",
      "✅ Saved: 8bcf731e-000f52302c1341eb_jpg.rf.cb9e0adc1f4964f2a3607ebf92018da9.jpg\n",
      "\n",
      "image 1/1 c:\\EDUCATION\\IMAGE DETECTION\\images\\918fae2b-1dSd2kLAEm6isLHkfA6eG8Q_jpeg_jpg.rf.e7781bf9888ad51e8f824c00e3238eb5.jpg: 448x640 4 Cars, 4 Number plates, 16.8ms\n",
      "Speed: 3.1ms preprocess, 16.8ms inference, 2.7ms postprocess per image at shape (1, 3, 448, 640)\n",
      "✅ Saved: 918fae2b-1dSd2kLAEm6isLHkfA6eG8Q_jpeg_jpg.rf.e7781bf9888ad51e8f824c00e3238eb5.jpg\n",
      "\n",
      "image 1/1 c:\\EDUCATION\\IMAGE DETECTION\\images\\93439181-01e03ec69847f36c_jpg.rf.7a353df5375b0e77e9c7a38c05f8e7ed.jpg: 480x640 1 Car, 1 Number plate, 1 Truck, 9.1ms\n",
      "Speed: 1.9ms preprocess, 9.1ms inference, 1.7ms postprocess per image at shape (1, 3, 480, 640)\n",
      "✅ Saved: 93439181-01e03ec69847f36c_jpg.rf.7a353df5375b0e77e9c7a38c05f8e7ed.jpg\n",
      "\n",
      "image 1/1 c:\\EDUCATION\\IMAGE DETECTION\\images\\93cb50d9-00d202cef5442753_jpg.rf.f6ccbdb6109580f5295388be74d0f552.jpg: 448x640 3 Cars, 1 Number plate, 1 Person, 11.9ms\n",
      "Speed: 1.8ms preprocess, 11.9ms inference, 2.0ms postprocess per image at shape (1, 3, 448, 640)\n",
      "✅ Saved: 93cb50d9-00d202cef5442753_jpg.rf.f6ccbdb6109580f5295388be74d0f552.jpg\n",
      "\n",
      "image 1/1 c:\\EDUCATION\\IMAGE DETECTION\\images\\9440b0b0-8T8A8881-web-900x600_jpg.rf.9aee55a5728b446828cedb84e4e312d4.jpg: 448x640 1 Number plate, 13.0ms\n",
      "Speed: 1.7ms preprocess, 13.0ms inference, 2.3ms postprocess per image at shape (1, 3, 448, 640)\n",
      "✅ Saved: 9440b0b0-8T8A8881-web-900x600_jpg.rf.9aee55a5728b446828cedb84e4e312d4.jpg\n",
      "\n",
      "image 1/1 c:\\EDUCATION\\IMAGE DETECTION\\images\\96b53973-003df8cf2effae50_jpg.rf.61ce008bd19bed574c6ca8aecca486e5.jpg: 480x640 2 Number plates, 1 Truck, 13.0ms\n",
      "Speed: 2.0ms preprocess, 13.0ms inference, 1.6ms postprocess per image at shape (1, 3, 480, 640)\n",
      "✅ Saved: 96b53973-003df8cf2effae50_jpg.rf.61ce008bd19bed574c6ca8aecca486e5.jpg\n",
      "\n",
      "image 1/1 c:\\EDUCATION\\IMAGE DETECTION\\images\\96e66642-00d5963c8f8e5381_jpg.rf.294ff94b8b93ed179203559c25fdcbe0.jpg: 448x640 1 Car, 1 Number plate, 1 Truck, 10.9ms\n",
      "Speed: 1.8ms preprocess, 10.9ms inference, 2.8ms postprocess per image at shape (1, 3, 448, 640)\n",
      "✅ Saved: 96e66642-00d5963c8f8e5381_jpg.rf.294ff94b8b93ed179203559c25fdcbe0.jpg\n",
      "\n",
      "image 1/1 c:\\EDUCATION\\IMAGE DETECTION\\images\\974c48e3-02ba8c25851c7e9d_jpg.rf.ad5554449f0aa5fda8708cf2ef546eaf.jpg: 480x640 8 Cars, 2 Number plates, 3 Trucks, 11.2ms\n",
      "Speed: 2.7ms preprocess, 11.2ms inference, 2.1ms postprocess per image at shape (1, 3, 480, 640)\n",
      "✅ Saved: 974c48e3-02ba8c25851c7e9d_jpg.rf.ad5554449f0aa5fda8708cf2ef546eaf.jpg\n",
      "\n",
      "image 1/1 c:\\EDUCATION\\IMAGE DETECTION\\images\\9bc7b032-004abd1e49165b1c_jpg.rf.7a52bca0da71c3614271bfb15a803db5.jpg: 448x640 2 Cars, 2 Number plates, 10.8ms\n",
      "Speed: 2.1ms preprocess, 10.8ms inference, 1.6ms postprocess per image at shape (1, 3, 448, 640)\n",
      "✅ Saved: 9bc7b032-004abd1e49165b1c_jpg.rf.7a52bca0da71c3614271bfb15a803db5.jpg\n",
      "\n",
      "image 1/1 c:\\EDUCATION\\IMAGE DETECTION\\images\\9dc8a2b8-00009e5b390986a0_jpg.rf.55e1f337c1c83840749af7c577b4057d.jpg: 448x640 1 Car, 1 Number plate, 3 Persons, 11.7ms\n",
      "Speed: 1.5ms preprocess, 11.7ms inference, 1.7ms postprocess per image at shape (1, 3, 448, 640)\n",
      "✅ Saved: 9dc8a2b8-00009e5b390986a0_jpg.rf.55e1f337c1c83840749af7c577b4057d.jpg\n",
      "\n",
      "image 1/1 c:\\EDUCATION\\IMAGE DETECTION\\images\\9f7ebb71-00bffc29492dbc26_jpg.rf.72a3c617bf9379bf31ea90a0c189b21a.jpg: 480x640 4 Cars, 1 Number plate, 8.8ms\n",
      "Speed: 1.8ms preprocess, 8.8ms inference, 1.7ms postprocess per image at shape (1, 3, 480, 640)\n",
      "✅ Saved: 9f7ebb71-00bffc29492dbc26_jpg.rf.72a3c617bf9379bf31ea90a0c189b21a.jpg\n",
      "\n",
      "image 1/1 c:\\EDUCATION\\IMAGE DETECTION\\images\\a11eedf7-00d03a35f54e8386_jpg.rf.cc10cded435860fea5ff332ae4b08613.jpg: 576x640 1 Number plate, 1 Truck, 46.8ms\n",
      "Speed: 3.2ms preprocess, 46.8ms inference, 1.6ms postprocess per image at shape (1, 3, 576, 640)\n",
      "✅ Saved: a11eedf7-00d03a35f54e8386_jpg.rf.cc10cded435860fea5ff332ae4b08613.jpg\n",
      "\n",
      "image 1/1 c:\\EDUCATION\\IMAGE DETECTION\\images\\a97c0760-3-D_NQ_NP_858868-MLM31711653804_082019-W_jpg.rf.ae6f2e7f6d4c6a3364fd78_F9CVQwl.jpg: 480x640 1 Number plate, 14.5ms\n",
      "Speed: 1.7ms preprocess, 14.5ms inference, 2.3ms postprocess per image at shape (1, 3, 480, 640)\n",
      "✅ Saved: a97c0760-3-D_NQ_NP_858868-MLM31711653804_082019-W_jpg.rf.ae6f2e7f6d4c6a3364fd78_F9CVQwl.jpg\n",
      "\n",
      "image 1/1 c:\\EDUCATION\\IMAGE DETECTION\\images\\a9f914a7-00ceeec7002bace0_jpg.rf.79178a5bfbb460e0e701b318b1e3f371.jpg: 480x640 4 Cars, 1 Number plate, 10.2ms\n",
      "Speed: 1.9ms preprocess, 10.2ms inference, 1.9ms postprocess per image at shape (1, 3, 480, 640)\n",
      "✅ Saved: a9f914a7-00ceeec7002bace0_jpg.rf.79178a5bfbb460e0e701b318b1e3f371.jpg\n",
      "\n",
      "image 1/1 c:\\EDUCATION\\IMAGE DETECTION\\images\\abc060dc-004f138ad0d084ae_jpg.rf.1d679365b1a0e9bbac053a5376e7fdcc.jpg: 640x448 1 Car, 2 Number plates, 11.0ms\n",
      "Speed: 1.9ms preprocess, 11.0ms inference, 1.7ms postprocess per image at shape (1, 3, 640, 448)\n",
      "✅ Saved: abc060dc-004f138ad0d084ae_jpg.rf.1d679365b1a0e9bbac053a5376e7fdcc.jpg\n",
      "\n",
      "image 1/1 c:\\EDUCATION\\IMAGE DETECTION\\images\\ac4220ad-004aebeb3dea697a_jpg.rf.76c8ba45f0f629479eb648523fd952d6.jpg: 448x640 1 Number plate, 9.9ms\n",
      "Speed: 1.6ms preprocess, 9.9ms inference, 1.6ms postprocess per image at shape (1, 3, 448, 640)\n",
      "✅ Saved: ac4220ad-004aebeb3dea697a_jpg.rf.76c8ba45f0f629479eb648523fd952d6.jpg\n",
      "\n",
      "image 1/1 c:\\EDUCATION\\IMAGE DETECTION\\images\\aca70f31-00b1eb629cde980e_jpg.rf.258161a0ce600cfa6e4a0bf52898866f.jpg: 448x640 1 Car, 1 Number plate, 1 Person, 8.7ms\n",
      "Speed: 1.9ms preprocess, 8.7ms inference, 2.4ms postprocess per image at shape (1, 3, 448, 640)\n",
      "✅ Saved: aca70f31-00b1eb629cde980e_jpg.rf.258161a0ce600cfa6e4a0bf52898866f.jpg\n",
      "\n",
      "image 1/1 c:\\EDUCATION\\IMAGE DETECTION\\images\\acee66f2-002cff1919a39fe7_jpg.rf.827b320a93b742cea302951f41e1ea13.jpg: 480x640 1 Number plate, 1 Truck, 9.4ms\n",
      "Speed: 2.2ms preprocess, 9.4ms inference, 1.8ms postprocess per image at shape (1, 3, 480, 640)\n",
      "✅ Saved: acee66f2-002cff1919a39fe7_jpg.rf.827b320a93b742cea302951f41e1ea13.jpg\n",
      "\n",
      "image 1/1 c:\\EDUCATION\\IMAGE DETECTION\\images\\ad553dae-00f8eb771370fabc_jpg.rf.1d8e6a81895d2f294dcac4945873e371.jpg: 448x640 1 Number plate, 13.6ms\n",
      "Speed: 1.6ms preprocess, 13.6ms inference, 1.9ms postprocess per image at shape (1, 3, 448, 640)\n",
      "✅ Saved: ad553dae-00f8eb771370fabc_jpg.rf.1d8e6a81895d2f294dcac4945873e371.jpg\n",
      "\n",
      "image 1/1 c:\\EDUCATION\\IMAGE DETECTION\\images\\adce31bf-00d087736d290d66_jpg.rf.47afc4e8f07cfe771f5aafc1158aad73.jpg: 448x640 1 Car, 1 Number plate, 10.5ms\n",
      "Speed: 2.0ms preprocess, 10.5ms inference, 1.7ms postprocess per image at shape (1, 3, 448, 640)\n",
      "✅ Saved: adce31bf-00d087736d290d66_jpg.rf.47afc4e8f07cfe771f5aafc1158aad73.jpg\n",
      "\n",
      "image 1/1 c:\\EDUCATION\\IMAGE DETECTION\\images\\b746c73e-010abd2fab4f5949_jpg.rf.b265b7ed8570aa6a8b5b0e382a5e79b9.jpg: 480x640 6 Cars, 2 Number plates, 1 Person, 10.9ms\n",
      "Speed: 2.0ms preprocess, 10.9ms inference, 1.9ms postprocess per image at shape (1, 3, 480, 640)\n",
      "✅ Saved: b746c73e-010abd2fab4f5949_jpg.rf.b265b7ed8570aa6a8b5b0e382a5e79b9.jpg\n",
      "\n",
      "image 1/1 c:\\EDUCATION\\IMAGE DETECTION\\images\\b9f4c98d-01df220cc71e07af_jpg.rf.2ae267a55851f4799f7af0b70efebf29.jpg: 480x640 2 Cars, 1 Number plate, 9.4ms\n",
      "Speed: 1.9ms preprocess, 9.4ms inference, 2.0ms postprocess per image at shape (1, 3, 480, 640)\n",
      "✅ Saved: b9f4c98d-01df220cc71e07af_jpg.rf.2ae267a55851f4799f7af0b70efebf29.jpg\n",
      "\n",
      "image 1/1 c:\\EDUCATION\\IMAGE DETECTION\\images\\ba703c03-10-GRO-GZA9999-GZD-Auto_jpg.rf.49ed6373b98fe893c77d4e4270eb3858.jpg: 352x640 1 Number plate, 11.0ms\n",
      "Speed: 1.3ms preprocess, 11.0ms inference, 2.3ms postprocess per image at shape (1, 3, 352, 640)\n",
      "✅ Saved: ba703c03-10-GRO-GZA9999-GZD-Auto_jpg.rf.49ed6373b98fe893c77d4e4270eb3858.jpg\n",
      "\n",
      "image 1/1 c:\\EDUCATION\\IMAGE DETECTION\\images\\bb1240f7-004e03d45963728e_jpg.rf.c6a5bbe448f539f5adbdc17c9d9cdd0f.jpg: 448x640 1 Bus, 2 Cars, 1 Number plate, 10.3ms\n",
      "Speed: 2.3ms preprocess, 10.3ms inference, 2.1ms postprocess per image at shape (1, 3, 448, 640)\n",
      "✅ Saved: bb1240f7-004e03d45963728e_jpg.rf.c6a5bbe448f539f5adbdc17c9d9cdd0f.jpg\n",
      "\n",
      "image 1/1 c:\\EDUCATION\\IMAGE DETECTION\\images\\bc178b0b-9-s-l400_jpg.rf.380595c22915f91113e4a8b1d79b6555.jpg: 640x448 3 Number plates, 10.9ms\n",
      "Speed: 1.6ms preprocess, 10.9ms inference, 1.6ms postprocess per image at shape (1, 3, 640, 448)\n",
      "✅ Saved: bc178b0b-9-s-l400_jpg.rf.380595c22915f91113e4a8b1d79b6555.jpg\n",
      "\n",
      "image 1/1 c:\\EDUCATION\\IMAGE DETECTION\\images\\c2293255-004e5085b8127281_jpg.rf.563e87210d050fd8e96c5b306883cc28.jpg: 480x640 3 Buss, 1 Number plate, 1 Truck, 10.4ms\n",
      "Speed: 2.0ms preprocess, 10.4ms inference, 2.1ms postprocess per image at shape (1, 3, 480, 640)\n",
      "✅ Saved: c2293255-004e5085b8127281_jpg.rf.563e87210d050fd8e96c5b306883cc28.jpg\n",
      "\n",
      "image 1/1 c:\\EDUCATION\\IMAGE DETECTION\\images\\c5b6bffd-1_jpg.rf.eeea954cac78b8a206786a2f8b81c471.jpg: 448x640 1 Car, 1 Number plate, 19.9ms\n",
      "Speed: 1.4ms preprocess, 19.9ms inference, 2.9ms postprocess per image at shape (1, 3, 448, 640)\n",
      "✅ Saved: c5b6bffd-1_jpg.rf.eeea954cac78b8a206786a2f8b81c471.jpg\n",
      "\n",
      "image 1/1 c:\\EDUCATION\\IMAGE DETECTION\\images\\c65bbbd9-01a599bd26b8ebf8_jpg.rf.66edf37bd974849e1816aa07601451a4.jpg: 640x448 5 Cars, 3 Number plates, 1 Truck, 13.2ms\n",
      "Speed: 1.6ms preprocess, 13.2ms inference, 2.4ms postprocess per image at shape (1, 3, 640, 448)\n",
      "✅ Saved: c65bbbd9-01a599bd26b8ebf8_jpg.rf.66edf37bd974849e1816aa07601451a4.jpg\n",
      "\n",
      "image 1/1 c:\\EDUCATION\\IMAGE DETECTION\\images\\c65edbd2-01d0a3d07e032990_jpg.rf.cd878aeebf33373a563636b69f20055c.jpg: 352x640 1 Car, 10.5ms\n",
      "Speed: 1.6ms preprocess, 10.5ms inference, 2.3ms postprocess per image at shape (1, 3, 352, 640)\n",
      "✅ Saved: c65edbd2-01d0a3d07e032990_jpg.rf.cd878aeebf33373a563636b69f20055c.jpg\n",
      "\n",
      "image 1/1 c:\\EDUCATION\\IMAGE DETECTION\\images\\c6b432ff-00fd1096ba77710e_jpg.rf.e250f7426bdb5a3ee5b96f5b6cc3dd69.jpg: 480x640 1 Bus, 2 Cars, 1 Number plate, 1 Truck, 11.9ms\n",
      "Speed: 3.0ms preprocess, 11.9ms inference, 2.7ms postprocess per image at shape (1, 3, 480, 640)\n",
      "✅ Saved: c6b432ff-00fd1096ba77710e_jpg.rf.e250f7426bdb5a3ee5b96f5b6cc3dd69.jpg\n",
      "\n",
      "image 1/1 c:\\EDUCATION\\IMAGE DETECTION\\images\\c7090679-01e1ec24455d60a0_jpg.rf.060704ce28d8961194d3e125f8ce6d32.jpg: 448x640 6 Cars, 1 Number plate, 11.4ms\n",
      "Speed: 1.8ms preprocess, 11.4ms inference, 1.9ms postprocess per image at shape (1, 3, 448, 640)\n",
      "✅ Saved: c7090679-01e1ec24455d60a0_jpg.rf.060704ce28d8961194d3e125f8ce6d32.jpg\n",
      "\n",
      "image 1/1 c:\\EDUCATION\\IMAGE DETECTION\\images\\c919d369-00d9a751d73ee232_jpg.rf.646e9a932ed5c4a485563d092c5804f4.jpg: 544x640 1 Number plate, 1 Truck, 51.7ms\n",
      "Speed: 2.6ms preprocess, 51.7ms inference, 2.7ms postprocess per image at shape (1, 3, 544, 640)\n",
      "✅ Saved: c919d369-00d9a751d73ee232_jpg.rf.646e9a932ed5c4a485563d092c5804f4.jpg\n",
      "\n",
      "image 1/1 c:\\EDUCATION\\IMAGE DETECTION\\images\\cd786d4a-5-20Ways-20To-20Upgrade-20Your-20Car-20License-20Plate-20-_y_jpg.rf.7e_J6jpPcR.jpg: 384x640 1 Car, 1 Number plate, 9.4ms\n",
      "Speed: 1.6ms preprocess, 9.4ms inference, 1.6ms postprocess per image at shape (1, 3, 384, 640)\n",
      "✅ Saved: cd786d4a-5-20Ways-20To-20Upgrade-20Your-20Car-20License-20Plate-20-_y_jpg.rf.7e_J6jpPcR.jpg\n",
      "\n",
      "image 1/1 c:\\EDUCATION\\IMAGE DETECTION\\images\\cfc34241-5b9ab9cb-b955-42ff-a05c-120d1904c69f-Digital_plate_jpg.rf.763576c6edb9_5yIurpg.jpg: 640x640 1 Number plate, 9.2ms\n",
      "Speed: 3.3ms preprocess, 9.2ms inference, 1.6ms postprocess per image at shape (1, 3, 640, 640)\n",
      "✅ Saved: cfc34241-5b9ab9cb-b955-42ff-a05c-120d1904c69f-Digital_plate_jpg.rf.763576c6edb9_5yIurpg.jpg\n",
      "\n",
      "image 1/1 c:\\EDUCATION\\IMAGE DETECTION\\images\\cffa1b62-01b2258172841ebc_jpg.rf.24743339e385cb99696b9ef14e6c2785.jpg: 448x640 1 Car, 1 Number plate, 1 Person, 9.3ms\n",
      "Speed: 1.7ms preprocess, 9.3ms inference, 1.6ms postprocess per image at shape (1, 3, 448, 640)\n",
      "✅ Saved: cffa1b62-01b2258172841ebc_jpg.rf.24743339e385cb99696b9ef14e6c2785.jpg\n",
      "\n",
      "image 1/1 c:\\EDUCATION\\IMAGE DETECTION\\images\\d224db73-02f914b2cec48820_jpg.rf.373ddc6b80ad38770f6c8e6813f17a45.jpg: 480x640 4 Cars, 1 Number plate, 1 Person, 11.6ms\n",
      "Speed: 2.3ms preprocess, 11.6ms inference, 2.2ms postprocess per image at shape (1, 3, 480, 640)\n",
      "✅ Saved: d224db73-02f914b2cec48820_jpg.rf.373ddc6b80ad38770f6c8e6813f17a45.jpg\n",
      "\n",
      "image 1/1 c:\\EDUCATION\\IMAGE DETECTION\\images\\d55524b7-00d0c3e342d41462_jpg.rf.300a9275c77d652ecd6f556f728225c5.jpg: 480x640 1 Car, 1 Number plate, 8.3ms\n",
      "Speed: 2.0ms preprocess, 8.3ms inference, 1.7ms postprocess per image at shape (1, 3, 480, 640)\n",
      "✅ Saved: d55524b7-00d0c3e342d41462_jpg.rf.300a9275c77d652ecd6f556f728225c5.jpg\n",
      "\n",
      "image 1/1 c:\\EDUCATION\\IMAGE DETECTION\\images\\db8a304d-012ee3701bb7582c_jpg.rf.83ece1d5d156ac95f32fd4c924021be3.jpg: 448x640 2 Cars, 1 Number plate, 9.0ms\n",
      "Speed: 1.9ms preprocess, 9.0ms inference, 1.7ms postprocess per image at shape (1, 3, 448, 640)\n",
      "✅ Saved: db8a304d-012ee3701bb7582c_jpg.rf.83ece1d5d156ac95f32fd4c924021be3.jpg\n",
      "\n",
      "image 1/1 c:\\EDUCATION\\IMAGE DETECTION\\images\\dc61fdd8-002c48dd05cc3b85_jpg.rf.f30ab0e9da436dfd6a7a87c378d9f418.jpg: 448x640 1 Bus, 1 Number plate, 9.3ms\n",
      "Speed: 1.6ms preprocess, 9.3ms inference, 1.8ms postprocess per image at shape (1, 3, 448, 640)\n",
      "✅ Saved: dc61fdd8-002c48dd05cc3b85_jpg.rf.f30ab0e9da436dfd6a7a87c378d9f418.jpg\n",
      "\n",
      "image 1/1 c:\\EDUCATION\\IMAGE DETECTION\\images\\e0a01686-00a09b822d470896_jpg.rf.8ffc64bea4b5bb78d9cc4ba81b559556.jpg: 448x640 1 Bus, 2 Cars, 2 Number plates, 2 Persons, 8.6ms\n",
      "Speed: 1.5ms preprocess, 8.6ms inference, 2.5ms postprocess per image at shape (1, 3, 448, 640)\n",
      "✅ Saved: e0a01686-00a09b822d470896_jpg.rf.8ffc64bea4b5bb78d9cc4ba81b559556.jpg\n",
      "\n",
      "image 1/1 c:\\EDUCATION\\IMAGE DETECTION\\images\\e0fb2931-4-cdmx2019_jpg.rf.f89b361120e505ff0950b11d41bdf539.jpg: 320x640 1 Number plate, 10.9ms\n",
      "Speed: 1.1ms preprocess, 10.9ms inference, 1.7ms postprocess per image at shape (1, 3, 320, 640)\n",
      "✅ Saved: e0fb2931-4-cdmx2019_jpg.rf.f89b361120e505ff0950b11d41bdf539.jpg\n",
      "\n",
      "image 1/1 c:\\EDUCATION\\IMAGE DETECTION\\images\\e2ef3530-002f860e692757f7_jpg.rf.13e46a05e1ea522c14b5c0410f2bbfe9.jpg: 448x640 5 Cars, 1 Person, 9.8ms\n",
      "Speed: 2.1ms preprocess, 9.8ms inference, 3.8ms postprocess per image at shape (1, 3, 448, 640)\n",
      "✅ Saved: e2ef3530-002f860e692757f7_jpg.rf.13e46a05e1ea522c14b5c0410f2bbfe9.jpg\n",
      "\n",
      "image 1/1 c:\\EDUCATION\\IMAGE DETECTION\\images\\e5eb0383-002e3bd6fea3828a_jpg.rf.52bdb982d881e0763f08339a3ac90e3c.jpg: 640x640 1 Car, 2 Persons, 8.6ms\n",
      "Speed: 3.6ms preprocess, 8.6ms inference, 1.6ms postprocess per image at shape (1, 3, 640, 640)\n",
      "✅ Saved: e5eb0383-002e3bd6fea3828a_jpg.rf.52bdb982d881e0763f08339a3ac90e3c.jpg\n",
      "\n",
      "image 1/1 c:\\EDUCATION\\IMAGE DETECTION\\images\\e6cb0387-00ca4b949dd426f8_jpg.rf.63206c5d9dcb16bd7ff227db40aebb36.jpg: 480x640 3 Buss, 2 Number plates, 11.2ms\n",
      "Speed: 2.0ms preprocess, 11.2ms inference, 1.7ms postprocess per image at shape (1, 3, 480, 640)\n",
      "✅ Saved: e6cb0387-00ca4b949dd426f8_jpg.rf.63206c5d9dcb16bd7ff227db40aebb36.jpg\n",
      "\n",
      "image 1/1 c:\\EDUCATION\\IMAGE DETECTION\\images\\eb54b442-0006dc0977056410_jpg.rf.a028f7ab5502774a062c496c7d7f3899.jpg: 608x640 2 Cars, 1 Number plate, 1 Person, 49.5ms\n",
      "Speed: 3.0ms preprocess, 49.5ms inference, 1.6ms postprocess per image at shape (1, 3, 608, 640)\n",
      "✅ Saved: eb54b442-0006dc0977056410_jpg.rf.a028f7ab5502774a062c496c7d7f3899.jpg\n",
      "\n",
      "image 1/1 c:\\EDUCATION\\IMAGE DETECTION\\images\\ed776929-00fb62be50bc2353_jpg.rf.3003dbc5011b37d769d8aa81d72658e0.jpg: 512x640 1 Car, 1 Number plate, 47.8ms\n",
      "Speed: 2.7ms preprocess, 47.8ms inference, 2.3ms postprocess per image at shape (1, 3, 512, 640)\n",
      "✅ Saved: ed776929-00fb62be50bc2353_jpg.rf.3003dbc5011b37d769d8aa81d72658e0.jpg\n",
      "\n",
      "image 1/1 c:\\EDUCATION\\IMAGE DETECTION\\images\\ef6d924d-009d23e04f2fccd8_jpg.rf.ba0b56200422ed2becb56eff811341fe.jpg: 480x640 4 Cars, 1 Person, 10.4ms\n",
      "Speed: 2.0ms preprocess, 10.4ms inference, 2.0ms postprocess per image at shape (1, 3, 480, 640)\n",
      "✅ Saved: ef6d924d-009d23e04f2fccd8_jpg.rf.ba0b56200422ed2becb56eff811341fe.jpg\n",
      "\n",
      "image 1/1 c:\\EDUCATION\\IMAGE DETECTION\\images\\f0946e01-002b11030ee89858_jpg.rf.d8abd50a4d4ccdd7783c026152be33b1.jpg: 448x640 1 Number plate, 1 Truck, 12.7ms\n",
      "Speed: 1.6ms preprocess, 12.7ms inference, 1.6ms postprocess per image at shape (1, 3, 448, 640)\n",
      "✅ Saved: f0946e01-002b11030ee89858_jpg.rf.d8abd50a4d4ccdd7783c026152be33b1.jpg\n",
      "\n",
      "image 1/1 c:\\EDUCATION\\IMAGE DETECTION\\images\\f3d36351-01b929953b0671ae_jpg.rf.368950c97736d363ddbd2191db276860.jpg: 480x640 4 Cars, 10.5ms\n",
      "Speed: 1.7ms preprocess, 10.5ms inference, 2.1ms postprocess per image at shape (1, 3, 480, 640)\n",
      "✅ Saved: f3d36351-01b929953b0671ae_jpg.rf.368950c97736d363ddbd2191db276860.jpg\n",
      "\n",
      "image 1/1 c:\\EDUCATION\\IMAGE DETECTION\\images\\f66f99c8-01b09b8072388fdb_jpg.rf.c7e61c1d324daf75cb27a3c749e8d271.jpg: 448x640 3 Cars, 3 Number plates, 12.2ms\n",
      "Speed: 1.7ms preprocess, 12.2ms inference, 3.6ms postprocess per image at shape (1, 3, 448, 640)\n",
      "✅ Saved: f66f99c8-01b09b8072388fdb_jpg.rf.c7e61c1d324daf75cb27a3c749e8d271.jpg\n",
      "\n",
      "image 1/1 c:\\EDUCATION\\IMAGE DETECTION\\images\\f92fe7be-01b5c6bc9d18b4e7_jpg.rf.b1f5aee938113471dacbd12f940fdb78.jpg: 480x640 2 Buss, 3 Cars, 1 Number plate, 11.0ms\n",
      "Speed: 1.8ms preprocess, 11.0ms inference, 2.1ms postprocess per image at shape (1, 3, 480, 640)\n",
      "✅ Saved: f92fe7be-01b5c6bc9d18b4e7_jpg.rf.b1f5aee938113471dacbd12f940fdb78.jpg\n",
      "\n",
      "image 1/1 c:\\EDUCATION\\IMAGE DETECTION\\images\\fbff0a2b-2-D_NQ_NP_771519-MLM32984405313_112019-W_jpg.rf.3bd207ec9b5f2c0bec67cd_VCL6cUp.jpg: 480x640 1 Number plate, 9.6ms\n",
      "Speed: 1.8ms preprocess, 9.6ms inference, 2.2ms postprocess per image at shape (1, 3, 480, 640)\n",
      "✅ Saved: fbff0a2b-2-D_NQ_NP_771519-MLM32984405313_112019-W_jpg.rf.3bd207ec9b5f2c0bec67cd_VCL6cUp.jpg\n",
      "\n",
      "🎉 Detection complete. Results stored in 'predicted_results/' folder.\n"
     ]
    }
   ],
   "source": [
    "from pathlib import Path\n",
    "\n",
    "# Folder containing test images\n",
    "input_folder = Path('images')\n",
    "# Output folder to save results\n",
    "output_folder = Path('predicted_results')\n",
    "output_folder.mkdir(exist_ok=True)\n",
    "\n",
    "# Loop through each image\n",
    "for img_path in input_folder.glob('*.jpg'):\n",
    "    try:\n",
    "        # Run inference\n",
    "        results = model(str(img_path))\n",
    "        \n",
    "        # Save the result image to output folder\n",
    "        output_path = output_folder / img_path.name\n",
    "        results[0].save(filename=str(output_path))\n",
    "\n",
    "        print(f\"✅ Saved: {output_path.name}\")\n",
    "        \n",
    "    except Exception as e:\n",
    "        print(f\"❌ Error processing {img_path.name}: {e}\")\n",
    "\n",
    "print(\"\\n🎉 Detection complete. Results stored in 'predicted_results/' folder.\")"
   ]
  }
 ],
 "metadata": {
  "kernelspec": {
   "display_name": "venv",
   "language": "python",
   "name": "python3"
  },
  "language_info": {
   "codemirror_mode": {
    "name": "ipython",
    "version": 3
   },
   "file_extension": ".py",
   "mimetype": "text/x-python",
   "name": "python",
   "nbconvert_exporter": "python",
   "pygments_lexer": "ipython3",
   "version": "3.9.13"
  }
 },
 "nbformat": 4,
 "nbformat_minor": 5
}
